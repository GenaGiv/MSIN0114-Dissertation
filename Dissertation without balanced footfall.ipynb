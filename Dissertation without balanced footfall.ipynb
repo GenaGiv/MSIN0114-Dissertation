{
 "cells": [
  {
   "cell_type": "markdown",
   "id": "73d992ec",
   "metadata": {},
   "source": [
    "# MSIN0114 Dissertation Project "
   ]
  },
  {
   "cell_type": "code",
   "execution_count": 1,
   "id": "6728ca5c",
   "metadata": {},
   "outputs": [],
   "source": [
    "#Enabling multiple outputs\n",
    "from IPython.core.interactiveshell import InteractiveShell\n",
    "InteractiveShell.ast_node_interactivity = \"all\""
   ]
  },
  {
   "cell_type": "code",
   "execution_count": 2,
   "id": "4f98e76e",
   "metadata": {},
   "outputs": [],
   "source": [
    "#Import necessary libraries\n",
    "import pandas as pd\n",
    "import numpy as np\n",
    "import warnings\n",
    "warnings.filterwarnings(\"ignore\")\n",
    "from shapely.geometry import Point\n",
    "from shapely.geometry import Polygon\n",
    "from shapely.geometry import shape\n",
    "from datetime import datetime, timedelta\n",
    "\n",
    "#Visualisation packages\n",
    "import matplotlib.pyplot as plt\n",
    "%matplotlib inline\n",
    "import matplotlib.font_manager as fm\n",
    "plt.style.use('ggplot')\n",
    "import seaborn as sns\n",
    "import geopandas as gpd\n",
    "import folium\n",
    "from folium.plugins import MarkerCluster\n",
    "\n",
    "#Other packages for data preprocessing\n",
    "from sklearn.preprocessing import OrdinalEncoder\n",
    "import category_encoders as ce\n",
    "from sklearn.preprocessing import RobustScaler\n",
    "from sklearn.model_selection import train_test_split\n",
    "\n",
    "#Models\n",
    "from sklearn.ensemble import RandomForestRegressor\n",
    "from sklearn.metrics import mean_squared_error, mean_absolute_error, r2_score\n",
    "from sklearn.model_selection import GridSearchCV\n",
    "import random\n",
    "from sklearn.model_selection import cross_val_score\n",
    "import xgboost as xgb\n",
    "from sklearn.linear_model import LinearRegression\n",
    "from sklearn.tree import DecisionTreeRegressor\n",
    "from sklearn.linear_model import ElasticNet\n",
    "from sklearn.linear_model import Lasso\n",
    "from sklearn.model_selection import learning_curve"
   ]
  },
  {
   "cell_type": "markdown",
   "id": "a7ca62a1",
   "metadata": {},
   "source": [
    "# Data"
   ]
  },
  {
   "cell_type": "markdown",
   "id": "20e60086",
   "metadata": {},
   "source": [
    "### Importing the datasets:"
   ]
  },
  {
   "cell_type": "markdown",
   "id": "ddfe173f",
   "metadata": {},
   "source": [
    "We got the footfall_data_full from the main notebook that hasn't generated the synthetic data based on the uneven balance of footfall values. \n",
    "\n",
    "We did this to create a comparison for the models performance based on the effect of generating the synthetic data to balance the outcome variable and not. "
   ]
  },
  {
   "cell_type": "code",
   "execution_count": 3,
   "id": "6441659b",
   "metadata": {},
   "outputs": [],
   "source": [
    "footfall_data_full = pd.read_csv(\"footfall_data_full.csv\")"
   ]
  },
  {
   "cell_type": "code",
   "execution_count": 4,
   "id": "2b86d723",
   "metadata": {},
   "outputs": [
    {
     "data": {
      "text/html": [
       "<div>\n",
       "<style scoped>\n",
       "    .dataframe tbody tr th:only-of-type {\n",
       "        vertical-align: middle;\n",
       "    }\n",
       "\n",
       "    .dataframe tbody tr th {\n",
       "        vertical-align: top;\n",
       "    }\n",
       "\n",
       "    .dataframe thead th {\n",
       "        text-align: right;\n",
       "    }\n",
       "</style>\n",
       "<table border=\"1\" class=\"dataframe\">\n",
       "  <thead>\n",
       "    <tr style=\"text-align: right;\">\n",
       "      <th></th>\n",
       "      <th>Unnamed: 0</th>\n",
       "      <th>Interval</th>\n",
       "      <th>Zone_Id</th>\n",
       "      <th>Footfall</th>\n",
       "      <th>Temp</th>\n",
       "      <th>Weather</th>\n",
       "      <th>Wind</th>\n",
       "      <th>Humidity</th>\n",
       "      <th>Barometer</th>\n",
       "      <th>Visibility</th>\n",
       "      <th>IsBankHoliday</th>\n",
       "      <th>IsSchoolHoliday</th>\n",
       "      <th>IsEventInZone</th>\n",
       "      <th>ProminentActivityInZone</th>\n",
       "      <th>Month</th>\n",
       "      <th>Hour</th>\n",
       "      <th>DayOfWeek</th>\n",
       "    </tr>\n",
       "  </thead>\n",
       "  <tbody>\n",
       "    <tr>\n",
       "      <th>0</th>\n",
       "      <td>0</td>\n",
       "      <td>2023-04-28 00:00:00</td>\n",
       "      <td>Zone 10</td>\n",
       "      <td>1</td>\n",
       "      <td>11.0</td>\n",
       "      <td>Broken clouds</td>\n",
       "      <td>24.0</td>\n",
       "      <td>82.0</td>\n",
       "      <td>1015.0</td>\n",
       "      <td>8.000000</td>\n",
       "      <td>False</td>\n",
       "      <td>False</td>\n",
       "      <td>True</td>\n",
       "      <td>Leisure / Activites</td>\n",
       "      <td>April</td>\n",
       "      <td>0</td>\n",
       "      <td>Friday</td>\n",
       "    </tr>\n",
       "    <tr>\n",
       "      <th>1</th>\n",
       "      <td>1</td>\n",
       "      <td>2023-04-28 06:00:00</td>\n",
       "      <td>Zone 10</td>\n",
       "      <td>1</td>\n",
       "      <td>11.0</td>\n",
       "      <td>Light rain</td>\n",
       "      <td>9.0</td>\n",
       "      <td>94.0</td>\n",
       "      <td>1011.0</td>\n",
       "      <td>6.234657</td>\n",
       "      <td>False</td>\n",
       "      <td>False</td>\n",
       "      <td>True</td>\n",
       "      <td>Leisure / Activites</td>\n",
       "      <td>April</td>\n",
       "      <td>6</td>\n",
       "      <td>Friday</td>\n",
       "    </tr>\n",
       "    <tr>\n",
       "      <th>2</th>\n",
       "      <td>2</td>\n",
       "      <td>2023-04-28 06:00:00</td>\n",
       "      <td>Zone 6</td>\n",
       "      <td>1</td>\n",
       "      <td>11.0</td>\n",
       "      <td>Light rain</td>\n",
       "      <td>9.0</td>\n",
       "      <td>94.0</td>\n",
       "      <td>1011.0</td>\n",
       "      <td>6.234657</td>\n",
       "      <td>False</td>\n",
       "      <td>False</td>\n",
       "      <td>True</td>\n",
       "      <td>Business Services</td>\n",
       "      <td>April</td>\n",
       "      <td>6</td>\n",
       "      <td>Friday</td>\n",
       "    </tr>\n",
       "    <tr>\n",
       "      <th>3</th>\n",
       "      <td>3</td>\n",
       "      <td>2023-04-28 07:00:00</td>\n",
       "      <td>Zone 10</td>\n",
       "      <td>1</td>\n",
       "      <td>11.0</td>\n",
       "      <td>Fog</td>\n",
       "      <td>14.0</td>\n",
       "      <td>94.0</td>\n",
       "      <td>1011.0</td>\n",
       "      <td>6.234657</td>\n",
       "      <td>False</td>\n",
       "      <td>False</td>\n",
       "      <td>True</td>\n",
       "      <td>Leisure / Activites</td>\n",
       "      <td>April</td>\n",
       "      <td>7</td>\n",
       "      <td>Friday</td>\n",
       "    </tr>\n",
       "    <tr>\n",
       "      <th>4</th>\n",
       "      <td>4</td>\n",
       "      <td>2023-04-28 07:00:00</td>\n",
       "      <td>Zone 6</td>\n",
       "      <td>2</td>\n",
       "      <td>11.0</td>\n",
       "      <td>Fog</td>\n",
       "      <td>14.0</td>\n",
       "      <td>94.0</td>\n",
       "      <td>1011.0</td>\n",
       "      <td>6.234657</td>\n",
       "      <td>False</td>\n",
       "      <td>False</td>\n",
       "      <td>True</td>\n",
       "      <td>Business Services</td>\n",
       "      <td>April</td>\n",
       "      <td>7</td>\n",
       "      <td>Friday</td>\n",
       "    </tr>\n",
       "    <tr>\n",
       "      <th>...</th>\n",
       "      <td>...</td>\n",
       "      <td>...</td>\n",
       "      <td>...</td>\n",
       "      <td>...</td>\n",
       "      <td>...</td>\n",
       "      <td>...</td>\n",
       "      <td>...</td>\n",
       "      <td>...</td>\n",
       "      <td>...</td>\n",
       "      <td>...</td>\n",
       "      <td>...</td>\n",
       "      <td>...</td>\n",
       "      <td>...</td>\n",
       "      <td>...</td>\n",
       "      <td>...</td>\n",
       "      <td>...</td>\n",
       "      <td>...</td>\n",
       "    </tr>\n",
       "    <tr>\n",
       "      <th>6868</th>\n",
       "      <td>6868</td>\n",
       "      <td>2023-06-28 19:00:00</td>\n",
       "      <td>Zone 6</td>\n",
       "      <td>1</td>\n",
       "      <td>17.0</td>\n",
       "      <td>Broken clouds</td>\n",
       "      <td>14.0</td>\n",
       "      <td>88.0</td>\n",
       "      <td>1017.0</td>\n",
       "      <td>6.234657</td>\n",
       "      <td>False</td>\n",
       "      <td>False</td>\n",
       "      <td>False</td>\n",
       "      <td>Business Services</td>\n",
       "      <td>June</td>\n",
       "      <td>19</td>\n",
       "      <td>Wednesday</td>\n",
       "    </tr>\n",
       "    <tr>\n",
       "      <th>6869</th>\n",
       "      <td>6869</td>\n",
       "      <td>2023-06-28 21:00:00</td>\n",
       "      <td>Zone 6</td>\n",
       "      <td>1</td>\n",
       "      <td>17.0</td>\n",
       "      <td>Broken clouds</td>\n",
       "      <td>9.0</td>\n",
       "      <td>83.0</td>\n",
       "      <td>1018.0</td>\n",
       "      <td>6.234657</td>\n",
       "      <td>False</td>\n",
       "      <td>False</td>\n",
       "      <td>False</td>\n",
       "      <td>Business Services</td>\n",
       "      <td>June</td>\n",
       "      <td>21</td>\n",
       "      <td>Wednesday</td>\n",
       "    </tr>\n",
       "    <tr>\n",
       "      <th>6870</th>\n",
       "      <td>6870</td>\n",
       "      <td>2023-06-28 21:00:00</td>\n",
       "      <td>Zone 6</td>\n",
       "      <td>1</td>\n",
       "      <td>17.0</td>\n",
       "      <td>Broken clouds</td>\n",
       "      <td>9.0</td>\n",
       "      <td>83.0</td>\n",
       "      <td>1018.0</td>\n",
       "      <td>6.234657</td>\n",
       "      <td>False</td>\n",
       "      <td>False</td>\n",
       "      <td>False</td>\n",
       "      <td>Business Services</td>\n",
       "      <td>June</td>\n",
       "      <td>21</td>\n",
       "      <td>Wednesday</td>\n",
       "    </tr>\n",
       "    <tr>\n",
       "      <th>6871</th>\n",
       "      <td>6871</td>\n",
       "      <td>2023-06-28 21:00:00</td>\n",
       "      <td>Zone 6</td>\n",
       "      <td>1</td>\n",
       "      <td>17.0</td>\n",
       "      <td>Broken clouds</td>\n",
       "      <td>9.0</td>\n",
       "      <td>83.0</td>\n",
       "      <td>1018.0</td>\n",
       "      <td>6.234657</td>\n",
       "      <td>False</td>\n",
       "      <td>False</td>\n",
       "      <td>False</td>\n",
       "      <td>Business Services</td>\n",
       "      <td>June</td>\n",
       "      <td>21</td>\n",
       "      <td>Wednesday</td>\n",
       "    </tr>\n",
       "    <tr>\n",
       "      <th>6872</th>\n",
       "      <td>6872</td>\n",
       "      <td>2023-06-28 21:00:00</td>\n",
       "      <td>Zone 6</td>\n",
       "      <td>1</td>\n",
       "      <td>17.0</td>\n",
       "      <td>Broken clouds</td>\n",
       "      <td>9.0</td>\n",
       "      <td>83.0</td>\n",
       "      <td>1018.0</td>\n",
       "      <td>6.234657</td>\n",
       "      <td>False</td>\n",
       "      <td>False</td>\n",
       "      <td>False</td>\n",
       "      <td>Business Services</td>\n",
       "      <td>June</td>\n",
       "      <td>21</td>\n",
       "      <td>Wednesday</td>\n",
       "    </tr>\n",
       "  </tbody>\n",
       "</table>\n",
       "<p>6873 rows × 17 columns</p>\n",
       "</div>"
      ],
      "text/plain": [
       "      Unnamed: 0             Interval  Zone_Id  Footfall  Temp        Weather  \\\n",
       "0              0  2023-04-28 00:00:00  Zone 10         1  11.0  Broken clouds   \n",
       "1              1  2023-04-28 06:00:00  Zone 10         1  11.0     Light rain   \n",
       "2              2  2023-04-28 06:00:00   Zone 6         1  11.0     Light rain   \n",
       "3              3  2023-04-28 07:00:00  Zone 10         1  11.0            Fog   \n",
       "4              4  2023-04-28 07:00:00   Zone 6         2  11.0            Fog   \n",
       "...          ...                  ...      ...       ...   ...            ...   \n",
       "6868        6868  2023-06-28 19:00:00   Zone 6         1  17.0  Broken clouds   \n",
       "6869        6869  2023-06-28 21:00:00   Zone 6         1  17.0  Broken clouds   \n",
       "6870        6870  2023-06-28 21:00:00   Zone 6         1  17.0  Broken clouds   \n",
       "6871        6871  2023-06-28 21:00:00   Zone 6         1  17.0  Broken clouds   \n",
       "6872        6872  2023-06-28 21:00:00   Zone 6         1  17.0  Broken clouds   \n",
       "\n",
       "      Wind  Humidity  Barometer  Visibility  IsBankHoliday  IsSchoolHoliday  \\\n",
       "0     24.0      82.0     1015.0    8.000000          False            False   \n",
       "1      9.0      94.0     1011.0    6.234657          False            False   \n",
       "2      9.0      94.0     1011.0    6.234657          False            False   \n",
       "3     14.0      94.0     1011.0    6.234657          False            False   \n",
       "4     14.0      94.0     1011.0    6.234657          False            False   \n",
       "...    ...       ...        ...         ...            ...              ...   \n",
       "6868  14.0      88.0     1017.0    6.234657          False            False   \n",
       "6869   9.0      83.0     1018.0    6.234657          False            False   \n",
       "6870   9.0      83.0     1018.0    6.234657          False            False   \n",
       "6871   9.0      83.0     1018.0    6.234657          False            False   \n",
       "6872   9.0      83.0     1018.0    6.234657          False            False   \n",
       "\n",
       "      IsEventInZone ProminentActivityInZone  Month  Hour  DayOfWeek  \n",
       "0              True     Leisure / Activites  April     0     Friday  \n",
       "1              True     Leisure / Activites  April     6     Friday  \n",
       "2              True       Business Services  April     6     Friday  \n",
       "3              True     Leisure / Activites  April     7     Friday  \n",
       "4              True       Business Services  April     7     Friday  \n",
       "...             ...                     ...    ...   ...        ...  \n",
       "6868          False       Business Services   June    19  Wednesday  \n",
       "6869          False       Business Services   June    21  Wednesday  \n",
       "6870          False       Business Services   June    21  Wednesday  \n",
       "6871          False       Business Services   June    21  Wednesday  \n",
       "6872          False       Business Services   June    21  Wednesday  \n",
       "\n",
       "[6873 rows x 17 columns]"
      ]
     },
     "execution_count": 4,
     "metadata": {},
     "output_type": "execute_result"
    }
   ],
   "source": [
    "footfall_data_full"
   ]
  },
  {
   "cell_type": "code",
   "execution_count": 5,
   "id": "a5fe19ea",
   "metadata": {},
   "outputs": [
    {
     "data": {
      "text/plain": [
       "Unnamed: 0                   int64\n",
       "Interval                    object\n",
       "Zone_Id                     object\n",
       "Footfall                     int64\n",
       "Temp                       float64\n",
       "Weather                     object\n",
       "Wind                       float64\n",
       "Humidity                   float64\n",
       "Barometer                  float64\n",
       "Visibility                 float64\n",
       "IsBankHoliday                 bool\n",
       "IsSchoolHoliday               bool\n",
       "IsEventInZone                 bool\n",
       "ProminentActivityInZone     object\n",
       "Month                       object\n",
       "Hour                         int64\n",
       "DayOfWeek                   object\n",
       "dtype: object"
      ]
     },
     "execution_count": 5,
     "metadata": {},
     "output_type": "execute_result"
    }
   ],
   "source": [
    "footfall_data_full.dtypes"
   ]
  },
  {
   "cell_type": "code",
   "execution_count": 6,
   "id": "eda5d904",
   "metadata": {},
   "outputs": [],
   "source": [
    "#Drop columns\n",
    "footfall_data_full.drop(columns=['Unnamed: 0'], inplace=True)"
   ]
  },
  {
   "cell_type": "code",
   "execution_count": 7,
   "id": "bbfaeb70",
   "metadata": {},
   "outputs": [],
   "source": [
    "#Convert Interval from object data type to datetime format\n",
    "footfall_data_full['Interval'] = pd.to_datetime(footfall_data_full['Interval'])\n",
    "#Sorting values for consistency\n",
    "footfall_data_full = footfall_data_full.sort_values('Interval')"
   ]
  },
  {
   "cell_type": "markdown",
   "id": "a57f3246",
   "metadata": {},
   "source": [
    "## Dataset splitting"
   ]
  },
  {
   "cell_type": "code",
   "execution_count": 8,
   "id": "ea6f28b1",
   "metadata": {},
   "outputs": [],
   "source": [
    "#sort data\n",
    "footfall_data_full.sort_values(by='Interval', inplace=True)\n",
    "footfall_data_full.reset_index(drop=True, inplace=True)"
   ]
  },
  {
   "cell_type": "code",
   "execution_count": 9,
   "id": "c44c7b59",
   "metadata": {},
   "outputs": [
    {
     "name": "stdout",
     "output_type": "stream",
     "text": [
      "Training set shape: (4811, 15) (4811,)\n",
      "Testing set shape: (2062, 15) (2062,)\n"
     ]
    }
   ],
   "source": [
    "#Splitting\n",
    "X = footfall_data_full.drop(columns=['Footfall'])\n",
    "y = footfall_data_full['Footfall']\n",
    "\n",
    "X_train, X_test, y_train, y_test = train_test_split(X, y, test_size=0.3, random_state=42)\n",
    "\n",
    "print(\"Training set shape:\", X_train.shape, y_train.shape)\n",
    "print(\"Testing set shape:\", X_test.shape, y_test.shape)"
   ]
  },
  {
   "cell_type": "code",
   "execution_count": 10,
   "id": "af7adbc2",
   "metadata": {},
   "outputs": [],
   "source": [
    "#Creating a copy of the training set\n",
    "X_train_1 = X_train.copy()"
   ]
  },
  {
   "cell_type": "code",
   "execution_count": 11,
   "id": "2a01ca81",
   "metadata": {},
   "outputs": [
    {
     "data": {
      "text/plain": [
       "Text(0.5, 0.98, 'Distribution of months and hours in training and testing Sets')"
      ]
     },
     "execution_count": 11,
     "metadata": {},
     "output_type": "execute_result"
    },
    {
     "data": {
      "text/plain": [
       "<BarContainer object of 3 artists>"
      ]
     },
     "execution_count": 11,
     "metadata": {},
     "output_type": "execute_result"
    },
    {
     "data": {
      "text/plain": [
       "Text(0.5, 1.0, 'Training set - month distribution')"
      ]
     },
     "execution_count": 11,
     "metadata": {},
     "output_type": "execute_result"
    },
    {
     "data": {
      "text/plain": [
       "Text(0.5, 0, 'Month')"
      ]
     },
     "execution_count": 11,
     "metadata": {},
     "output_type": "execute_result"
    },
    {
     "data": {
      "text/plain": [
       "Text(0, 0.5, 'Count')"
      ]
     },
     "execution_count": 11,
     "metadata": {},
     "output_type": "execute_result"
    },
    {
     "data": {
      "text/plain": [
       "<BarContainer object of 3 artists>"
      ]
     },
     "execution_count": 11,
     "metadata": {},
     "output_type": "execute_result"
    },
    {
     "data": {
      "text/plain": [
       "Text(0.5, 1.0, 'Testing set - month distribution')"
      ]
     },
     "execution_count": 11,
     "metadata": {},
     "output_type": "execute_result"
    },
    {
     "data": {
      "text/plain": [
       "Text(0.5, 0, 'Month')"
      ]
     },
     "execution_count": 11,
     "metadata": {},
     "output_type": "execute_result"
    },
    {
     "data": {
      "text/plain": [
       "Text(0, 0.5, 'Count')"
      ]
     },
     "execution_count": 11,
     "metadata": {},
     "output_type": "execute_result"
    },
    {
     "data": {
      "text/plain": [
       "<BarContainer object of 24 artists>"
      ]
     },
     "execution_count": 11,
     "metadata": {},
     "output_type": "execute_result"
    },
    {
     "data": {
      "text/plain": [
       "Text(0.5, 1.0, 'Training set - hour distribution')"
      ]
     },
     "execution_count": 11,
     "metadata": {},
     "output_type": "execute_result"
    },
    {
     "data": {
      "text/plain": [
       "Text(0.5, 0, 'Hour')"
      ]
     },
     "execution_count": 11,
     "metadata": {},
     "output_type": "execute_result"
    },
    {
     "data": {
      "text/plain": [
       "Text(0, 0.5, 'Count')"
      ]
     },
     "execution_count": 11,
     "metadata": {},
     "output_type": "execute_result"
    },
    {
     "data": {
      "text/plain": [
       "<BarContainer object of 24 artists>"
      ]
     },
     "execution_count": 11,
     "metadata": {},
     "output_type": "execute_result"
    },
    {
     "data": {
      "text/plain": [
       "Text(0.5, 1.0, 'Testing set - hour distribution')"
      ]
     },
     "execution_count": 11,
     "metadata": {},
     "output_type": "execute_result"
    },
    {
     "data": {
      "text/plain": [
       "Text(0.5, 0, 'Hour')"
      ]
     },
     "execution_count": 11,
     "metadata": {},
     "output_type": "execute_result"
    },
    {
     "data": {
      "text/plain": [
       "Text(0, 0.5, 'Count')"
      ]
     },
     "execution_count": 11,
     "metadata": {},
     "output_type": "execute_result"
    },
    {
     "data": {
      "image/png": "[encoded data removed]",
      "text/plain": [
       "<Figure size 864x576 with 4 Axes>"
      ]
     },
     "metadata": {},
     "output_type": "display_data"
    }
   ],
   "source": [
    "#Checking distribution of month and hour in the training and testing sets\n",
    "train_month_distribution = X_train['Month'].value_counts().sort_index()\n",
    "test_month_distribution = X_test['Month'].value_counts().sort_index()\n",
    "train_hour_distribution = X_train['Hour'].value_counts().sort_index()\n",
    "test_hour_distribution = X_test['Hour'].value_counts().sort_index()\n",
    "\n",
    "fig, axes = plt.subplots(2, 2, figsize=(12, 8))\n",
    "fig.suptitle(\"Distribution of months and hours in training and testing Sets\", fontsize=16)\n",
    "\n",
    "axes[0, 0].bar(train_month_distribution.index, train_month_distribution.values)\n",
    "axes[0, 0].set_title(\"Training set - month distribution\")\n",
    "axes[0, 0].set_xlabel(\"Month\")\n",
    "axes[0, 0].set_ylabel(\"Count\")\n",
    "\n",
    "axes[0, 1].bar(test_month_distribution.index, test_month_distribution.values)\n",
    "axes[0, 1].set_title(\"Testing set - month distribution\")\n",
    "axes[0, 1].set_xlabel(\"Month\")\n",
    "axes[0, 1].set_ylabel(\"Count\")\n",
    "\n",
    "axes[1, 0].bar(train_hour_distribution.index, train_hour_distribution.values)\n",
    "axes[1, 0].set_title(\"Training set - hour distribution\")\n",
    "axes[1, 0].set_xlabel(\"Hour\")\n",
    "axes[1, 0].set_ylabel(\"Count\")\n",
    "\n",
    "axes[1, 1].bar(test_hour_distribution.index, test_hour_distribution.values)\n",
    "axes[1, 1].set_title(\"Testing set - hour distribution\")\n",
    "axes[1, 1].set_xlabel(\"Hour\")\n",
    "axes[1, 1].set_ylabel(\"Count\")\n",
    "\n",
    "plt.tight_layout()\n",
    "plt.savefig('distribution_month_hour.png')\n",
    "plt.show()"
   ]
  },
  {
   "cell_type": "markdown",
   "id": "9c95bef7",
   "metadata": {},
   "source": [
    "## Data pre-processing"
   ]
  },
  {
   "cell_type": "code",
   "execution_count": 12,
   "id": "1c21f23d",
   "metadata": {},
   "outputs": [
    {
     "data": {
      "text/plain": [
       "Interval                   datetime64[ns]\n",
       "Zone_Id                            object\n",
       "Temp                              float64\n",
       "Weather                            object\n",
       "Wind                              float64\n",
       "Humidity                          float64\n",
       "Barometer                         float64\n",
       "Visibility                        float64\n",
       "IsBankHoliday                        bool\n",
       "IsSchoolHoliday                      bool\n",
       "IsEventInZone                        bool\n",
       "ProminentActivityInZone            object\n",
       "Month                              object\n",
       "Hour                                int64\n",
       "DayOfWeek                          object\n",
       "dtype: object"
      ]
     },
     "execution_count": 12,
     "metadata": {},
     "output_type": "execute_result"
    }
   ],
   "source": [
    "X_train_1.dtypes"
   ]
  },
  {
   "cell_type": "code",
   "execution_count": 13,
   "id": "b333d094",
   "metadata": {},
   "outputs": [
    {
     "data": {
      "text/plain": [
       "Interval                   datetime64[ns]\n",
       "Zone_Id                            object\n",
       "Temp                              float64\n",
       "Weather                            object\n",
       "Wind                              float64\n",
       "Humidity                          float64\n",
       "Barometer                         float64\n",
       "Visibility                        float64\n",
       "IsBankHoliday                        bool\n",
       "IsSchoolHoliday                      bool\n",
       "IsEventInZone                        bool\n",
       "ProminentActivityInZone            object\n",
       "Month                              object\n",
       "Hour                                int64\n",
       "DayOfWeek                          object\n",
       "dtype: object"
      ]
     },
     "execution_count": 13,
     "metadata": {},
     "output_type": "execute_result"
    }
   ],
   "source": [
    "X_test.dtypes"
   ]
  },
  {
   "cell_type": "markdown",
   "id": "8de3d2a9",
   "metadata": {},
   "source": [
    "### Performing one-hot encoding"
   ]
  },
  {
   "cell_type": "markdown",
   "id": "330929ef",
   "metadata": {},
   "source": [
    "We perform one-hot encoding to \"Zone_Id\", \"Weather\", \"ProminentActivityInZone\", \"DayOfWeek\", \"Month\". "
   ]
  },
  {
   "cell_type": "code",
   "execution_count": 14,
   "id": "ebf0d7c0",
   "metadata": {},
   "outputs": [],
   "source": [
    "one_hot_encode_columns = [\"Zone_Id\", \"Weather\", \"ProminentActivityInZone\", \"DayOfWeek\", \"Month\"]\n",
    "\n",
    "#Training set\n",
    "X_train_encoded = pd.get_dummies(X_train_1, columns=one_hot_encode_columns)\n",
    "\n",
    "#Testing set\n",
    "X_test_encoded = pd.get_dummies(X_test, columns=one_hot_encode_columns)"
   ]
  },
  {
   "cell_type": "code",
   "execution_count": 15,
   "id": "2f43ed0a",
   "metadata": {},
   "outputs": [
    {
     "data": {
      "text/html": [
       "<div>\n",
       "<style scoped>\n",
       "    .dataframe tbody tr th:only-of-type {\n",
       "        vertical-align: middle;\n",
       "    }\n",
       "\n",
       "    .dataframe tbody tr th {\n",
       "        vertical-align: top;\n",
       "    }\n",
       "\n",
       "    .dataframe thead th {\n",
       "        text-align: right;\n",
       "    }\n",
       "</style>\n",
       "<table border=\"1\" class=\"dataframe\">\n",
       "  <thead>\n",
       "    <tr style=\"text-align: right;\">\n",
       "      <th></th>\n",
       "      <th>Interval</th>\n",
       "      <th>Temp</th>\n",
       "      <th>Wind</th>\n",
       "      <th>Humidity</th>\n",
       "      <th>Barometer</th>\n",
       "      <th>Visibility</th>\n",
       "      <th>IsBankHoliday</th>\n",
       "      <th>IsSchoolHoliday</th>\n",
       "      <th>IsEventInZone</th>\n",
       "      <th>Hour</th>\n",
       "      <th>...</th>\n",
       "      <th>DayOfWeek_Friday</th>\n",
       "      <th>DayOfWeek_Monday</th>\n",
       "      <th>DayOfWeek_Saturday</th>\n",
       "      <th>DayOfWeek_Sunday</th>\n",
       "      <th>DayOfWeek_Thursday</th>\n",
       "      <th>DayOfWeek_Tuesday</th>\n",
       "      <th>DayOfWeek_Wednesday</th>\n",
       "      <th>Month_April</th>\n",
       "      <th>Month_June</th>\n",
       "      <th>Month_May</th>\n",
       "    </tr>\n",
       "  </thead>\n",
       "  <tbody>\n",
       "    <tr>\n",
       "      <th>3660</th>\n",
       "      <td>2023-05-24 15:00:00</td>\n",
       "      <td>18.0</td>\n",
       "      <td>17.0</td>\n",
       "      <td>60.0</td>\n",
       "      <td>1027.0</td>\n",
       "      <td>16.000000</td>\n",
       "      <td>False</td>\n",
       "      <td>False</td>\n",
       "      <td>False</td>\n",
       "      <td>15</td>\n",
       "      <td>...</td>\n",
       "      <td>False</td>\n",
       "      <td>False</td>\n",
       "      <td>False</td>\n",
       "      <td>False</td>\n",
       "      <td>False</td>\n",
       "      <td>False</td>\n",
       "      <td>True</td>\n",
       "      <td>False</td>\n",
       "      <td>False</td>\n",
       "      <td>True</td>\n",
       "    </tr>\n",
       "    <tr>\n",
       "      <th>6416</th>\n",
       "      <td>2023-06-22 17:00:00</td>\n",
       "      <td>21.0</td>\n",
       "      <td>10.0</td>\n",
       "      <td>69.0</td>\n",
       "      <td>1022.0</td>\n",
       "      <td>6.234657</td>\n",
       "      <td>False</td>\n",
       "      <td>False</td>\n",
       "      <td>False</td>\n",
       "      <td>17</td>\n",
       "      <td>...</td>\n",
       "      <td>False</td>\n",
       "      <td>False</td>\n",
       "      <td>False</td>\n",
       "      <td>False</td>\n",
       "      <td>True</td>\n",
       "      <td>False</td>\n",
       "      <td>False</td>\n",
       "      <td>False</td>\n",
       "      <td>True</td>\n",
       "      <td>False</td>\n",
       "    </tr>\n",
       "    <tr>\n",
       "      <th>4907</th>\n",
       "      <td>2023-06-03 18:00:00</td>\n",
       "      <td>18.0</td>\n",
       "      <td>12.0</td>\n",
       "      <td>60.0</td>\n",
       "      <td>1021.0</td>\n",
       "      <td>6.234657</td>\n",
       "      <td>False</td>\n",
       "      <td>False</td>\n",
       "      <td>False</td>\n",
       "      <td>18</td>\n",
       "      <td>...</td>\n",
       "      <td>False</td>\n",
       "      <td>False</td>\n",
       "      <td>True</td>\n",
       "      <td>False</td>\n",
       "      <td>False</td>\n",
       "      <td>False</td>\n",
       "      <td>False</td>\n",
       "      <td>False</td>\n",
       "      <td>True</td>\n",
       "      <td>False</td>\n",
       "    </tr>\n",
       "    <tr>\n",
       "      <th>4088</th>\n",
       "      <td>2023-05-27 23:00:00</td>\n",
       "      <td>12.0</td>\n",
       "      <td>6.0</td>\n",
       "      <td>72.0</td>\n",
       "      <td>1023.0</td>\n",
       "      <td>6.234657</td>\n",
       "      <td>False</td>\n",
       "      <td>False</td>\n",
       "      <td>True</td>\n",
       "      <td>23</td>\n",
       "      <td>...</td>\n",
       "      <td>False</td>\n",
       "      <td>False</td>\n",
       "      <td>True</td>\n",
       "      <td>False</td>\n",
       "      <td>False</td>\n",
       "      <td>False</td>\n",
       "      <td>False</td>\n",
       "      <td>False</td>\n",
       "      <td>False</td>\n",
       "      <td>True</td>\n",
       "    </tr>\n",
       "    <tr>\n",
       "      <th>1112</th>\n",
       "      <td>2023-05-05 20:00:00</td>\n",
       "      <td>13.0</td>\n",
       "      <td>9.0</td>\n",
       "      <td>94.0</td>\n",
       "      <td>1011.0</td>\n",
       "      <td>8.000000</td>\n",
       "      <td>False</td>\n",
       "      <td>False</td>\n",
       "      <td>False</td>\n",
       "      <td>20</td>\n",
       "      <td>...</td>\n",
       "      <td>True</td>\n",
       "      <td>False</td>\n",
       "      <td>False</td>\n",
       "      <td>False</td>\n",
       "      <td>False</td>\n",
       "      <td>False</td>\n",
       "      <td>False</td>\n",
       "      <td>False</td>\n",
       "      <td>False</td>\n",
       "      <td>True</td>\n",
       "    </tr>\n",
       "    <tr>\n",
       "      <th>...</th>\n",
       "      <td>...</td>\n",
       "      <td>...</td>\n",
       "      <td>...</td>\n",
       "      <td>...</td>\n",
       "      <td>...</td>\n",
       "      <td>...</td>\n",
       "      <td>...</td>\n",
       "      <td>...</td>\n",
       "      <td>...</td>\n",
       "      <td>...</td>\n",
       "      <td>...</td>\n",
       "      <td>...</td>\n",
       "      <td>...</td>\n",
       "      <td>...</td>\n",
       "      <td>...</td>\n",
       "      <td>...</td>\n",
       "      <td>...</td>\n",
       "      <td>...</td>\n",
       "      <td>...</td>\n",
       "      <td>...</td>\n",
       "      <td>...</td>\n",
       "    </tr>\n",
       "    <tr>\n",
       "      <th>3772</th>\n",
       "      <td>2023-05-25 16:00:00</td>\n",
       "      <td>18.0</td>\n",
       "      <td>7.0</td>\n",
       "      <td>60.0</td>\n",
       "      <td>1029.0</td>\n",
       "      <td>6.234657</td>\n",
       "      <td>False</td>\n",
       "      <td>False</td>\n",
       "      <td>True</td>\n",
       "      <td>16</td>\n",
       "      <td>...</td>\n",
       "      <td>False</td>\n",
       "      <td>False</td>\n",
       "      <td>False</td>\n",
       "      <td>False</td>\n",
       "      <td>True</td>\n",
       "      <td>False</td>\n",
       "      <td>False</td>\n",
       "      <td>False</td>\n",
       "      <td>False</td>\n",
       "      <td>True</td>\n",
       "    </tr>\n",
       "    <tr>\n",
       "      <th>5191</th>\n",
       "      <td>2023-06-07 16:00:00</td>\n",
       "      <td>17.0</td>\n",
       "      <td>25.0</td>\n",
       "      <td>73.0</td>\n",
       "      <td>1017.0</td>\n",
       "      <td>16.000000</td>\n",
       "      <td>False</td>\n",
       "      <td>False</td>\n",
       "      <td>False</td>\n",
       "      <td>16</td>\n",
       "      <td>...</td>\n",
       "      <td>False</td>\n",
       "      <td>False</td>\n",
       "      <td>False</td>\n",
       "      <td>False</td>\n",
       "      <td>False</td>\n",
       "      <td>False</td>\n",
       "      <td>True</td>\n",
       "      <td>False</td>\n",
       "      <td>True</td>\n",
       "      <td>False</td>\n",
       "    </tr>\n",
       "    <tr>\n",
       "      <th>5226</th>\n",
       "      <td>2023-06-08 09:00:00</td>\n",
       "      <td>15.0</td>\n",
       "      <td>33.0</td>\n",
       "      <td>82.0</td>\n",
       "      <td>1013.0</td>\n",
       "      <td>8.000000</td>\n",
       "      <td>False</td>\n",
       "      <td>False</td>\n",
       "      <td>False</td>\n",
       "      <td>9</td>\n",
       "      <td>...</td>\n",
       "      <td>False</td>\n",
       "      <td>False</td>\n",
       "      <td>False</td>\n",
       "      <td>False</td>\n",
       "      <td>True</td>\n",
       "      <td>False</td>\n",
       "      <td>False</td>\n",
       "      <td>False</td>\n",
       "      <td>True</td>\n",
       "      <td>False</td>\n",
       "    </tr>\n",
       "    <tr>\n",
       "      <th>5390</th>\n",
       "      <td>2023-06-10 11:00:00</td>\n",
       "      <td>16.0</td>\n",
       "      <td>8.0</td>\n",
       "      <td>94.0</td>\n",
       "      <td>1012.0</td>\n",
       "      <td>3.000000</td>\n",
       "      <td>False</td>\n",
       "      <td>False</td>\n",
       "      <td>False</td>\n",
       "      <td>11</td>\n",
       "      <td>...</td>\n",
       "      <td>False</td>\n",
       "      <td>False</td>\n",
       "      <td>True</td>\n",
       "      <td>False</td>\n",
       "      <td>False</td>\n",
       "      <td>False</td>\n",
       "      <td>False</td>\n",
       "      <td>False</td>\n",
       "      <td>True</td>\n",
       "      <td>False</td>\n",
       "    </tr>\n",
       "    <tr>\n",
       "      <th>860</th>\n",
       "      <td>2023-05-04 07:00:00</td>\n",
       "      <td>11.0</td>\n",
       "      <td>18.0</td>\n",
       "      <td>88.0</td>\n",
       "      <td>1009.0</td>\n",
       "      <td>6.000000</td>\n",
       "      <td>False</td>\n",
       "      <td>False</td>\n",
       "      <td>True</td>\n",
       "      <td>7</td>\n",
       "      <td>...</td>\n",
       "      <td>False</td>\n",
       "      <td>False</td>\n",
       "      <td>False</td>\n",
       "      <td>False</td>\n",
       "      <td>True</td>\n",
       "      <td>False</td>\n",
       "      <td>False</td>\n",
       "      <td>False</td>\n",
       "      <td>False</td>\n",
       "      <td>True</td>\n",
       "    </tr>\n",
       "  </tbody>\n",
       "</table>\n",
       "<p>4811 rows × 44 columns</p>\n",
       "</div>"
      ],
      "text/plain": [
       "                Interval  Temp  Wind  Humidity  Barometer  Visibility  \\\n",
       "3660 2023-05-24 15:00:00  18.0  17.0      60.0     1027.0   16.000000   \n",
       "6416 2023-06-22 17:00:00  21.0  10.0      69.0     1022.0    6.234657   \n",
       "4907 2023-06-03 18:00:00  18.0  12.0      60.0     1021.0    6.234657   \n",
       "4088 2023-05-27 23:00:00  12.0   6.0      72.0     1023.0    6.234657   \n",
       "1112 2023-05-05 20:00:00  13.0   9.0      94.0     1011.0    8.000000   \n",
       "...                  ...   ...   ...       ...        ...         ...   \n",
       "3772 2023-05-25 16:00:00  18.0   7.0      60.0     1029.0    6.234657   \n",
       "5191 2023-06-07 16:00:00  17.0  25.0      73.0     1017.0   16.000000   \n",
       "5226 2023-06-08 09:00:00  15.0  33.0      82.0     1013.0    8.000000   \n",
       "5390 2023-06-10 11:00:00  16.0   8.0      94.0     1012.0    3.000000   \n",
       "860  2023-05-04 07:00:00  11.0  18.0      88.0     1009.0    6.000000   \n",
       "\n",
       "      IsBankHoliday  IsSchoolHoliday  IsEventInZone  Hour  ...  \\\n",
       "3660          False            False          False    15  ...   \n",
       "6416          False            False          False    17  ...   \n",
       "4907          False            False          False    18  ...   \n",
       "4088          False            False           True    23  ...   \n",
       "1112          False            False          False    20  ...   \n",
       "...             ...              ...            ...   ...  ...   \n",
       "3772          False            False           True    16  ...   \n",
       "5191          False            False          False    16  ...   \n",
       "5226          False            False          False     9  ...   \n",
       "5390          False            False          False    11  ...   \n",
       "860           False            False           True     7  ...   \n",
       "\n",
       "      DayOfWeek_Friday  DayOfWeek_Monday  DayOfWeek_Saturday  \\\n",
       "3660             False             False               False   \n",
       "6416             False             False               False   \n",
       "4907             False             False                True   \n",
       "4088             False             False                True   \n",
       "1112              True             False               False   \n",
       "...                ...               ...                 ...   \n",
       "3772             False             False               False   \n",
       "5191             False             False               False   \n",
       "5226             False             False               False   \n",
       "5390             False             False                True   \n",
       "860              False             False               False   \n",
       "\n",
       "      DayOfWeek_Sunday  DayOfWeek_Thursday  DayOfWeek_Tuesday  \\\n",
       "3660             False               False              False   \n",
       "6416             False                True              False   \n",
       "4907             False               False              False   \n",
       "4088             False               False              False   \n",
       "1112             False               False              False   \n",
       "...                ...                 ...                ...   \n",
       "3772             False                True              False   \n",
       "5191             False               False              False   \n",
       "5226             False                True              False   \n",
       "5390             False               False              False   \n",
       "860              False                True              False   \n",
       "\n",
       "      DayOfWeek_Wednesday  Month_April  Month_June  Month_May  \n",
       "3660                 True        False       False       True  \n",
       "6416                False        False        True      False  \n",
       "4907                False        False        True      False  \n",
       "4088                False        False       False       True  \n",
       "1112                False        False       False       True  \n",
       "...                   ...          ...         ...        ...  \n",
       "3772                False        False       False       True  \n",
       "5191                 True        False        True      False  \n",
       "5226                False        False        True      False  \n",
       "5390                False        False        True      False  \n",
       "860                 False        False       False       True  \n",
       "\n",
       "[4811 rows x 44 columns]"
      ]
     },
     "execution_count": 15,
     "metadata": {},
     "output_type": "execute_result"
    }
   ],
   "source": [
    "X_train_encoded"
   ]
  },
  {
   "cell_type": "markdown",
   "id": "a8ace5c6",
   "metadata": {},
   "source": [
    "### Converting boolean variables to integers"
   ]
  },
  {
   "cell_type": "code",
   "execution_count": 16,
   "id": "4323a53d",
   "metadata": {},
   "outputs": [],
   "source": [
    "boolean_columns = ['IsBankHoliday', 'IsSchoolHoliday', 'IsEventInZone']\n",
    "\n",
    "#Training set\n",
    "X_train_encoded[boolean_columns] = X_train_encoded[boolean_columns].astype(int)\n",
    "\n",
    "#Testing set\n",
    "X_test_encoded[boolean_columns] = X_test_encoded[boolean_columns].astype(int)"
   ]
  },
  {
   "cell_type": "markdown",
   "id": "4f7b8540",
   "metadata": {},
   "source": [
    "After all encoding, we rename the columns so we understand"
   ]
  },
  {
   "cell_type": "code",
   "execution_count": 17,
   "id": "74760ca0",
   "metadata": {},
   "outputs": [
    {
     "data": {
      "text/html": [
       "<div>\n",
       "<style scoped>\n",
       "    .dataframe tbody tr th:only-of-type {\n",
       "        vertical-align: middle;\n",
       "    }\n",
       "\n",
       "    .dataframe tbody tr th {\n",
       "        vertical-align: top;\n",
       "    }\n",
       "\n",
       "    .dataframe thead th {\n",
       "        text-align: right;\n",
       "    }\n",
       "</style>\n",
       "<table border=\"1\" class=\"dataframe\">\n",
       "  <thead>\n",
       "    <tr style=\"text-align: right;\">\n",
       "      <th></th>\n",
       "      <th>Interval</th>\n",
       "      <th>Temp</th>\n",
       "      <th>Wind</th>\n",
       "      <th>Humidity</th>\n",
       "      <th>Barometer</th>\n",
       "      <th>Visibility</th>\n",
       "      <th>IsBankHoliday</th>\n",
       "      <th>IsSchoolHoliday</th>\n",
       "      <th>IsEventInZone</th>\n",
       "      <th>Hour</th>\n",
       "      <th>...</th>\n",
       "      <th>DayOfWeek_Friday</th>\n",
       "      <th>DayOfWeek_Monday</th>\n",
       "      <th>DayOfWeek_Saturday</th>\n",
       "      <th>DayOfWeek_Sunday</th>\n",
       "      <th>DayOfWeek_Thursday</th>\n",
       "      <th>DayOfWeek_Tuesday</th>\n",
       "      <th>DayOfWeek_Wednesday</th>\n",
       "      <th>Month_April</th>\n",
       "      <th>Month_June</th>\n",
       "      <th>Month_May</th>\n",
       "    </tr>\n",
       "  </thead>\n",
       "  <tbody>\n",
       "    <tr>\n",
       "      <th>3660</th>\n",
       "      <td>2023-05-24 15:00:00</td>\n",
       "      <td>18.0</td>\n",
       "      <td>17.0</td>\n",
       "      <td>60.0</td>\n",
       "      <td>1027.0</td>\n",
       "      <td>16.000000</td>\n",
       "      <td>0</td>\n",
       "      <td>0</td>\n",
       "      <td>0</td>\n",
       "      <td>15</td>\n",
       "      <td>...</td>\n",
       "      <td>False</td>\n",
       "      <td>False</td>\n",
       "      <td>False</td>\n",
       "      <td>False</td>\n",
       "      <td>False</td>\n",
       "      <td>False</td>\n",
       "      <td>True</td>\n",
       "      <td>False</td>\n",
       "      <td>False</td>\n",
       "      <td>True</td>\n",
       "    </tr>\n",
       "    <tr>\n",
       "      <th>6416</th>\n",
       "      <td>2023-06-22 17:00:00</td>\n",
       "      <td>21.0</td>\n",
       "      <td>10.0</td>\n",
       "      <td>69.0</td>\n",
       "      <td>1022.0</td>\n",
       "      <td>6.234657</td>\n",
       "      <td>0</td>\n",
       "      <td>0</td>\n",
       "      <td>0</td>\n",
       "      <td>17</td>\n",
       "      <td>...</td>\n",
       "      <td>False</td>\n",
       "      <td>False</td>\n",
       "      <td>False</td>\n",
       "      <td>False</td>\n",
       "      <td>True</td>\n",
       "      <td>False</td>\n",
       "      <td>False</td>\n",
       "      <td>False</td>\n",
       "      <td>True</td>\n",
       "      <td>False</td>\n",
       "    </tr>\n",
       "    <tr>\n",
       "      <th>4907</th>\n",
       "      <td>2023-06-03 18:00:00</td>\n",
       "      <td>18.0</td>\n",
       "      <td>12.0</td>\n",
       "      <td>60.0</td>\n",
       "      <td>1021.0</td>\n",
       "      <td>6.234657</td>\n",
       "      <td>0</td>\n",
       "      <td>0</td>\n",
       "      <td>0</td>\n",
       "      <td>18</td>\n",
       "      <td>...</td>\n",
       "      <td>False</td>\n",
       "      <td>False</td>\n",
       "      <td>True</td>\n",
       "      <td>False</td>\n",
       "      <td>False</td>\n",
       "      <td>False</td>\n",
       "      <td>False</td>\n",
       "      <td>False</td>\n",
       "      <td>True</td>\n",
       "      <td>False</td>\n",
       "    </tr>\n",
       "    <tr>\n",
       "      <th>4088</th>\n",
       "      <td>2023-05-27 23:00:00</td>\n",
       "      <td>12.0</td>\n",
       "      <td>6.0</td>\n",
       "      <td>72.0</td>\n",
       "      <td>1023.0</td>\n",
       "      <td>6.234657</td>\n",
       "      <td>0</td>\n",
       "      <td>0</td>\n",
       "      <td>1</td>\n",
       "      <td>23</td>\n",
       "      <td>...</td>\n",
       "      <td>False</td>\n",
       "      <td>False</td>\n",
       "      <td>True</td>\n",
       "      <td>False</td>\n",
       "      <td>False</td>\n",
       "      <td>False</td>\n",
       "      <td>False</td>\n",
       "      <td>False</td>\n",
       "      <td>False</td>\n",
       "      <td>True</td>\n",
       "    </tr>\n",
       "    <tr>\n",
       "      <th>1112</th>\n",
       "      <td>2023-05-05 20:00:00</td>\n",
       "      <td>13.0</td>\n",
       "      <td>9.0</td>\n",
       "      <td>94.0</td>\n",
       "      <td>1011.0</td>\n",
       "      <td>8.000000</td>\n",
       "      <td>0</td>\n",
       "      <td>0</td>\n",
       "      <td>0</td>\n",
       "      <td>20</td>\n",
       "      <td>...</td>\n",
       "      <td>True</td>\n",
       "      <td>False</td>\n",
       "      <td>False</td>\n",
       "      <td>False</td>\n",
       "      <td>False</td>\n",
       "      <td>False</td>\n",
       "      <td>False</td>\n",
       "      <td>False</td>\n",
       "      <td>False</td>\n",
       "      <td>True</td>\n",
       "    </tr>\n",
       "    <tr>\n",
       "      <th>...</th>\n",
       "      <td>...</td>\n",
       "      <td>...</td>\n",
       "      <td>...</td>\n",
       "      <td>...</td>\n",
       "      <td>...</td>\n",
       "      <td>...</td>\n",
       "      <td>...</td>\n",
       "      <td>...</td>\n",
       "      <td>...</td>\n",
       "      <td>...</td>\n",
       "      <td>...</td>\n",
       "      <td>...</td>\n",
       "      <td>...</td>\n",
       "      <td>...</td>\n",
       "      <td>...</td>\n",
       "      <td>...</td>\n",
       "      <td>...</td>\n",
       "      <td>...</td>\n",
       "      <td>...</td>\n",
       "      <td>...</td>\n",
       "      <td>...</td>\n",
       "    </tr>\n",
       "    <tr>\n",
       "      <th>3772</th>\n",
       "      <td>2023-05-25 16:00:00</td>\n",
       "      <td>18.0</td>\n",
       "      <td>7.0</td>\n",
       "      <td>60.0</td>\n",
       "      <td>1029.0</td>\n",
       "      <td>6.234657</td>\n",
       "      <td>0</td>\n",
       "      <td>0</td>\n",
       "      <td>1</td>\n",
       "      <td>16</td>\n",
       "      <td>...</td>\n",
       "      <td>False</td>\n",
       "      <td>False</td>\n",
       "      <td>False</td>\n",
       "      <td>False</td>\n",
       "      <td>True</td>\n",
       "      <td>False</td>\n",
       "      <td>False</td>\n",
       "      <td>False</td>\n",
       "      <td>False</td>\n",
       "      <td>True</td>\n",
       "    </tr>\n",
       "    <tr>\n",
       "      <th>5191</th>\n",
       "      <td>2023-06-07 16:00:00</td>\n",
       "      <td>17.0</td>\n",
       "      <td>25.0</td>\n",
       "      <td>73.0</td>\n",
       "      <td>1017.0</td>\n",
       "      <td>16.000000</td>\n",
       "      <td>0</td>\n",
       "      <td>0</td>\n",
       "      <td>0</td>\n",
       "      <td>16</td>\n",
       "      <td>...</td>\n",
       "      <td>False</td>\n",
       "      <td>False</td>\n",
       "      <td>False</td>\n",
       "      <td>False</td>\n",
       "      <td>False</td>\n",
       "      <td>False</td>\n",
       "      <td>True</td>\n",
       "      <td>False</td>\n",
       "      <td>True</td>\n",
       "      <td>False</td>\n",
       "    </tr>\n",
       "    <tr>\n",
       "      <th>5226</th>\n",
       "      <td>2023-06-08 09:00:00</td>\n",
       "      <td>15.0</td>\n",
       "      <td>33.0</td>\n",
       "      <td>82.0</td>\n",
       "      <td>1013.0</td>\n",
       "      <td>8.000000</td>\n",
       "      <td>0</td>\n",
       "      <td>0</td>\n",
       "      <td>0</td>\n",
       "      <td>9</td>\n",
       "      <td>...</td>\n",
       "      <td>False</td>\n",
       "      <td>False</td>\n",
       "      <td>False</td>\n",
       "      <td>False</td>\n",
       "      <td>True</td>\n",
       "      <td>False</td>\n",
       "      <td>False</td>\n",
       "      <td>False</td>\n",
       "      <td>True</td>\n",
       "      <td>False</td>\n",
       "    </tr>\n",
       "    <tr>\n",
       "      <th>5390</th>\n",
       "      <td>2023-06-10 11:00:00</td>\n",
       "      <td>16.0</td>\n",
       "      <td>8.0</td>\n",
       "      <td>94.0</td>\n",
       "      <td>1012.0</td>\n",
       "      <td>3.000000</td>\n",
       "      <td>0</td>\n",
       "      <td>0</td>\n",
       "      <td>0</td>\n",
       "      <td>11</td>\n",
       "      <td>...</td>\n",
       "      <td>False</td>\n",
       "      <td>False</td>\n",
       "      <td>True</td>\n",
       "      <td>False</td>\n",
       "      <td>False</td>\n",
       "      <td>False</td>\n",
       "      <td>False</td>\n",
       "      <td>False</td>\n",
       "      <td>True</td>\n",
       "      <td>False</td>\n",
       "    </tr>\n",
       "    <tr>\n",
       "      <th>860</th>\n",
       "      <td>2023-05-04 07:00:00</td>\n",
       "      <td>11.0</td>\n",
       "      <td>18.0</td>\n",
       "      <td>88.0</td>\n",
       "      <td>1009.0</td>\n",
       "      <td>6.000000</td>\n",
       "      <td>0</td>\n",
       "      <td>0</td>\n",
       "      <td>1</td>\n",
       "      <td>7</td>\n",
       "      <td>...</td>\n",
       "      <td>False</td>\n",
       "      <td>False</td>\n",
       "      <td>False</td>\n",
       "      <td>False</td>\n",
       "      <td>True</td>\n",
       "      <td>False</td>\n",
       "      <td>False</td>\n",
       "      <td>False</td>\n",
       "      <td>False</td>\n",
       "      <td>True</td>\n",
       "    </tr>\n",
       "  </tbody>\n",
       "</table>\n",
       "<p>4811 rows × 44 columns</p>\n",
       "</div>"
      ],
      "text/plain": [
       "                Interval  Temp  Wind  Humidity  Barometer  Visibility  \\\n",
       "3660 2023-05-24 15:00:00  18.0  17.0      60.0     1027.0   16.000000   \n",
       "6416 2023-06-22 17:00:00  21.0  10.0      69.0     1022.0    6.234657   \n",
       "4907 2023-06-03 18:00:00  18.0  12.0      60.0     1021.0    6.234657   \n",
       "4088 2023-05-27 23:00:00  12.0   6.0      72.0     1023.0    6.234657   \n",
       "1112 2023-05-05 20:00:00  13.0   9.0      94.0     1011.0    8.000000   \n",
       "...                  ...   ...   ...       ...        ...         ...   \n",
       "3772 2023-05-25 16:00:00  18.0   7.0      60.0     1029.0    6.234657   \n",
       "5191 2023-06-07 16:00:00  17.0  25.0      73.0     1017.0   16.000000   \n",
       "5226 2023-06-08 09:00:00  15.0  33.0      82.0     1013.0    8.000000   \n",
       "5390 2023-06-10 11:00:00  16.0   8.0      94.0     1012.0    3.000000   \n",
       "860  2023-05-04 07:00:00  11.0  18.0      88.0     1009.0    6.000000   \n",
       "\n",
       "      IsBankHoliday  IsSchoolHoliday  IsEventInZone  Hour  ...  \\\n",
       "3660              0                0              0    15  ...   \n",
       "6416              0                0              0    17  ...   \n",
       "4907              0                0              0    18  ...   \n",
       "4088              0                0              1    23  ...   \n",
       "1112              0                0              0    20  ...   \n",
       "...             ...              ...            ...   ...  ...   \n",
       "3772              0                0              1    16  ...   \n",
       "5191              0                0              0    16  ...   \n",
       "5226              0                0              0     9  ...   \n",
       "5390              0                0              0    11  ...   \n",
       "860               0                0              1     7  ...   \n",
       "\n",
       "      DayOfWeek_Friday  DayOfWeek_Monday  DayOfWeek_Saturday  \\\n",
       "3660             False             False               False   \n",
       "6416             False             False               False   \n",
       "4907             False             False                True   \n",
       "4088             False             False                True   \n",
       "1112              True             False               False   \n",
       "...                ...               ...                 ...   \n",
       "3772             False             False               False   \n",
       "5191             False             False               False   \n",
       "5226             False             False               False   \n",
       "5390             False             False                True   \n",
       "860              False             False               False   \n",
       "\n",
       "      DayOfWeek_Sunday  DayOfWeek_Thursday  DayOfWeek_Tuesday  \\\n",
       "3660             False               False              False   \n",
       "6416             False                True              False   \n",
       "4907             False               False              False   \n",
       "4088             False               False              False   \n",
       "1112             False               False              False   \n",
       "...                ...                 ...                ...   \n",
       "3772             False                True              False   \n",
       "5191             False               False              False   \n",
       "5226             False                True              False   \n",
       "5390             False               False              False   \n",
       "860              False                True              False   \n",
       "\n",
       "      DayOfWeek_Wednesday  Month_April  Month_June  Month_May  \n",
       "3660                 True        False       False       True  \n",
       "6416                False        False        True      False  \n",
       "4907                False        False        True      False  \n",
       "4088                False        False       False       True  \n",
       "1112                False        False       False       True  \n",
       "...                   ...          ...         ...        ...  \n",
       "3772                False        False       False       True  \n",
       "5191                 True        False        True      False  \n",
       "5226                False        False        True      False  \n",
       "5390                False        False        True      False  \n",
       "860                 False        False       False       True  \n",
       "\n",
       "[4811 rows x 44 columns]"
      ]
     },
     "execution_count": 17,
     "metadata": {},
     "output_type": "execute_result"
    }
   ],
   "source": [
    "X_train_encoded.rename(columns={\n",
    "    'Zone_Id_Zone 1': 'ZoneId_Zone1',\n",
    "    'Zone_Id_Zone 10': 'ZoneId_Zone10',\n",
    "    'Zone_Id_Zone 2': 'ZoneId_Zone2',\n",
    "    'Zone_Id_Zone 4': 'ZoneId_Zone4',\n",
    "    'Zone_Id_Zone 5': 'ZoneId_Zone5',\n",
    "    'Zone_Id_Zone 6': 'ZoneId_Zone6',\n",
    "    'Zone_Id_Zone 7': 'ZoneId_Zone7',\n",
    "    'Zone_Id_Zone 8': 'ZoneId_Zone8',\n",
    "    'Zone_Id_Zone 9': 'ZoneId_Zone9',\n",
    "    'Weather_Broken clouds': 'Weather_BrokenClouds',\n",
    "    'Weather_Heavy rain': 'Weather_HeavyRain',\n",
    "    'Weather_Light rain': 'Weather_LightRain',\n",
    "    'Weather_Low clouds': 'Weather_LowClouds',\n",
    "    'ProminentActivityInZone_Business Services': 'ProminentActivity_BusinessServices',\n",
    "    'ProminentActivityInZone_Culture': 'ProminentActivity_Culture',\n",
    "    'ProminentActivityInZone_Leisure / Activites': 'ProminentActivity_LeisureActivities',\n",
    "    'ProminentActivityInZone_Restaurant / Cafe': 'ProminentActivity_RestaurantCafe',\n",
    "    'ProminentActivityInZone_Specialist Retail': 'ProminentActivity_SpecialistRetail'\n",
    "}, inplace=True)\n",
    "\n",
    "X_train_encoded"
   ]
  },
  {
   "cell_type": "code",
   "execution_count": 18,
   "id": "569d1e7a",
   "metadata": {},
   "outputs": [
    {
     "data": {
      "text/html": [
       "<div>\n",
       "<style scoped>\n",
       "    .dataframe tbody tr th:only-of-type {\n",
       "        vertical-align: middle;\n",
       "    }\n",
       "\n",
       "    .dataframe tbody tr th {\n",
       "        vertical-align: top;\n",
       "    }\n",
       "\n",
       "    .dataframe thead th {\n",
       "        text-align: right;\n",
       "    }\n",
       "</style>\n",
       "<table border=\"1\" class=\"dataframe\">\n",
       "  <thead>\n",
       "    <tr style=\"text-align: right;\">\n",
       "      <th></th>\n",
       "      <th>Interval</th>\n",
       "      <th>Temp</th>\n",
       "      <th>Wind</th>\n",
       "      <th>Humidity</th>\n",
       "      <th>Barometer</th>\n",
       "      <th>Visibility</th>\n",
       "      <th>IsBankHoliday</th>\n",
       "      <th>IsSchoolHoliday</th>\n",
       "      <th>IsEventInZone</th>\n",
       "      <th>Hour</th>\n",
       "      <th>...</th>\n",
       "      <th>DayOfWeek_Friday</th>\n",
       "      <th>DayOfWeek_Monday</th>\n",
       "      <th>DayOfWeek_Saturday</th>\n",
       "      <th>DayOfWeek_Sunday</th>\n",
       "      <th>DayOfWeek_Thursday</th>\n",
       "      <th>DayOfWeek_Tuesday</th>\n",
       "      <th>DayOfWeek_Wednesday</th>\n",
       "      <th>Month_April</th>\n",
       "      <th>Month_June</th>\n",
       "      <th>Month_May</th>\n",
       "    </tr>\n",
       "  </thead>\n",
       "  <tbody>\n",
       "    <tr>\n",
       "      <th>1783</th>\n",
       "      <td>2023-05-10 02:00:00</td>\n",
       "      <td>11.0</td>\n",
       "      <td>12.0</td>\n",
       "      <td>94.0</td>\n",
       "      <td>1015.0</td>\n",
       "      <td>8.000000</td>\n",
       "      <td>0</td>\n",
       "      <td>0</td>\n",
       "      <td>1</td>\n",
       "      <td>2</td>\n",
       "      <td>...</td>\n",
       "      <td>False</td>\n",
       "      <td>False</td>\n",
       "      <td>False</td>\n",
       "      <td>False</td>\n",
       "      <td>False</td>\n",
       "      <td>False</td>\n",
       "      <td>True</td>\n",
       "      <td>False</td>\n",
       "      <td>False</td>\n",
       "      <td>True</td>\n",
       "    </tr>\n",
       "    <tr>\n",
       "      <th>6311</th>\n",
       "      <td>2023-06-21 16:00:00</td>\n",
       "      <td>19.0</td>\n",
       "      <td>14.0</td>\n",
       "      <td>78.0</td>\n",
       "      <td>1017.0</td>\n",
       "      <td>6.234657</td>\n",
       "      <td>0</td>\n",
       "      <td>0</td>\n",
       "      <td>0</td>\n",
       "      <td>16</td>\n",
       "      <td>...</td>\n",
       "      <td>False</td>\n",
       "      <td>False</td>\n",
       "      <td>False</td>\n",
       "      <td>False</td>\n",
       "      <td>False</td>\n",
       "      <td>False</td>\n",
       "      <td>True</td>\n",
       "      <td>False</td>\n",
       "      <td>True</td>\n",
       "      <td>False</td>\n",
       "    </tr>\n",
       "    <tr>\n",
       "      <th>496</th>\n",
       "      <td>2023-05-01 23:00:00</td>\n",
       "      <td>9.0</td>\n",
       "      <td>1.0</td>\n",
       "      <td>94.0</td>\n",
       "      <td>1023.0</td>\n",
       "      <td>6.234657</td>\n",
       "      <td>1</td>\n",
       "      <td>1</td>\n",
       "      <td>0</td>\n",
       "      <td>23</td>\n",
       "      <td>...</td>\n",
       "      <td>False</td>\n",
       "      <td>True</td>\n",
       "      <td>False</td>\n",
       "      <td>False</td>\n",
       "      <td>False</td>\n",
       "      <td>False</td>\n",
       "      <td>False</td>\n",
       "      <td>False</td>\n",
       "      <td>False</td>\n",
       "      <td>True</td>\n",
       "    </tr>\n",
       "    <tr>\n",
       "      <th>2168</th>\n",
       "      <td>2023-05-12 09:00:00</td>\n",
       "      <td>13.0</td>\n",
       "      <td>9.0</td>\n",
       "      <td>82.0</td>\n",
       "      <td>1023.0</td>\n",
       "      <td>6.234657</td>\n",
       "      <td>0</td>\n",
       "      <td>0</td>\n",
       "      <td>0</td>\n",
       "      <td>9</td>\n",
       "      <td>...</td>\n",
       "      <td>True</td>\n",
       "      <td>False</td>\n",
       "      <td>False</td>\n",
       "      <td>False</td>\n",
       "      <td>False</td>\n",
       "      <td>False</td>\n",
       "      <td>False</td>\n",
       "      <td>False</td>\n",
       "      <td>False</td>\n",
       "      <td>True</td>\n",
       "    </tr>\n",
       "    <tr>\n",
       "      <th>2275</th>\n",
       "      <td>2023-05-12 21:00:00</td>\n",
       "      <td>13.0</td>\n",
       "      <td>10.0</td>\n",
       "      <td>88.0</td>\n",
       "      <td>1025.0</td>\n",
       "      <td>6.234657</td>\n",
       "      <td>0</td>\n",
       "      <td>0</td>\n",
       "      <td>1</td>\n",
       "      <td>21</td>\n",
       "      <td>...</td>\n",
       "      <td>True</td>\n",
       "      <td>False</td>\n",
       "      <td>False</td>\n",
       "      <td>False</td>\n",
       "      <td>False</td>\n",
       "      <td>False</td>\n",
       "      <td>False</td>\n",
       "      <td>False</td>\n",
       "      <td>False</td>\n",
       "      <td>True</td>\n",
       "    </tr>\n",
       "    <tr>\n",
       "      <th>...</th>\n",
       "      <td>...</td>\n",
       "      <td>...</td>\n",
       "      <td>...</td>\n",
       "      <td>...</td>\n",
       "      <td>...</td>\n",
       "      <td>...</td>\n",
       "      <td>...</td>\n",
       "      <td>...</td>\n",
       "      <td>...</td>\n",
       "      <td>...</td>\n",
       "      <td>...</td>\n",
       "      <td>...</td>\n",
       "      <td>...</td>\n",
       "      <td>...</td>\n",
       "      <td>...</td>\n",
       "      <td>...</td>\n",
       "      <td>...</td>\n",
       "      <td>...</td>\n",
       "      <td>...</td>\n",
       "      <td>...</td>\n",
       "      <td>...</td>\n",
       "    </tr>\n",
       "    <tr>\n",
       "      <th>3571</th>\n",
       "      <td>2023-05-24 04:00:00</td>\n",
       "      <td>10.0</td>\n",
       "      <td>5.0</td>\n",
       "      <td>88.0</td>\n",
       "      <td>1027.0</td>\n",
       "      <td>6.234657</td>\n",
       "      <td>0</td>\n",
       "      <td>0</td>\n",
       "      <td>0</td>\n",
       "      <td>4</td>\n",
       "      <td>...</td>\n",
       "      <td>False</td>\n",
       "      <td>False</td>\n",
       "      <td>False</td>\n",
       "      <td>False</td>\n",
       "      <td>False</td>\n",
       "      <td>False</td>\n",
       "      <td>True</td>\n",
       "      <td>False</td>\n",
       "      <td>False</td>\n",
       "      <td>True</td>\n",
       "    </tr>\n",
       "    <tr>\n",
       "      <th>2516</th>\n",
       "      <td>2023-05-14 14:00:00</td>\n",
       "      <td>13.0</td>\n",
       "      <td>8.0</td>\n",
       "      <td>94.0</td>\n",
       "      <td>1022.0</td>\n",
       "      <td>6.234657</td>\n",
       "      <td>0</td>\n",
       "      <td>0</td>\n",
       "      <td>0</td>\n",
       "      <td>14</td>\n",
       "      <td>...</td>\n",
       "      <td>False</td>\n",
       "      <td>False</td>\n",
       "      <td>False</td>\n",
       "      <td>True</td>\n",
       "      <td>False</td>\n",
       "      <td>False</td>\n",
       "      <td>False</td>\n",
       "      <td>False</td>\n",
       "      <td>False</td>\n",
       "      <td>True</td>\n",
       "    </tr>\n",
       "    <tr>\n",
       "      <th>3617</th>\n",
       "      <td>2023-05-24 10:00:00</td>\n",
       "      <td>17.0</td>\n",
       "      <td>12.0</td>\n",
       "      <td>68.0</td>\n",
       "      <td>1027.0</td>\n",
       "      <td>16.000000</td>\n",
       "      <td>0</td>\n",
       "      <td>0</td>\n",
       "      <td>1</td>\n",
       "      <td>10</td>\n",
       "      <td>...</td>\n",
       "      <td>False</td>\n",
       "      <td>False</td>\n",
       "      <td>False</td>\n",
       "      <td>False</td>\n",
       "      <td>False</td>\n",
       "      <td>False</td>\n",
       "      <td>True</td>\n",
       "      <td>False</td>\n",
       "      <td>False</td>\n",
       "      <td>True</td>\n",
       "    </tr>\n",
       "    <tr>\n",
       "      <th>1294</th>\n",
       "      <td>2023-05-07 18:00:00</td>\n",
       "      <td>14.0</td>\n",
       "      <td>10.0</td>\n",
       "      <td>88.0</td>\n",
       "      <td>1020.0</td>\n",
       "      <td>6.234657</td>\n",
       "      <td>0</td>\n",
       "      <td>0</td>\n",
       "      <td>1</td>\n",
       "      <td>18</td>\n",
       "      <td>...</td>\n",
       "      <td>False</td>\n",
       "      <td>False</td>\n",
       "      <td>False</td>\n",
       "      <td>True</td>\n",
       "      <td>False</td>\n",
       "      <td>False</td>\n",
       "      <td>False</td>\n",
       "      <td>False</td>\n",
       "      <td>False</td>\n",
       "      <td>True</td>\n",
       "    </tr>\n",
       "    <tr>\n",
       "      <th>2840</th>\n",
       "      <td>2023-05-16 09:00:00</td>\n",
       "      <td>12.0</td>\n",
       "      <td>6.0</td>\n",
       "      <td>72.0</td>\n",
       "      <td>1027.0</td>\n",
       "      <td>6.234657</td>\n",
       "      <td>0</td>\n",
       "      <td>0</td>\n",
       "      <td>0</td>\n",
       "      <td>9</td>\n",
       "      <td>...</td>\n",
       "      <td>False</td>\n",
       "      <td>False</td>\n",
       "      <td>False</td>\n",
       "      <td>False</td>\n",
       "      <td>False</td>\n",
       "      <td>True</td>\n",
       "      <td>False</td>\n",
       "      <td>False</td>\n",
       "      <td>False</td>\n",
       "      <td>True</td>\n",
       "    </tr>\n",
       "  </tbody>\n",
       "</table>\n",
       "<p>2062 rows × 44 columns</p>\n",
       "</div>"
      ],
      "text/plain": [
       "                Interval  Temp  Wind  Humidity  Barometer  Visibility  \\\n",
       "1783 2023-05-10 02:00:00  11.0  12.0      94.0     1015.0    8.000000   \n",
       "6311 2023-06-21 16:00:00  19.0  14.0      78.0     1017.0    6.234657   \n",
       "496  2023-05-01 23:00:00   9.0   1.0      94.0     1023.0    6.234657   \n",
       "2168 2023-05-12 09:00:00  13.0   9.0      82.0     1023.0    6.234657   \n",
       "2275 2023-05-12 21:00:00  13.0  10.0      88.0     1025.0    6.234657   \n",
       "...                  ...   ...   ...       ...        ...         ...   \n",
       "3571 2023-05-24 04:00:00  10.0   5.0      88.0     1027.0    6.234657   \n",
       "2516 2023-05-14 14:00:00  13.0   8.0      94.0     1022.0    6.234657   \n",
       "3617 2023-05-24 10:00:00  17.0  12.0      68.0     1027.0   16.000000   \n",
       "1294 2023-05-07 18:00:00  14.0  10.0      88.0     1020.0    6.234657   \n",
       "2840 2023-05-16 09:00:00  12.0   6.0      72.0     1027.0    6.234657   \n",
       "\n",
       "      IsBankHoliday  IsSchoolHoliday  IsEventInZone  Hour  ...  \\\n",
       "1783              0                0              1     2  ...   \n",
       "6311              0                0              0    16  ...   \n",
       "496               1                1              0    23  ...   \n",
       "2168              0                0              0     9  ...   \n",
       "2275              0                0              1    21  ...   \n",
       "...             ...              ...            ...   ...  ...   \n",
       "3571              0                0              0     4  ...   \n",
       "2516              0                0              0    14  ...   \n",
       "3617              0                0              1    10  ...   \n",
       "1294              0                0              1    18  ...   \n",
       "2840              0                0              0     9  ...   \n",
       "\n",
       "      DayOfWeek_Friday  DayOfWeek_Monday  DayOfWeek_Saturday  \\\n",
       "1783             False             False               False   \n",
       "6311             False             False               False   \n",
       "496              False              True               False   \n",
       "2168              True             False               False   \n",
       "2275              True             False               False   \n",
       "...                ...               ...                 ...   \n",
       "3571             False             False               False   \n",
       "2516             False             False               False   \n",
       "3617             False             False               False   \n",
       "1294             False             False               False   \n",
       "2840             False             False               False   \n",
       "\n",
       "      DayOfWeek_Sunday  DayOfWeek_Thursday  DayOfWeek_Tuesday  \\\n",
       "1783             False               False              False   \n",
       "6311             False               False              False   \n",
       "496              False               False              False   \n",
       "2168             False               False              False   \n",
       "2275             False               False              False   \n",
       "...                ...                 ...                ...   \n",
       "3571             False               False              False   \n",
       "2516              True               False              False   \n",
       "3617             False               False              False   \n",
       "1294              True               False              False   \n",
       "2840             False               False               True   \n",
       "\n",
       "      DayOfWeek_Wednesday  Month_April  Month_June  Month_May  \n",
       "1783                 True        False       False       True  \n",
       "6311                 True        False        True      False  \n",
       "496                 False        False       False       True  \n",
       "2168                False        False       False       True  \n",
       "2275                False        False       False       True  \n",
       "...                   ...          ...         ...        ...  \n",
       "3571                 True        False       False       True  \n",
       "2516                False        False       False       True  \n",
       "3617                 True        False       False       True  \n",
       "1294                False        False       False       True  \n",
       "2840                False        False       False       True  \n",
       "\n",
       "[2062 rows x 44 columns]"
      ]
     },
     "execution_count": 18,
     "metadata": {},
     "output_type": "execute_result"
    }
   ],
   "source": [
    "X_test_encoded.rename(columns={\n",
    "    'Zone_Id_Zone 1': 'ZoneId_Zone1',\n",
    "    'Zone_Id_Zone 10': 'ZoneId_Zone10',\n",
    "    'Zone_Id_Zone 2': 'ZoneId_Zone2',\n",
    "    'Zone_Id_Zone 4': 'ZoneId_Zone4',\n",
    "    'Zone_Id_Zone 5': 'ZoneId_Zone5',\n",
    "    'Zone_Id_Zone 6': 'ZoneId_Zone6',\n",
    "    'Zone_Id_Zone 7': 'ZoneId_Zone7',\n",
    "    'Zone_Id_Zone 8': 'ZoneId_Zone8',\n",
    "    'Zone_Id_Zone 9': 'ZoneId_Zone9',\n",
    "    'Weather_Broken clouds': 'Weather_BrokenClouds',\n",
    "    'Weather_Heavy rain': 'Weather_HeavyRain',\n",
    "    'Weather_Light rain': 'Weather_LightRain',\n",
    "    'Weather_Low clouds': 'Weather_LowClouds',\n",
    "    'ProminentActivityInZone_Business Services': 'ProminentActivity_BusinessServices',\n",
    "    'ProminentActivityInZone_Culture': 'ProminentActivity_Culture',\n",
    "    'ProminentActivityInZone_Leisure / Activites': 'ProminentActivity_LeisureActivities',\n",
    "    'ProminentActivityInZone_Restaurant / Cafe': 'ProminentActivity_RestaurantCafe',\n",
    "    'ProminentActivityInZone_Specialist Retail': 'ProminentActivity_SpecialistRetail'\n",
    "}, inplace=True)\n",
    "\n",
    "X_test_encoded"
   ]
  },
  {
   "cell_type": "code",
   "execution_count": 19,
   "id": "22f32066",
   "metadata": {},
   "outputs": [],
   "source": [
    "#Converting the boolean values to numeric to run in the models whereby 1 is true and 0 is false \n",
    "X_train_encoded['ZoneId_Zone1'] = X_train_encoded['ZoneId_Zone1'].astype(int)\n",
    "X_train_encoded['ZoneId_Zone10'] = X_train_encoded['ZoneId_Zone10'].astype(int)\n",
    "X_train_encoded['ZoneId_Zone2'] = X_train_encoded['ZoneId_Zone2'].astype(int)\n",
    "X_train_encoded['ZoneId_Zone4'] = X_train_encoded['ZoneId_Zone4'].astype(int)\n",
    "X_train_encoded['ZoneId_Zone5'] = X_train_encoded['ZoneId_Zone5'].astype(int)\n",
    "X_train_encoded['ZoneId_Zone6'] = X_train_encoded['ZoneId_Zone6'].astype(int)\n",
    "X_train_encoded['ZoneId_Zone7'] = X_train_encoded['ZoneId_Zone7'].astype(int)\n",
    "X_train_encoded['ZoneId_Zone8'] = X_train_encoded['ZoneId_Zone8'].astype(int)\n",
    "X_train_encoded['ZoneId_Zone9'] = X_train_encoded['ZoneId_Zone9'].astype(int)\n",
    "X_train_encoded['Weather_BrokenClouds'] = X_train_encoded['Weather_BrokenClouds'].astype(int)\n",
    "X_train_encoded['Weather_Clear'] = X_train_encoded['Weather_Clear'].astype(int)\n",
    "X_train_encoded['Weather_Cloudy'] = X_train_encoded['Weather_Cloudy'].astype(int)\n",
    "X_train_encoded['Weather_Cool'] = X_train_encoded['Weather_Cool'].astype(int)\n",
    "X_train_encoded['Weather_Fog'] = X_train_encoded['Weather_Fog'].astype(int)\n",
    "X_train_encoded['Weather_HeavyRain'] = X_train_encoded['Weather_HeavyRain'].astype(int)\n",
    "X_train_encoded['Weather_LightRain'] = X_train_encoded['Weather_LightRain'].astype(int)\n",
    "X_train_encoded['Weather_LowClouds'] = X_train_encoded['Weather_LowClouds'].astype(int)\n",
    "X_train_encoded['Weather_Mild'] = X_train_encoded['Weather_Mild'].astype(int)\n",
    "X_train_encoded['Weather_Sunny'] = X_train_encoded['Weather_Sunny'].astype(int)\n",
    "X_train_encoded['ProminentActivity_BusinessServices'] = X_train_encoded['ProminentActivity_BusinessServices'].astype(int)\n",
    "X_train_encoded['ProminentActivity_Culture'] = X_train_encoded['ProminentActivity_Culture'].astype(int)\n",
    "X_train_encoded['ProminentActivity_LeisureActivities'] = X_train_encoded['ProminentActivity_LeisureActivities'].astype(int)\n",
    "X_train_encoded['ProminentActivity_RestaurantCafe'] = X_train_encoded['ProminentActivity_RestaurantCafe'].astype(int)\n",
    "X_train_encoded['ProminentActivity_SpecialistRetail'] = X_train_encoded['ProminentActivity_SpecialistRetail'].astype(int)\n",
    "X_train_encoded['DayOfWeek_Friday'] = X_train_encoded['DayOfWeek_Friday'].astype(int)\n",
    "X_train_encoded['DayOfWeek_Monday'] = X_train_encoded['DayOfWeek_Monday'].astype(int)\n",
    "X_train_encoded['DayOfWeek_Saturday'] = X_train_encoded['DayOfWeek_Saturday'].astype(int)\n",
    "X_train_encoded['DayOfWeek_Sunday'] = X_train_encoded['DayOfWeek_Sunday'].astype(int)\n",
    "X_train_encoded['DayOfWeek_Thursday'] = X_train_encoded['DayOfWeek_Thursday'].astype(int)\n",
    "X_train_encoded['DayOfWeek_Tuesday'] = X_train_encoded['DayOfWeek_Tuesday'].astype(int)\n",
    "X_train_encoded['DayOfWeek_Wednesday'] = X_train_encoded['DayOfWeek_Wednesday'].astype(int)\n",
    "X_train_encoded['Month_April'] = X_train_encoded['Month_April'].astype(int)\n",
    "X_train_encoded['Month_May'] = X_train_encoded['Month_May'].astype(int)\n",
    "X_train_encoded['Month_June'] = X_train_encoded['Month_June'].astype(int)"
   ]
  },
  {
   "cell_type": "code",
   "execution_count": 20,
   "id": "f770c638",
   "metadata": {},
   "outputs": [],
   "source": [
    "#Converting the boolean values to numeric to run in the models whereby 1 is true and 0 is false \n",
    "X_test_encoded['ZoneId_Zone1'] = X_test_encoded['ZoneId_Zone1'].astype(int)\n",
    "X_test_encoded['ZoneId_Zone10'] = X_test_encoded['ZoneId_Zone10'].astype(int)\n",
    "X_test_encoded['ZoneId_Zone2'] = X_test_encoded['ZoneId_Zone2'].astype(int)\n",
    "X_test_encoded['ZoneId_Zone4'] = X_test_encoded['ZoneId_Zone4'].astype(int)\n",
    "X_test_encoded['ZoneId_Zone5'] = X_test_encoded['ZoneId_Zone5'].astype(int)\n",
    "X_test_encoded['ZoneId_Zone6'] = X_test_encoded['ZoneId_Zone6'].astype(int)\n",
    "X_test_encoded['ZoneId_Zone7'] = X_test_encoded['ZoneId_Zone7'].astype(int)\n",
    "X_test_encoded['ZoneId_Zone8'] = X_test_encoded['ZoneId_Zone8'].astype(int)\n",
    "X_test_encoded['ZoneId_Zone9'] = X_test_encoded['ZoneId_Zone9'].astype(int)\n",
    "X_test_encoded['Weather_BrokenClouds'] = X_test_encoded['Weather_BrokenClouds'].astype(int)\n",
    "X_test_encoded['Weather_Clear'] = X_test_encoded['Weather_Clear'].astype(int)\n",
    "X_test_encoded['Weather_Cloudy'] = X_test_encoded['Weather_Cloudy'].astype(int)\n",
    "X_test_encoded['Weather_Cool'] = X_test_encoded['Weather_Cool'].astype(int)\n",
    "X_test_encoded['Weather_Fog'] = X_test_encoded['Weather_Fog'].astype(int)\n",
    "X_test_encoded['Weather_HeavyRain'] = X_test_encoded['Weather_HeavyRain'].astype(int)\n",
    "X_test_encoded['Weather_LightRain'] = X_test_encoded['Weather_LightRain'].astype(int)\n",
    "X_test_encoded['Weather_LowClouds'] = X_test_encoded['Weather_LowClouds'].astype(int)\n",
    "X_test_encoded['Weather_Mild'] = X_test_encoded['Weather_Mild'].astype(int)\n",
    "X_test_encoded['Weather_Sunny'] = X_test_encoded['Weather_Sunny'].astype(int)\n",
    "X_test_encoded['ProminentActivity_BusinessServices'] = X_test_encoded['ProminentActivity_BusinessServices'].astype(int)\n",
    "X_test_encoded['ProminentActivity_Culture'] = X_test_encoded['ProminentActivity_Culture'].astype(int)\n",
    "X_test_encoded['ProminentActivity_LeisureActivities'] = X_test_encoded['ProminentActivity_LeisureActivities'].astype(int)\n",
    "X_test_encoded['ProminentActivity_RestaurantCafe'] = X_test_encoded['ProminentActivity_RestaurantCafe'].astype(int)\n",
    "X_test_encoded['ProminentActivity_SpecialistRetail'] = X_test_encoded['ProminentActivity_SpecialistRetail'].astype(int)\n",
    "X_test_encoded['DayOfWeek_Friday'] = X_test_encoded['DayOfWeek_Friday'].astype(int)\n",
    "X_test_encoded['DayOfWeek_Monday'] = X_test_encoded['DayOfWeek_Monday'].astype(int)\n",
    "X_test_encoded['DayOfWeek_Saturday'] = X_test_encoded['DayOfWeek_Saturday'].astype(int)\n",
    "X_test_encoded['DayOfWeek_Sunday'] = X_test_encoded['DayOfWeek_Sunday'].astype(int)\n",
    "X_test_encoded['DayOfWeek_Thursday'] = X_test_encoded['DayOfWeek_Thursday'].astype(int)\n",
    "X_test_encoded['DayOfWeek_Tuesday'] = X_test_encoded['DayOfWeek_Tuesday'].astype(int)\n",
    "X_test_encoded['DayOfWeek_Wednesday'] = X_test_encoded['DayOfWeek_Wednesday'].astype(int)\n",
    "X_test_encoded['Month_April'] = X_test_encoded['Month_April'].astype(int)\n",
    "X_test_encoded['Month_May'] = X_test_encoded['Month_May'].astype(int)\n",
    "X_test_encoded['Month_June'] = X_test_encoded['Month_June'].astype(int)"
   ]
  },
  {
   "cell_type": "code",
   "execution_count": 21,
   "id": "83fa1152",
   "metadata": {},
   "outputs": [
    {
     "data": {
      "text/html": [
       "<div>\n",
       "<style scoped>\n",
       "    .dataframe tbody tr th:only-of-type {\n",
       "        vertical-align: middle;\n",
       "    }\n",
       "\n",
       "    .dataframe tbody tr th {\n",
       "        vertical-align: top;\n",
       "    }\n",
       "\n",
       "    .dataframe thead th {\n",
       "        text-align: right;\n",
       "    }\n",
       "</style>\n",
       "<table border=\"1\" class=\"dataframe\">\n",
       "  <thead>\n",
       "    <tr style=\"text-align: right;\">\n",
       "      <th></th>\n",
       "      <th>Interval</th>\n",
       "      <th>Temp</th>\n",
       "      <th>Wind</th>\n",
       "      <th>Humidity</th>\n",
       "      <th>Barometer</th>\n",
       "      <th>Visibility</th>\n",
       "      <th>IsBankHoliday</th>\n",
       "      <th>IsSchoolHoliday</th>\n",
       "      <th>IsEventInZone</th>\n",
       "      <th>Hour</th>\n",
       "      <th>...</th>\n",
       "      <th>DayOfWeek_Friday</th>\n",
       "      <th>DayOfWeek_Monday</th>\n",
       "      <th>DayOfWeek_Saturday</th>\n",
       "      <th>DayOfWeek_Sunday</th>\n",
       "      <th>DayOfWeek_Thursday</th>\n",
       "      <th>DayOfWeek_Tuesday</th>\n",
       "      <th>DayOfWeek_Wednesday</th>\n",
       "      <th>Month_April</th>\n",
       "      <th>Month_June</th>\n",
       "      <th>Month_May</th>\n",
       "    </tr>\n",
       "  </thead>\n",
       "  <tbody>\n",
       "    <tr>\n",
       "      <th>3660</th>\n",
       "      <td>2023-05-24 15:00:00</td>\n",
       "      <td>18.0</td>\n",
       "      <td>17.0</td>\n",
       "      <td>60.0</td>\n",
       "      <td>1027.0</td>\n",
       "      <td>16.000000</td>\n",
       "      <td>0</td>\n",
       "      <td>0</td>\n",
       "      <td>0</td>\n",
       "      <td>15</td>\n",
       "      <td>...</td>\n",
       "      <td>0</td>\n",
       "      <td>0</td>\n",
       "      <td>0</td>\n",
       "      <td>0</td>\n",
       "      <td>0</td>\n",
       "      <td>0</td>\n",
       "      <td>1</td>\n",
       "      <td>0</td>\n",
       "      <td>0</td>\n",
       "      <td>1</td>\n",
       "    </tr>\n",
       "    <tr>\n",
       "      <th>6416</th>\n",
       "      <td>2023-06-22 17:00:00</td>\n",
       "      <td>21.0</td>\n",
       "      <td>10.0</td>\n",
       "      <td>69.0</td>\n",
       "      <td>1022.0</td>\n",
       "      <td>6.234657</td>\n",
       "      <td>0</td>\n",
       "      <td>0</td>\n",
       "      <td>0</td>\n",
       "      <td>17</td>\n",
       "      <td>...</td>\n",
       "      <td>0</td>\n",
       "      <td>0</td>\n",
       "      <td>0</td>\n",
       "      <td>0</td>\n",
       "      <td>1</td>\n",
       "      <td>0</td>\n",
       "      <td>0</td>\n",
       "      <td>0</td>\n",
       "      <td>1</td>\n",
       "      <td>0</td>\n",
       "    </tr>\n",
       "    <tr>\n",
       "      <th>4907</th>\n",
       "      <td>2023-06-03 18:00:00</td>\n",
       "      <td>18.0</td>\n",
       "      <td>12.0</td>\n",
       "      <td>60.0</td>\n",
       "      <td>1021.0</td>\n",
       "      <td>6.234657</td>\n",
       "      <td>0</td>\n",
       "      <td>0</td>\n",
       "      <td>0</td>\n",
       "      <td>18</td>\n",
       "      <td>...</td>\n",
       "      <td>0</td>\n",
       "      <td>0</td>\n",
       "      <td>1</td>\n",
       "      <td>0</td>\n",
       "      <td>0</td>\n",
       "      <td>0</td>\n",
       "      <td>0</td>\n",
       "      <td>0</td>\n",
       "      <td>1</td>\n",
       "      <td>0</td>\n",
       "    </tr>\n",
       "    <tr>\n",
       "      <th>4088</th>\n",
       "      <td>2023-05-27 23:00:00</td>\n",
       "      <td>12.0</td>\n",
       "      <td>6.0</td>\n",
       "      <td>72.0</td>\n",
       "      <td>1023.0</td>\n",
       "      <td>6.234657</td>\n",
       "      <td>0</td>\n",
       "      <td>0</td>\n",
       "      <td>1</td>\n",
       "      <td>23</td>\n",
       "      <td>...</td>\n",
       "      <td>0</td>\n",
       "      <td>0</td>\n",
       "      <td>1</td>\n",
       "      <td>0</td>\n",
       "      <td>0</td>\n",
       "      <td>0</td>\n",
       "      <td>0</td>\n",
       "      <td>0</td>\n",
       "      <td>0</td>\n",
       "      <td>1</td>\n",
       "    </tr>\n",
       "    <tr>\n",
       "      <th>1112</th>\n",
       "      <td>2023-05-05 20:00:00</td>\n",
       "      <td>13.0</td>\n",
       "      <td>9.0</td>\n",
       "      <td>94.0</td>\n",
       "      <td>1011.0</td>\n",
       "      <td>8.000000</td>\n",
       "      <td>0</td>\n",
       "      <td>0</td>\n",
       "      <td>0</td>\n",
       "      <td>20</td>\n",
       "      <td>...</td>\n",
       "      <td>1</td>\n",
       "      <td>0</td>\n",
       "      <td>0</td>\n",
       "      <td>0</td>\n",
       "      <td>0</td>\n",
       "      <td>0</td>\n",
       "      <td>0</td>\n",
       "      <td>0</td>\n",
       "      <td>0</td>\n",
       "      <td>1</td>\n",
       "    </tr>\n",
       "    <tr>\n",
       "      <th>...</th>\n",
       "      <td>...</td>\n",
       "      <td>...</td>\n",
       "      <td>...</td>\n",
       "      <td>...</td>\n",
       "      <td>...</td>\n",
       "      <td>...</td>\n",
       "      <td>...</td>\n",
       "      <td>...</td>\n",
       "      <td>...</td>\n",
       "      <td>...</td>\n",
       "      <td>...</td>\n",
       "      <td>...</td>\n",
       "      <td>...</td>\n",
       "      <td>...</td>\n",
       "      <td>...</td>\n",
       "      <td>...</td>\n",
       "      <td>...</td>\n",
       "      <td>...</td>\n",
       "      <td>...</td>\n",
       "      <td>...</td>\n",
       "      <td>...</td>\n",
       "    </tr>\n",
       "    <tr>\n",
       "      <th>3772</th>\n",
       "      <td>2023-05-25 16:00:00</td>\n",
       "      <td>18.0</td>\n",
       "      <td>7.0</td>\n",
       "      <td>60.0</td>\n",
       "      <td>1029.0</td>\n",
       "      <td>6.234657</td>\n",
       "      <td>0</td>\n",
       "      <td>0</td>\n",
       "      <td>1</td>\n",
       "      <td>16</td>\n",
       "      <td>...</td>\n",
       "      <td>0</td>\n",
       "      <td>0</td>\n",
       "      <td>0</td>\n",
       "      <td>0</td>\n",
       "      <td>1</td>\n",
       "      <td>0</td>\n",
       "      <td>0</td>\n",
       "      <td>0</td>\n",
       "      <td>0</td>\n",
       "      <td>1</td>\n",
       "    </tr>\n",
       "    <tr>\n",
       "      <th>5191</th>\n",
       "      <td>2023-06-07 16:00:00</td>\n",
       "      <td>17.0</td>\n",
       "      <td>25.0</td>\n",
       "      <td>73.0</td>\n",
       "      <td>1017.0</td>\n",
       "      <td>16.000000</td>\n",
       "      <td>0</td>\n",
       "      <td>0</td>\n",
       "      <td>0</td>\n",
       "      <td>16</td>\n",
       "      <td>...</td>\n",
       "      <td>0</td>\n",
       "      <td>0</td>\n",
       "      <td>0</td>\n",
       "      <td>0</td>\n",
       "      <td>0</td>\n",
       "      <td>0</td>\n",
       "      <td>1</td>\n",
       "      <td>0</td>\n",
       "      <td>1</td>\n",
       "      <td>0</td>\n",
       "    </tr>\n",
       "    <tr>\n",
       "      <th>5226</th>\n",
       "      <td>2023-06-08 09:00:00</td>\n",
       "      <td>15.0</td>\n",
       "      <td>33.0</td>\n",
       "      <td>82.0</td>\n",
       "      <td>1013.0</td>\n",
       "      <td>8.000000</td>\n",
       "      <td>0</td>\n",
       "      <td>0</td>\n",
       "      <td>0</td>\n",
       "      <td>9</td>\n",
       "      <td>...</td>\n",
       "      <td>0</td>\n",
       "      <td>0</td>\n",
       "      <td>0</td>\n",
       "      <td>0</td>\n",
       "      <td>1</td>\n",
       "      <td>0</td>\n",
       "      <td>0</td>\n",
       "      <td>0</td>\n",
       "      <td>1</td>\n",
       "      <td>0</td>\n",
       "    </tr>\n",
       "    <tr>\n",
       "      <th>5390</th>\n",
       "      <td>2023-06-10 11:00:00</td>\n",
       "      <td>16.0</td>\n",
       "      <td>8.0</td>\n",
       "      <td>94.0</td>\n",
       "      <td>1012.0</td>\n",
       "      <td>3.000000</td>\n",
       "      <td>0</td>\n",
       "      <td>0</td>\n",
       "      <td>0</td>\n",
       "      <td>11</td>\n",
       "      <td>...</td>\n",
       "      <td>0</td>\n",
       "      <td>0</td>\n",
       "      <td>1</td>\n",
       "      <td>0</td>\n",
       "      <td>0</td>\n",
       "      <td>0</td>\n",
       "      <td>0</td>\n",
       "      <td>0</td>\n",
       "      <td>1</td>\n",
       "      <td>0</td>\n",
       "    </tr>\n",
       "    <tr>\n",
       "      <th>860</th>\n",
       "      <td>2023-05-04 07:00:00</td>\n",
       "      <td>11.0</td>\n",
       "      <td>18.0</td>\n",
       "      <td>88.0</td>\n",
       "      <td>1009.0</td>\n",
       "      <td>6.000000</td>\n",
       "      <td>0</td>\n",
       "      <td>0</td>\n",
       "      <td>1</td>\n",
       "      <td>7</td>\n",
       "      <td>...</td>\n",
       "      <td>0</td>\n",
       "      <td>0</td>\n",
       "      <td>0</td>\n",
       "      <td>0</td>\n",
       "      <td>1</td>\n",
       "      <td>0</td>\n",
       "      <td>0</td>\n",
       "      <td>0</td>\n",
       "      <td>0</td>\n",
       "      <td>1</td>\n",
       "    </tr>\n",
       "  </tbody>\n",
       "</table>\n",
       "<p>4811 rows × 44 columns</p>\n",
       "</div>"
      ],
      "text/plain": [
       "                Interval  Temp  Wind  Humidity  Barometer  Visibility  \\\n",
       "3660 2023-05-24 15:00:00  18.0  17.0      60.0     1027.0   16.000000   \n",
       "6416 2023-06-22 17:00:00  21.0  10.0      69.0     1022.0    6.234657   \n",
       "4907 2023-06-03 18:00:00  18.0  12.0      60.0     1021.0    6.234657   \n",
       "4088 2023-05-27 23:00:00  12.0   6.0      72.0     1023.0    6.234657   \n",
       "1112 2023-05-05 20:00:00  13.0   9.0      94.0     1011.0    8.000000   \n",
       "...                  ...   ...   ...       ...        ...         ...   \n",
       "3772 2023-05-25 16:00:00  18.0   7.0      60.0     1029.0    6.234657   \n",
       "5191 2023-06-07 16:00:00  17.0  25.0      73.0     1017.0   16.000000   \n",
       "5226 2023-06-08 09:00:00  15.0  33.0      82.0     1013.0    8.000000   \n",
       "5390 2023-06-10 11:00:00  16.0   8.0      94.0     1012.0    3.000000   \n",
       "860  2023-05-04 07:00:00  11.0  18.0      88.0     1009.0    6.000000   \n",
       "\n",
       "      IsBankHoliday  IsSchoolHoliday  IsEventInZone  Hour  ...  \\\n",
       "3660              0                0              0    15  ...   \n",
       "6416              0                0              0    17  ...   \n",
       "4907              0                0              0    18  ...   \n",
       "4088              0                0              1    23  ...   \n",
       "1112              0                0              0    20  ...   \n",
       "...             ...              ...            ...   ...  ...   \n",
       "3772              0                0              1    16  ...   \n",
       "5191              0                0              0    16  ...   \n",
       "5226              0                0              0     9  ...   \n",
       "5390              0                0              0    11  ...   \n",
       "860               0                0              1     7  ...   \n",
       "\n",
       "      DayOfWeek_Friday  DayOfWeek_Monday  DayOfWeek_Saturday  \\\n",
       "3660                 0                 0                   0   \n",
       "6416                 0                 0                   0   \n",
       "4907                 0                 0                   1   \n",
       "4088                 0                 0                   1   \n",
       "1112                 1                 0                   0   \n",
       "...                ...               ...                 ...   \n",
       "3772                 0                 0                   0   \n",
       "5191                 0                 0                   0   \n",
       "5226                 0                 0                   0   \n",
       "5390                 0                 0                   1   \n",
       "860                  0                 0                   0   \n",
       "\n",
       "      DayOfWeek_Sunday  DayOfWeek_Thursday  DayOfWeek_Tuesday  \\\n",
       "3660                 0                   0                  0   \n",
       "6416                 0                   1                  0   \n",
       "4907                 0                   0                  0   \n",
       "4088                 0                   0                  0   \n",
       "1112                 0                   0                  0   \n",
       "...                ...                 ...                ...   \n",
       "3772                 0                   1                  0   \n",
       "5191                 0                   0                  0   \n",
       "5226                 0                   1                  0   \n",
       "5390                 0                   0                  0   \n",
       "860                  0                   1                  0   \n",
       "\n",
       "      DayOfWeek_Wednesday  Month_April  Month_June  Month_May  \n",
       "3660                    1            0           0          1  \n",
       "6416                    0            0           1          0  \n",
       "4907                    0            0           1          0  \n",
       "4088                    0            0           0          1  \n",
       "1112                    0            0           0          1  \n",
       "...                   ...          ...         ...        ...  \n",
       "3772                    0            0           0          1  \n",
       "5191                    1            0           1          0  \n",
       "5226                    0            0           1          0  \n",
       "5390                    0            0           1          0  \n",
       "860                     0            0           0          1  \n",
       "\n",
       "[4811 rows x 44 columns]"
      ]
     },
     "execution_count": 21,
     "metadata": {},
     "output_type": "execute_result"
    }
   ],
   "source": [
    "X_train_encoded"
   ]
  },
  {
   "cell_type": "code",
   "execution_count": 22,
   "id": "32145e92",
   "metadata": {},
   "outputs": [
    {
     "data": {
      "text/html": [
       "<div>\n",
       "<style scoped>\n",
       "    .dataframe tbody tr th:only-of-type {\n",
       "        vertical-align: middle;\n",
       "    }\n",
       "\n",
       "    .dataframe tbody tr th {\n",
       "        vertical-align: top;\n",
       "    }\n",
       "\n",
       "    .dataframe thead th {\n",
       "        text-align: right;\n",
       "    }\n",
       "</style>\n",
       "<table border=\"1\" class=\"dataframe\">\n",
       "  <thead>\n",
       "    <tr style=\"text-align: right;\">\n",
       "      <th></th>\n",
       "      <th>Interval</th>\n",
       "      <th>Temp</th>\n",
       "      <th>Wind</th>\n",
       "      <th>Humidity</th>\n",
       "      <th>Barometer</th>\n",
       "      <th>Visibility</th>\n",
       "      <th>IsBankHoliday</th>\n",
       "      <th>IsSchoolHoliday</th>\n",
       "      <th>IsEventInZone</th>\n",
       "      <th>Hour</th>\n",
       "      <th>...</th>\n",
       "      <th>DayOfWeek_Friday</th>\n",
       "      <th>DayOfWeek_Monday</th>\n",
       "      <th>DayOfWeek_Saturday</th>\n",
       "      <th>DayOfWeek_Sunday</th>\n",
       "      <th>DayOfWeek_Thursday</th>\n",
       "      <th>DayOfWeek_Tuesday</th>\n",
       "      <th>DayOfWeek_Wednesday</th>\n",
       "      <th>Month_April</th>\n",
       "      <th>Month_June</th>\n",
       "      <th>Month_May</th>\n",
       "    </tr>\n",
       "  </thead>\n",
       "  <tbody>\n",
       "    <tr>\n",
       "      <th>1783</th>\n",
       "      <td>2023-05-10 02:00:00</td>\n",
       "      <td>11.0</td>\n",
       "      <td>12.0</td>\n",
       "      <td>94.0</td>\n",
       "      <td>1015.0</td>\n",
       "      <td>8.000000</td>\n",
       "      <td>0</td>\n",
       "      <td>0</td>\n",
       "      <td>1</td>\n",
       "      <td>2</td>\n",
       "      <td>...</td>\n",
       "      <td>0</td>\n",
       "      <td>0</td>\n",
       "      <td>0</td>\n",
       "      <td>0</td>\n",
       "      <td>0</td>\n",
       "      <td>0</td>\n",
       "      <td>1</td>\n",
       "      <td>0</td>\n",
       "      <td>0</td>\n",
       "      <td>1</td>\n",
       "    </tr>\n",
       "    <tr>\n",
       "      <th>6311</th>\n",
       "      <td>2023-06-21 16:00:00</td>\n",
       "      <td>19.0</td>\n",
       "      <td>14.0</td>\n",
       "      <td>78.0</td>\n",
       "      <td>1017.0</td>\n",
       "      <td>6.234657</td>\n",
       "      <td>0</td>\n",
       "      <td>0</td>\n",
       "      <td>0</td>\n",
       "      <td>16</td>\n",
       "      <td>...</td>\n",
       "      <td>0</td>\n",
       "      <td>0</td>\n",
       "      <td>0</td>\n",
       "      <td>0</td>\n",
       "      <td>0</td>\n",
       "      <td>0</td>\n",
       "      <td>1</td>\n",
       "      <td>0</td>\n",
       "      <td>1</td>\n",
       "      <td>0</td>\n",
       "    </tr>\n",
       "    <tr>\n",
       "      <th>496</th>\n",
       "      <td>2023-05-01 23:00:00</td>\n",
       "      <td>9.0</td>\n",
       "      <td>1.0</td>\n",
       "      <td>94.0</td>\n",
       "      <td>1023.0</td>\n",
       "      <td>6.234657</td>\n",
       "      <td>1</td>\n",
       "      <td>1</td>\n",
       "      <td>0</td>\n",
       "      <td>23</td>\n",
       "      <td>...</td>\n",
       "      <td>0</td>\n",
       "      <td>1</td>\n",
       "      <td>0</td>\n",
       "      <td>0</td>\n",
       "      <td>0</td>\n",
       "      <td>0</td>\n",
       "      <td>0</td>\n",
       "      <td>0</td>\n",
       "      <td>0</td>\n",
       "      <td>1</td>\n",
       "    </tr>\n",
       "    <tr>\n",
       "      <th>2168</th>\n",
       "      <td>2023-05-12 09:00:00</td>\n",
       "      <td>13.0</td>\n",
       "      <td>9.0</td>\n",
       "      <td>82.0</td>\n",
       "      <td>1023.0</td>\n",
       "      <td>6.234657</td>\n",
       "      <td>0</td>\n",
       "      <td>0</td>\n",
       "      <td>0</td>\n",
       "      <td>9</td>\n",
       "      <td>...</td>\n",
       "      <td>1</td>\n",
       "      <td>0</td>\n",
       "      <td>0</td>\n",
       "      <td>0</td>\n",
       "      <td>0</td>\n",
       "      <td>0</td>\n",
       "      <td>0</td>\n",
       "      <td>0</td>\n",
       "      <td>0</td>\n",
       "      <td>1</td>\n",
       "    </tr>\n",
       "    <tr>\n",
       "      <th>2275</th>\n",
       "      <td>2023-05-12 21:00:00</td>\n",
       "      <td>13.0</td>\n",
       "      <td>10.0</td>\n",
       "      <td>88.0</td>\n",
       "      <td>1025.0</td>\n",
       "      <td>6.234657</td>\n",
       "      <td>0</td>\n",
       "      <td>0</td>\n",
       "      <td>1</td>\n",
       "      <td>21</td>\n",
       "      <td>...</td>\n",
       "      <td>1</td>\n",
       "      <td>0</td>\n",
       "      <td>0</td>\n",
       "      <td>0</td>\n",
       "      <td>0</td>\n",
       "      <td>0</td>\n",
       "      <td>0</td>\n",
       "      <td>0</td>\n",
       "      <td>0</td>\n",
       "      <td>1</td>\n",
       "    </tr>\n",
       "    <tr>\n",
       "      <th>...</th>\n",
       "      <td>...</td>\n",
       "      <td>...</td>\n",
       "      <td>...</td>\n",
       "      <td>...</td>\n",
       "      <td>...</td>\n",
       "      <td>...</td>\n",
       "      <td>...</td>\n",
       "      <td>...</td>\n",
       "      <td>...</td>\n",
       "      <td>...</td>\n",
       "      <td>...</td>\n",
       "      <td>...</td>\n",
       "      <td>...</td>\n",
       "      <td>...</td>\n",
       "      <td>...</td>\n",
       "      <td>...</td>\n",
       "      <td>...</td>\n",
       "      <td>...</td>\n",
       "      <td>...</td>\n",
       "      <td>...</td>\n",
       "      <td>...</td>\n",
       "    </tr>\n",
       "    <tr>\n",
       "      <th>3571</th>\n",
       "      <td>2023-05-24 04:00:00</td>\n",
       "      <td>10.0</td>\n",
       "      <td>5.0</td>\n",
       "      <td>88.0</td>\n",
       "      <td>1027.0</td>\n",
       "      <td>6.234657</td>\n",
       "      <td>0</td>\n",
       "      <td>0</td>\n",
       "      <td>0</td>\n",
       "      <td>4</td>\n",
       "      <td>...</td>\n",
       "      <td>0</td>\n",
       "      <td>0</td>\n",
       "      <td>0</td>\n",
       "      <td>0</td>\n",
       "      <td>0</td>\n",
       "      <td>0</td>\n",
       "      <td>1</td>\n",
       "      <td>0</td>\n",
       "      <td>0</td>\n",
       "      <td>1</td>\n",
       "    </tr>\n",
       "    <tr>\n",
       "      <th>2516</th>\n",
       "      <td>2023-05-14 14:00:00</td>\n",
       "      <td>13.0</td>\n",
       "      <td>8.0</td>\n",
       "      <td>94.0</td>\n",
       "      <td>1022.0</td>\n",
       "      <td>6.234657</td>\n",
       "      <td>0</td>\n",
       "      <td>0</td>\n",
       "      <td>0</td>\n",
       "      <td>14</td>\n",
       "      <td>...</td>\n",
       "      <td>0</td>\n",
       "      <td>0</td>\n",
       "      <td>0</td>\n",
       "      <td>1</td>\n",
       "      <td>0</td>\n",
       "      <td>0</td>\n",
       "      <td>0</td>\n",
       "      <td>0</td>\n",
       "      <td>0</td>\n",
       "      <td>1</td>\n",
       "    </tr>\n",
       "    <tr>\n",
       "      <th>3617</th>\n",
       "      <td>2023-05-24 10:00:00</td>\n",
       "      <td>17.0</td>\n",
       "      <td>12.0</td>\n",
       "      <td>68.0</td>\n",
       "      <td>1027.0</td>\n",
       "      <td>16.000000</td>\n",
       "      <td>0</td>\n",
       "      <td>0</td>\n",
       "      <td>1</td>\n",
       "      <td>10</td>\n",
       "      <td>...</td>\n",
       "      <td>0</td>\n",
       "      <td>0</td>\n",
       "      <td>0</td>\n",
       "      <td>0</td>\n",
       "      <td>0</td>\n",
       "      <td>0</td>\n",
       "      <td>1</td>\n",
       "      <td>0</td>\n",
       "      <td>0</td>\n",
       "      <td>1</td>\n",
       "    </tr>\n",
       "    <tr>\n",
       "      <th>1294</th>\n",
       "      <td>2023-05-07 18:00:00</td>\n",
       "      <td>14.0</td>\n",
       "      <td>10.0</td>\n",
       "      <td>88.0</td>\n",
       "      <td>1020.0</td>\n",
       "      <td>6.234657</td>\n",
       "      <td>0</td>\n",
       "      <td>0</td>\n",
       "      <td>1</td>\n",
       "      <td>18</td>\n",
       "      <td>...</td>\n",
       "      <td>0</td>\n",
       "      <td>0</td>\n",
       "      <td>0</td>\n",
       "      <td>1</td>\n",
       "      <td>0</td>\n",
       "      <td>0</td>\n",
       "      <td>0</td>\n",
       "      <td>0</td>\n",
       "      <td>0</td>\n",
       "      <td>1</td>\n",
       "    </tr>\n",
       "    <tr>\n",
       "      <th>2840</th>\n",
       "      <td>2023-05-16 09:00:00</td>\n",
       "      <td>12.0</td>\n",
       "      <td>6.0</td>\n",
       "      <td>72.0</td>\n",
       "      <td>1027.0</td>\n",
       "      <td>6.234657</td>\n",
       "      <td>0</td>\n",
       "      <td>0</td>\n",
       "      <td>0</td>\n",
       "      <td>9</td>\n",
       "      <td>...</td>\n",
       "      <td>0</td>\n",
       "      <td>0</td>\n",
       "      <td>0</td>\n",
       "      <td>0</td>\n",
       "      <td>0</td>\n",
       "      <td>1</td>\n",
       "      <td>0</td>\n",
       "      <td>0</td>\n",
       "      <td>0</td>\n",
       "      <td>1</td>\n",
       "    </tr>\n",
       "  </tbody>\n",
       "</table>\n",
       "<p>2062 rows × 44 columns</p>\n",
       "</div>"
      ],
      "text/plain": [
       "                Interval  Temp  Wind  Humidity  Barometer  Visibility  \\\n",
       "1783 2023-05-10 02:00:00  11.0  12.0      94.0     1015.0    8.000000   \n",
       "6311 2023-06-21 16:00:00  19.0  14.0      78.0     1017.0    6.234657   \n",
       "496  2023-05-01 23:00:00   9.0   1.0      94.0     1023.0    6.234657   \n",
       "2168 2023-05-12 09:00:00  13.0   9.0      82.0     1023.0    6.234657   \n",
       "2275 2023-05-12 21:00:00  13.0  10.0      88.0     1025.0    6.234657   \n",
       "...                  ...   ...   ...       ...        ...         ...   \n",
       "3571 2023-05-24 04:00:00  10.0   5.0      88.0     1027.0    6.234657   \n",
       "2516 2023-05-14 14:00:00  13.0   8.0      94.0     1022.0    6.234657   \n",
       "3617 2023-05-24 10:00:00  17.0  12.0      68.0     1027.0   16.000000   \n",
       "1294 2023-05-07 18:00:00  14.0  10.0      88.0     1020.0    6.234657   \n",
       "2840 2023-05-16 09:00:00  12.0   6.0      72.0     1027.0    6.234657   \n",
       "\n",
       "      IsBankHoliday  IsSchoolHoliday  IsEventInZone  Hour  ...  \\\n",
       "1783              0                0              1     2  ...   \n",
       "6311              0                0              0    16  ...   \n",
       "496               1                1              0    23  ...   \n",
       "2168              0                0              0     9  ...   \n",
       "2275              0                0              1    21  ...   \n",
       "...             ...              ...            ...   ...  ...   \n",
       "3571              0                0              0     4  ...   \n",
       "2516              0                0              0    14  ...   \n",
       "3617              0                0              1    10  ...   \n",
       "1294              0                0              1    18  ...   \n",
       "2840              0                0              0     9  ...   \n",
       "\n",
       "      DayOfWeek_Friday  DayOfWeek_Monday  DayOfWeek_Saturday  \\\n",
       "1783                 0                 0                   0   \n",
       "6311                 0                 0                   0   \n",
       "496                  0                 1                   0   \n",
       "2168                 1                 0                   0   \n",
       "2275                 1                 0                   0   \n",
       "...                ...               ...                 ...   \n",
       "3571                 0                 0                   0   \n",
       "2516                 0                 0                   0   \n",
       "3617                 0                 0                   0   \n",
       "1294                 0                 0                   0   \n",
       "2840                 0                 0                   0   \n",
       "\n",
       "      DayOfWeek_Sunday  DayOfWeek_Thursday  DayOfWeek_Tuesday  \\\n",
       "1783                 0                   0                  0   \n",
       "6311                 0                   0                  0   \n",
       "496                  0                   0                  0   \n",
       "2168                 0                   0                  0   \n",
       "2275                 0                   0                  0   \n",
       "...                ...                 ...                ...   \n",
       "3571                 0                   0                  0   \n",
       "2516                 1                   0                  0   \n",
       "3617                 0                   0                  0   \n",
       "1294                 1                   0                  0   \n",
       "2840                 0                   0                  1   \n",
       "\n",
       "      DayOfWeek_Wednesday  Month_April  Month_June  Month_May  \n",
       "1783                    1            0           0          1  \n",
       "6311                    1            0           1          0  \n",
       "496                     0            0           0          1  \n",
       "2168                    0            0           0          1  \n",
       "2275                    0            0           0          1  \n",
       "...                   ...          ...         ...        ...  \n",
       "3571                    1            0           0          1  \n",
       "2516                    0            0           0          1  \n",
       "3617                    1            0           0          1  \n",
       "1294                    0            0           0          1  \n",
       "2840                    0            0           0          1  \n",
       "\n",
       "[2062 rows x 44 columns]"
      ]
     },
     "execution_count": 22,
     "metadata": {},
     "output_type": "execute_result"
    }
   ],
   "source": [
    "X_test_encoded"
   ]
  },
  {
   "cell_type": "code",
   "execution_count": 23,
   "id": "54ee2c5c",
   "metadata": {},
   "outputs": [
    {
     "data": {
      "text/plain": [
       "Interval                               datetime64[ns]\n",
       "Temp                                          float64\n",
       "Wind                                          float64\n",
       "Humidity                                      float64\n",
       "Barometer                                     float64\n",
       "Visibility                                    float64\n",
       "IsBankHoliday                                   int32\n",
       "IsSchoolHoliday                                 int32\n",
       "IsEventInZone                                   int32\n",
       "Hour                                            int64\n",
       "ZoneId_Zone1                                    int32\n",
       "ZoneId_Zone10                                   int32\n",
       "ZoneId_Zone2                                    int32\n",
       "ZoneId_Zone4                                    int32\n",
       "ZoneId_Zone5                                    int32\n",
       "ZoneId_Zone6                                    int32\n",
       "ZoneId_Zone7                                    int32\n",
       "ZoneId_Zone8                                    int32\n",
       "ZoneId_Zone9                                    int32\n",
       "Weather_BrokenClouds                            int32\n",
       "Weather_Clear                                   int32\n",
       "Weather_Cloudy                                  int32\n",
       "Weather_Cool                                    int32\n",
       "Weather_Fog                                     int32\n",
       "Weather_HeavyRain                               int32\n",
       "Weather_LightRain                               int32\n",
       "Weather_LowClouds                               int32\n",
       "Weather_Mild                                    int32\n",
       "Weather_Sunny                                   int32\n",
       "ProminentActivity_BusinessServices              int32\n",
       "ProminentActivity_Culture                       int32\n",
       "ProminentActivity_LeisureActivities             int32\n",
       "ProminentActivity_RestaurantCafe                int32\n",
       "ProminentActivity_SpecialistRetail              int32\n",
       "DayOfWeek_Friday                                int32\n",
       "DayOfWeek_Monday                                int32\n",
       "DayOfWeek_Saturday                              int32\n",
       "DayOfWeek_Sunday                                int32\n",
       "DayOfWeek_Thursday                              int32\n",
       "DayOfWeek_Tuesday                               int32\n",
       "DayOfWeek_Wednesday                             int32\n",
       "Month_April                                     int32\n",
       "Month_June                                      int32\n",
       "Month_May                                       int32\n",
       "dtype: object"
      ]
     },
     "execution_count": 23,
     "metadata": {},
     "output_type": "execute_result"
    }
   ],
   "source": [
    "X_train_encoded.dtypes"
   ]
  },
  {
   "cell_type": "code",
   "execution_count": 24,
   "id": "5499b573",
   "metadata": {},
   "outputs": [
    {
     "data": {
      "text/plain": [
       "(4811, 44)"
      ]
     },
     "execution_count": 24,
     "metadata": {},
     "output_type": "execute_result"
    }
   ],
   "source": [
    "X_train_encoded.shape"
   ]
  },
  {
   "cell_type": "markdown",
   "id": "526dfa80",
   "metadata": {},
   "source": [
    "### Feature Scaling"
   ]
  },
  {
   "cell_type": "code",
   "execution_count": 25,
   "id": "5df8b51d",
   "metadata": {},
   "outputs": [
    {
     "name": "stdout",
     "output_type": "stream",
     "text": [
      "Range of each feature:\n",
      " Temp          17.0\n",
      "Wind          32.0\n",
      "Humidity      64.0\n",
      "Barometer     23.0\n",
      "Visibility    16.0\n",
      "dtype: float64\n"
     ]
    }
   ],
   "source": [
    "#Calculating the minimum and maximum of each value\n",
    "min_vals = X_train_encoded[['Temp', 'Wind', 'Humidity', 'Barometer', 'Visibility']].min()\n",
    "max_vals = X_train_encoded[['Temp', 'Wind', 'Humidity', 'Barometer', 'Visibility']].max()\n",
    "\n",
    "#Calculating the range of each feature\n",
    "range_vals = max_vals - min_vals\n",
    "\n",
    "print(\"Range of each feature:\\n\", range_vals)"
   ]
  },
  {
   "cell_type": "code",
   "execution_count": 26,
   "id": "660be957",
   "metadata": {},
   "outputs": [
    {
     "data": {
      "text/plain": [
       "(array([  68.,  302., 1121.,  611.,  835.,  833.,  390.,  451.,  123.,\n",
       "          77.]),\n",
       " array([ 7. ,  8.7, 10.4, 12.1, 13.8, 15.5, 17.2, 18.9, 20.6, 22.3, 24. ]),\n",
       " <BarContainer object of 10 artists>)"
      ]
     },
     "execution_count": 26,
     "metadata": {},
     "output_type": "execute_result"
    },
    {
     "data": {
      "text/plain": [
       "Text(0.5, 1.0, 'Temperature')"
      ]
     },
     "execution_count": 26,
     "metadata": {},
     "output_type": "execute_result"
    },
    {
     "data": {
      "text/plain": [
       "(array([ 272., 1253., 1056.,  728.,  796.,  504.,   95.,   68.,    0.,\n",
       "          39.]),\n",
       " array([ 1. ,  4.2,  7.4, 10.6, 13.8, 17. , 20.2, 23.4, 26.6, 29.8, 33. ]),\n",
       " <BarContainer object of 10 artists>)"
      ]
     },
     "execution_count": 26,
     "metadata": {},
     "output_type": "execute_result"
    },
    {
     "data": {
      "text/plain": [
       "Text(0.5, 1.0, 'Wind')"
      ]
     },
     "execution_count": 26,
     "metadata": {},
     "output_type": "execute_result"
    },
    {
     "data": {
      "text/plain": [
       "(array([ 284.,  254.,  327.,  462.,  502.,  397., 1241.,  548.,  486.,\n",
       "         310.]),\n",
       " array([1007. , 1009.3, 1011.6, 1013.9, 1016.2, 1018.5, 1020.8, 1023.1,\n",
       "        1025.4, 1027.7, 1030. ]),\n",
       " <BarContainer object of 10 artists>)"
      ]
     },
     "execution_count": 26,
     "metadata": {},
     "output_type": "execute_result"
    },
    {
     "data": {
      "text/plain": [
       "Text(0.5, 1.0, 'Barometer')"
      ]
     },
     "execution_count": 26,
     "metadata": {},
     "output_type": "execute_result"
    },
    {
     "data": {
      "text/plain": [
       "(array([  21.,   32.,  119.,  411.,  405.,  913.,  502.,  548.,  550.,\n",
       "        1310.]),\n",
       " array([ 36. ,  42.4,  48.8,  55.2,  61.6,  68. ,  74.4,  80.8,  87.2,\n",
       "         93.6, 100. ]),\n",
       " <BarContainer object of 10 artists>)"
      ]
     },
     "execution_count": 26,
     "metadata": {},
     "output_type": "execute_result"
    },
    {
     "data": {
      "text/plain": [
       "Text(0.5, 1.0, 'Humidity')"
      ]
     },
     "execution_count": 26,
     "metadata": {},
     "output_type": "execute_result"
    },
    {
     "data": {
      "text/plain": [
       "(array([ 282.,  169.,   48., 3768.,   54.,  237.,    0.,    0.,    0.,\n",
       "         253.]),\n",
       " array([ 0. ,  1.6,  3.2,  4.8,  6.4,  8. ,  9.6, 11.2, 12.8, 14.4, 16. ]),\n",
       " <BarContainer object of 10 artists>)"
      ]
     },
     "execution_count": 26,
     "metadata": {},
     "output_type": "execute_result"
    },
    {
     "data": {
      "text/plain": [
       "Text(0.5, 1.0, 'Visibility')"
      ]
     },
     "execution_count": 26,
     "metadata": {},
     "output_type": "execute_result"
    },
    {
     "data": {
      "image/png": "[encoded data removed]",
      "text/plain": [
       "<Figure size 1080x576 with 6 Axes>"
      ]
     },
     "metadata": {},
     "output_type": "display_data"
    }
   ],
   "source": [
    "fig, axs = plt.subplots(2, 3, figsize=(15, 8))\n",
    "\n",
    "axs[0, 0].hist(X_train_encoded[\"Temp\"])\n",
    "axs[0, 0].set_title(\"Temperature\")\n",
    "axs[0, 1].hist(X_train_encoded[\"Wind\"])\n",
    "axs[0, 1].set_title(\"Wind\")\n",
    "axs[0, 2].hist(X_train_encoded[\"Barometer\"])\n",
    "axs[0, 2].set_title(\"Barometer\")\n",
    "axs[1, 0].hist(X_train_encoded[\"Humidity\"])\n",
    "axs[1, 0].set_title(\"Humidity\")\n",
    "axs[1, 1].hist(X_train_encoded[\"Visibility\"])\n",
    "axs[1, 1].set_title(\"Visibility\")\n",
    "plt.savefig('scaling_weather.png')\n",
    "plt.show()"
   ]
  },
  {
   "cell_type": "code",
   "execution_count": 27,
   "id": "3d2e7d71",
   "metadata": {},
   "outputs": [
    {
     "data": {
      "text/plain": [
       "<Figure size 576x432 with 0 Axes>"
      ]
     },
     "execution_count": 27,
     "metadata": {},
     "output_type": "execute_result"
    },
    {
     "data": {
      "text/plain": [
       "{'whiskers': [<matplotlib.lines.Line2D at 0x1896671d490>,\n",
       "  <matplotlib.lines.Line2D at 0x1896671d760>],\n",
       " 'caps': [<matplotlib.lines.Line2D at 0x1896671daf0>,\n",
       "  <matplotlib.lines.Line2D at 0x1896671dd00>],\n",
       " 'boxes': [<matplotlib.lines.Line2D at 0x1896671d1c0>],\n",
       " 'medians': [<matplotlib.lines.Line2D at 0x1896671dfd0>],\n",
       " 'fliers': [<matplotlib.lines.Line2D at 0x1896672d2e0>],\n",
       " 'means': []}"
      ]
     },
     "execution_count": 27,
     "metadata": {},
     "output_type": "execute_result"
    },
    {
     "data": {
      "text/plain": [
       "Text(0.5, 0, 'Temp')"
      ]
     },
     "execution_count": 27,
     "metadata": {},
     "output_type": "execute_result"
    },
    {
     "data": {
      "text/plain": [
       "Text(0, 0.5, 'Value')"
      ]
     },
     "execution_count": 27,
     "metadata": {},
     "output_type": "execute_result"
    },
    {
     "data": {
      "text/plain": [
       "Text(0.5, 1.0, 'Box Plot of Temp')"
      ]
     },
     "execution_count": 27,
     "metadata": {},
     "output_type": "execute_result"
    },
    {
     "data": {
      "image/png": "[encoded data removed]",
      "text/plain": [
       "<Figure size 576x432 with 1 Axes>"
      ]
     },
     "metadata": {},
     "output_type": "display_data"
    },
    {
     "data": {
      "text/plain": [
       "<Figure size 576x432 with 0 Axes>"
      ]
     },
     "execution_count": 27,
     "metadata": {},
     "output_type": "execute_result"
    },
    {
     "data": {
      "text/plain": [
       "{'whiskers': [<matplotlib.lines.Line2D at 0x18966771c10>,\n",
       "  <matplotlib.lines.Line2D at 0x1896678c3a0>],\n",
       " 'caps': [<matplotlib.lines.Line2D at 0x1896678c670>,\n",
       "  <matplotlib.lines.Line2D at 0x1896678c940>],\n",
       " 'boxes': [<matplotlib.lines.Line2D at 0x1896677eee0>],\n",
       " 'medians': [<matplotlib.lines.Line2D at 0x1896678cc10>],\n",
       " 'fliers': [<matplotlib.lines.Line2D at 0x1896678cee0>],\n",
       " 'means': []}"
      ]
     },
     "execution_count": 27,
     "metadata": {},
     "output_type": "execute_result"
    },
    {
     "data": {
      "text/plain": [
       "Text(0.5, 0, 'Wind')"
      ]
     },
     "execution_count": 27,
     "metadata": {},
     "output_type": "execute_result"
    },
    {
     "data": {
      "text/plain": [
       "Text(0, 0.5, 'Value')"
      ]
     },
     "execution_count": 27,
     "metadata": {},
     "output_type": "execute_result"
    },
    {
     "data": {
      "text/plain": [
       "Text(0.5, 1.0, 'Box Plot of Wind')"
      ]
     },
     "execution_count": 27,
     "metadata": {},
     "output_type": "execute_result"
    },
    {
     "data": {
      "image/png": "[encoded data removed]",
      "text/plain": [
       "<Figure size 576x432 with 1 Axes>"
      ]
     },
     "metadata": {},
     "output_type": "display_data"
    },
    {
     "data": {
      "text/plain": [
       "<Figure size 576x432 with 0 Axes>"
      ]
     },
     "execution_count": 27,
     "metadata": {},
     "output_type": "execute_result"
    },
    {
     "data": {
      "text/plain": [
       "{'whiskers': [<matplotlib.lines.Line2D at 0x189667db790>,\n",
       "  <matplotlib.lines.Line2D at 0x189667ebeb0>],\n",
       " 'caps': [<matplotlib.lines.Line2D at 0x189667fa1c0>,\n",
       "  <matplotlib.lines.Line2D at 0x189667fa490>],\n",
       " 'boxes': [<matplotlib.lines.Line2D at 0x189667eba30>],\n",
       " 'medians': [<matplotlib.lines.Line2D at 0x189667fa760>],\n",
       " 'fliers': [<matplotlib.lines.Line2D at 0x189667faa30>],\n",
       " 'means': []}"
      ]
     },
     "execution_count": 27,
     "metadata": {},
     "output_type": "execute_result"
    },
    {
     "data": {
      "text/plain": [
       "Text(0.5, 0, 'Humidity')"
      ]
     },
     "execution_count": 27,
     "metadata": {},
     "output_type": "execute_result"
    },
    {
     "data": {
      "text/plain": [
       "Text(0, 0.5, 'Value')"
      ]
     },
     "execution_count": 27,
     "metadata": {},
     "output_type": "execute_result"
    },
    {
     "data": {
      "text/plain": [
       "Text(0.5, 1.0, 'Box Plot of Humidity')"
      ]
     },
     "execution_count": 27,
     "metadata": {},
     "output_type": "execute_result"
    },
    {
     "data": {
      "image/png": "[encoded data removed]",
      "text/plain": [
       "<Figure size 576x432 with 1 Axes>"
      ]
     },
     "metadata": {},
     "output_type": "display_data"
    },
    {
     "data": {
      "text/plain": [
       "<Figure size 576x432 with 0 Axes>"
      ]
     },
     "execution_count": 27,
     "metadata": {},
     "output_type": "execute_result"
    },
    {
     "data": {
      "text/plain": [
       "{'whiskers': [<matplotlib.lines.Line2D at 0x1896684b280>,\n",
       "  <matplotlib.lines.Line2D at 0x189668569d0>],\n",
       " 'caps': [<matplotlib.lines.Line2D at 0x18966856ca0>,\n",
       "  <matplotlib.lines.Line2D at 0x18966856f70>],\n",
       " 'boxes': [<matplotlib.lines.Line2D at 0x18966856550>],\n",
       " 'medians': [<matplotlib.lines.Line2D at 0x18966864280>],\n",
       " 'fliers': [<matplotlib.lines.Line2D at 0x18966864550>],\n",
       " 'means': []}"
      ]
     },
     "execution_count": 27,
     "metadata": {},
     "output_type": "execute_result"
    },
    {
     "data": {
      "text/plain": [
       "Text(0.5, 0, 'Barometer')"
      ]
     },
     "execution_count": 27,
     "metadata": {},
     "output_type": "execute_result"
    },
    {
     "data": {
      "text/plain": [
       "Text(0, 0.5, 'Value')"
      ]
     },
     "execution_count": 27,
     "metadata": {},
     "output_type": "execute_result"
    },
    {
     "data": {
      "text/plain": [
       "Text(0.5, 1.0, 'Box Plot of Barometer')"
      ]
     },
     "execution_count": 27,
     "metadata": {},
     "output_type": "execute_result"
    },
    {
     "data": {
      "image/png": "[encoded data removed]",
      "text/plain": [
       "<Figure size 576x432 with 1 Axes>"
      ]
     },
     "metadata": {},
     "output_type": "display_data"
    },
    {
     "data": {
      "text/plain": [
       "<Figure size 576x432 with 0 Axes>"
      ]
     },
     "execution_count": 27,
     "metadata": {},
     "output_type": "execute_result"
    },
    {
     "data": {
      "text/plain": [
       "{'whiskers': [<matplotlib.lines.Line2D at 0x189668ac0a0>,\n",
       "  <matplotlib.lines.Line2D at 0x189668ba7f0>],\n",
       " 'caps': [<matplotlib.lines.Line2D at 0x189668baac0>,\n",
       "  <matplotlib.lines.Line2D at 0x189668bad90>],\n",
       " 'boxes': [<matplotlib.lines.Line2D at 0x189668ba370>],\n",
       " 'medians': [<matplotlib.lines.Line2D at 0x189668c50a0>],\n",
       " 'fliers': [<matplotlib.lines.Line2D at 0x189668c5370>],\n",
       " 'means': []}"
      ]
     },
     "execution_count": 27,
     "metadata": {},
     "output_type": "execute_result"
    },
    {
     "data": {
      "text/plain": [
       "Text(0.5, 0, 'Visibility')"
      ]
     },
     "execution_count": 27,
     "metadata": {},
     "output_type": "execute_result"
    },
    {
     "data": {
      "text/plain": [
       "Text(0, 0.5, 'Value')"
      ]
     },
     "execution_count": 27,
     "metadata": {},
     "output_type": "execute_result"
    },
    {
     "data": {
      "text/plain": [
       "Text(0.5, 1.0, 'Box Plot of Visibility')"
      ]
     },
     "execution_count": 27,
     "metadata": {},
     "output_type": "execute_result"
    },
    {
     "data": {
      "image/png": "[encoded data removed]",
      "text/plain": [
       "<Figure size 576x432 with 1 Axes>"
      ]
     },
     "metadata": {},
     "output_type": "display_data"
    }
   ],
   "source": [
    "#Box plots\n",
    "numerical_columns = ['Temp', 'Wind', 'Humidity', 'Barometer', 'Visibility']\n",
    "\n",
    "for column in numerical_columns:\n",
    "    plt.figure(figsize=(8, 6))\n",
    "    plt.boxplot(X_train_encoded[column].dropna())\n",
    "    plt.xlabel(column)\n",
    "    plt.ylabel('Value')\n",
    "    plt.title(f'Box Plot of {column}')\n",
    "    plt.show()"
   ]
  },
  {
   "cell_type": "markdown",
   "id": "bb749c14",
   "metadata": {},
   "source": [
    "With there being outliers present in \"Wind\" and \"Visibility\" we will scale this feature using robust scaling as robust to outliers"
   ]
  },
  {
   "cell_type": "code",
   "execution_count": 28,
   "id": "bc4604b3",
   "metadata": {},
   "outputs": [],
   "source": [
    "#Using robust scaler\n",
    "columns_to_scale = ['Temp', 'Humidity', 'Visibility', 'Barometer', 'Wind']\n",
    "\n",
    "scaler = RobustScaler()\n",
    "X_train_encoded[columns_to_scale] = scaler.fit_transform(X_train_encoded[columns_to_scale])\n",
    "X_test_encoded[columns_to_scale] = scaler.transform(X_test_encoded[columns_to_scale])"
   ]
  },
  {
   "cell_type": "code",
   "execution_count": 29,
   "id": "ddc537e5",
   "metadata": {},
   "outputs": [
    {
     "data": {
      "text/html": [
       "<div>\n",
       "<style scoped>\n",
       "    .dataframe tbody tr th:only-of-type {\n",
       "        vertical-align: middle;\n",
       "    }\n",
       "\n",
       "    .dataframe tbody tr th {\n",
       "        vertical-align: top;\n",
       "    }\n",
       "\n",
       "    .dataframe thead th {\n",
       "        text-align: right;\n",
       "    }\n",
       "</style>\n",
       "<table border=\"1\" class=\"dataframe\">\n",
       "  <thead>\n",
       "    <tr style=\"text-align: right;\">\n",
       "      <th></th>\n",
       "      <th>Interval</th>\n",
       "      <th>Temp</th>\n",
       "      <th>Wind</th>\n",
       "      <th>Humidity</th>\n",
       "      <th>Barometer</th>\n",
       "      <th>Visibility</th>\n",
       "      <th>IsBankHoliday</th>\n",
       "      <th>IsSchoolHoliday</th>\n",
       "      <th>IsEventInZone</th>\n",
       "      <th>Hour</th>\n",
       "      <th>...</th>\n",
       "      <th>DayOfWeek_Friday</th>\n",
       "      <th>DayOfWeek_Monday</th>\n",
       "      <th>DayOfWeek_Saturday</th>\n",
       "      <th>DayOfWeek_Sunday</th>\n",
       "      <th>DayOfWeek_Thursday</th>\n",
       "      <th>DayOfWeek_Tuesday</th>\n",
       "      <th>DayOfWeek_Wednesday</th>\n",
       "      <th>Month_April</th>\n",
       "      <th>Month_June</th>\n",
       "      <th>Month_May</th>\n",
       "    </tr>\n",
       "  </thead>\n",
       "  <tbody>\n",
       "    <tr>\n",
       "      <th>3660</th>\n",
       "      <td>2023-05-24 15:00:00</td>\n",
       "      <td>0.8</td>\n",
       "      <td>1.000000</td>\n",
       "      <td>-0.846154</td>\n",
       "      <td>0.750</td>\n",
       "      <td>9.765343</td>\n",
       "      <td>0</td>\n",
       "      <td>0</td>\n",
       "      <td>0</td>\n",
       "      <td>15</td>\n",
       "      <td>...</td>\n",
       "      <td>0</td>\n",
       "      <td>0</td>\n",
       "      <td>0</td>\n",
       "      <td>0</td>\n",
       "      <td>0</td>\n",
       "      <td>0</td>\n",
       "      <td>1</td>\n",
       "      <td>0</td>\n",
       "      <td>0</td>\n",
       "      <td>1</td>\n",
       "    </tr>\n",
       "    <tr>\n",
       "      <th>6416</th>\n",
       "      <td>2023-06-22 17:00:00</td>\n",
       "      <td>1.4</td>\n",
       "      <td>0.000000</td>\n",
       "      <td>-0.500000</td>\n",
       "      <td>0.125</td>\n",
       "      <td>0.000000</td>\n",
       "      <td>0</td>\n",
       "      <td>0</td>\n",
       "      <td>0</td>\n",
       "      <td>17</td>\n",
       "      <td>...</td>\n",
       "      <td>0</td>\n",
       "      <td>0</td>\n",
       "      <td>0</td>\n",
       "      <td>0</td>\n",
       "      <td>1</td>\n",
       "      <td>0</td>\n",
       "      <td>0</td>\n",
       "      <td>0</td>\n",
       "      <td>1</td>\n",
       "      <td>0</td>\n",
       "    </tr>\n",
       "    <tr>\n",
       "      <th>4907</th>\n",
       "      <td>2023-06-03 18:00:00</td>\n",
       "      <td>0.8</td>\n",
       "      <td>0.285714</td>\n",
       "      <td>-0.846154</td>\n",
       "      <td>0.000</td>\n",
       "      <td>0.000000</td>\n",
       "      <td>0</td>\n",
       "      <td>0</td>\n",
       "      <td>0</td>\n",
       "      <td>18</td>\n",
       "      <td>...</td>\n",
       "      <td>0</td>\n",
       "      <td>0</td>\n",
       "      <td>1</td>\n",
       "      <td>0</td>\n",
       "      <td>0</td>\n",
       "      <td>0</td>\n",
       "      <td>0</td>\n",
       "      <td>0</td>\n",
       "      <td>1</td>\n",
       "      <td>0</td>\n",
       "    </tr>\n",
       "    <tr>\n",
       "      <th>4088</th>\n",
       "      <td>2023-05-27 23:00:00</td>\n",
       "      <td>-0.4</td>\n",
       "      <td>-0.571429</td>\n",
       "      <td>-0.384615</td>\n",
       "      <td>0.250</td>\n",
       "      <td>0.000000</td>\n",
       "      <td>0</td>\n",
       "      <td>0</td>\n",
       "      <td>1</td>\n",
       "      <td>23</td>\n",
       "      <td>...</td>\n",
       "      <td>0</td>\n",
       "      <td>0</td>\n",
       "      <td>1</td>\n",
       "      <td>0</td>\n",
       "      <td>0</td>\n",
       "      <td>0</td>\n",
       "      <td>0</td>\n",
       "      <td>0</td>\n",
       "      <td>0</td>\n",
       "      <td>1</td>\n",
       "    </tr>\n",
       "    <tr>\n",
       "      <th>1112</th>\n",
       "      <td>2023-05-05 20:00:00</td>\n",
       "      <td>-0.2</td>\n",
       "      <td>-0.142857</td>\n",
       "      <td>0.461538</td>\n",
       "      <td>-1.250</td>\n",
       "      <td>1.765343</td>\n",
       "      <td>0</td>\n",
       "      <td>0</td>\n",
       "      <td>0</td>\n",
       "      <td>20</td>\n",
       "      <td>...</td>\n",
       "      <td>1</td>\n",
       "      <td>0</td>\n",
       "      <td>0</td>\n",
       "      <td>0</td>\n",
       "      <td>0</td>\n",
       "      <td>0</td>\n",
       "      <td>0</td>\n",
       "      <td>0</td>\n",
       "      <td>0</td>\n",
       "      <td>1</td>\n",
       "    </tr>\n",
       "    <tr>\n",
       "      <th>...</th>\n",
       "      <td>...</td>\n",
       "      <td>...</td>\n",
       "      <td>...</td>\n",
       "      <td>...</td>\n",
       "      <td>...</td>\n",
       "      <td>...</td>\n",
       "      <td>...</td>\n",
       "      <td>...</td>\n",
       "      <td>...</td>\n",
       "      <td>...</td>\n",
       "      <td>...</td>\n",
       "      <td>...</td>\n",
       "      <td>...</td>\n",
       "      <td>...</td>\n",
       "      <td>...</td>\n",
       "      <td>...</td>\n",
       "      <td>...</td>\n",
       "      <td>...</td>\n",
       "      <td>...</td>\n",
       "      <td>...</td>\n",
       "      <td>...</td>\n",
       "    </tr>\n",
       "    <tr>\n",
       "      <th>3772</th>\n",
       "      <td>2023-05-25 16:00:00</td>\n",
       "      <td>0.8</td>\n",
       "      <td>-0.428571</td>\n",
       "      <td>-0.846154</td>\n",
       "      <td>1.000</td>\n",
       "      <td>0.000000</td>\n",
       "      <td>0</td>\n",
       "      <td>0</td>\n",
       "      <td>1</td>\n",
       "      <td>16</td>\n",
       "      <td>...</td>\n",
       "      <td>0</td>\n",
       "      <td>0</td>\n",
       "      <td>0</td>\n",
       "      <td>0</td>\n",
       "      <td>1</td>\n",
       "      <td>0</td>\n",
       "      <td>0</td>\n",
       "      <td>0</td>\n",
       "      <td>0</td>\n",
       "      <td>1</td>\n",
       "    </tr>\n",
       "    <tr>\n",
       "      <th>5191</th>\n",
       "      <td>2023-06-07 16:00:00</td>\n",
       "      <td>0.6</td>\n",
       "      <td>2.142857</td>\n",
       "      <td>-0.346154</td>\n",
       "      <td>-0.500</td>\n",
       "      <td>9.765343</td>\n",
       "      <td>0</td>\n",
       "      <td>0</td>\n",
       "      <td>0</td>\n",
       "      <td>16</td>\n",
       "      <td>...</td>\n",
       "      <td>0</td>\n",
       "      <td>0</td>\n",
       "      <td>0</td>\n",
       "      <td>0</td>\n",
       "      <td>0</td>\n",
       "      <td>0</td>\n",
       "      <td>1</td>\n",
       "      <td>0</td>\n",
       "      <td>1</td>\n",
       "      <td>0</td>\n",
       "    </tr>\n",
       "    <tr>\n",
       "      <th>5226</th>\n",
       "      <td>2023-06-08 09:00:00</td>\n",
       "      <td>0.2</td>\n",
       "      <td>3.285714</td>\n",
       "      <td>0.000000</td>\n",
       "      <td>-1.000</td>\n",
       "      <td>1.765343</td>\n",
       "      <td>0</td>\n",
       "      <td>0</td>\n",
       "      <td>0</td>\n",
       "      <td>9</td>\n",
       "      <td>...</td>\n",
       "      <td>0</td>\n",
       "      <td>0</td>\n",
       "      <td>0</td>\n",
       "      <td>0</td>\n",
       "      <td>1</td>\n",
       "      <td>0</td>\n",
       "      <td>0</td>\n",
       "      <td>0</td>\n",
       "      <td>1</td>\n",
       "      <td>0</td>\n",
       "    </tr>\n",
       "    <tr>\n",
       "      <th>5390</th>\n",
       "      <td>2023-06-10 11:00:00</td>\n",
       "      <td>0.4</td>\n",
       "      <td>-0.285714</td>\n",
       "      <td>0.461538</td>\n",
       "      <td>-1.125</td>\n",
       "      <td>-3.234657</td>\n",
       "      <td>0</td>\n",
       "      <td>0</td>\n",
       "      <td>0</td>\n",
       "      <td>11</td>\n",
       "      <td>...</td>\n",
       "      <td>0</td>\n",
       "      <td>0</td>\n",
       "      <td>1</td>\n",
       "      <td>0</td>\n",
       "      <td>0</td>\n",
       "      <td>0</td>\n",
       "      <td>0</td>\n",
       "      <td>0</td>\n",
       "      <td>1</td>\n",
       "      <td>0</td>\n",
       "    </tr>\n",
       "    <tr>\n",
       "      <th>860</th>\n",
       "      <td>2023-05-04 07:00:00</td>\n",
       "      <td>-0.6</td>\n",
       "      <td>1.142857</td>\n",
       "      <td>0.230769</td>\n",
       "      <td>-1.500</td>\n",
       "      <td>-0.234657</td>\n",
       "      <td>0</td>\n",
       "      <td>0</td>\n",
       "      <td>1</td>\n",
       "      <td>7</td>\n",
       "      <td>...</td>\n",
       "      <td>0</td>\n",
       "      <td>0</td>\n",
       "      <td>0</td>\n",
       "      <td>0</td>\n",
       "      <td>1</td>\n",
       "      <td>0</td>\n",
       "      <td>0</td>\n",
       "      <td>0</td>\n",
       "      <td>0</td>\n",
       "      <td>1</td>\n",
       "    </tr>\n",
       "  </tbody>\n",
       "</table>\n",
       "<p>4811 rows × 44 columns</p>\n",
       "</div>"
      ],
      "text/plain": [
       "                Interval  Temp      Wind  Humidity  Barometer  Visibility  \\\n",
       "3660 2023-05-24 15:00:00   0.8  1.000000 -0.846154      0.750    9.765343   \n",
       "6416 2023-06-22 17:00:00   1.4  0.000000 -0.500000      0.125    0.000000   \n",
       "4907 2023-06-03 18:00:00   0.8  0.285714 -0.846154      0.000    0.000000   \n",
       "4088 2023-05-27 23:00:00  -0.4 -0.571429 -0.384615      0.250    0.000000   \n",
       "1112 2023-05-05 20:00:00  -0.2 -0.142857  0.461538     -1.250    1.765343   \n",
       "...                  ...   ...       ...       ...        ...         ...   \n",
       "3772 2023-05-25 16:00:00   0.8 -0.428571 -0.846154      1.000    0.000000   \n",
       "5191 2023-06-07 16:00:00   0.6  2.142857 -0.346154     -0.500    9.765343   \n",
       "5226 2023-06-08 09:00:00   0.2  3.285714  0.000000     -1.000    1.765343   \n",
       "5390 2023-06-10 11:00:00   0.4 -0.285714  0.461538     -1.125   -3.234657   \n",
       "860  2023-05-04 07:00:00  -0.6  1.142857  0.230769     -1.500   -0.234657   \n",
       "\n",
       "      IsBankHoliday  IsSchoolHoliday  IsEventInZone  Hour  ...  \\\n",
       "3660              0                0              0    15  ...   \n",
       "6416              0                0              0    17  ...   \n",
       "4907              0                0              0    18  ...   \n",
       "4088              0                0              1    23  ...   \n",
       "1112              0                0              0    20  ...   \n",
       "...             ...              ...            ...   ...  ...   \n",
       "3772              0                0              1    16  ...   \n",
       "5191              0                0              0    16  ...   \n",
       "5226              0                0              0     9  ...   \n",
       "5390              0                0              0    11  ...   \n",
       "860               0                0              1     7  ...   \n",
       "\n",
       "      DayOfWeek_Friday  DayOfWeek_Monday  DayOfWeek_Saturday  \\\n",
       "3660                 0                 0                   0   \n",
       "6416                 0                 0                   0   \n",
       "4907                 0                 0                   1   \n",
       "4088                 0                 0                   1   \n",
       "1112                 1                 0                   0   \n",
       "...                ...               ...                 ...   \n",
       "3772                 0                 0                   0   \n",
       "5191                 0                 0                   0   \n",
       "5226                 0                 0                   0   \n",
       "5390                 0                 0                   1   \n",
       "860                  0                 0                   0   \n",
       "\n",
       "      DayOfWeek_Sunday  DayOfWeek_Thursday  DayOfWeek_Tuesday  \\\n",
       "3660                 0                   0                  0   \n",
       "6416                 0                   1                  0   \n",
       "4907                 0                   0                  0   \n",
       "4088                 0                   0                  0   \n",
       "1112                 0                   0                  0   \n",
       "...                ...                 ...                ...   \n",
       "3772                 0                   1                  0   \n",
       "5191                 0                   0                  0   \n",
       "5226                 0                   1                  0   \n",
       "5390                 0                   0                  0   \n",
       "860                  0                   1                  0   \n",
       "\n",
       "      DayOfWeek_Wednesday  Month_April  Month_June  Month_May  \n",
       "3660                    1            0           0          1  \n",
       "6416                    0            0           1          0  \n",
       "4907                    0            0           1          0  \n",
       "4088                    0            0           0          1  \n",
       "1112                    0            0           0          1  \n",
       "...                   ...          ...         ...        ...  \n",
       "3772                    0            0           0          1  \n",
       "5191                    1            0           1          0  \n",
       "5226                    0            0           1          0  \n",
       "5390                    0            0           1          0  \n",
       "860                     0            0           0          1  \n",
       "\n",
       "[4811 rows x 44 columns]"
      ]
     },
     "execution_count": 29,
     "metadata": {},
     "output_type": "execute_result"
    }
   ],
   "source": [
    "X_train_encoded"
   ]
  },
  {
   "cell_type": "markdown",
   "id": "cc6ef96c",
   "metadata": {},
   "source": [
    "## Scaling footfall"
   ]
  },
  {
   "cell_type": "markdown",
   "id": "7b2e0f77",
   "metadata": {},
   "source": [
    "We normalised footfall by taking the total footfall for each zone and dividing each footfall observation/row with the total footfall in that zone, this eliminates the zones being of different sizes. "
   ]
  },
  {
   "cell_type": "markdown",
   "id": "6c1e0da0",
   "metadata": {},
   "source": [
    "**Normalising training set**"
   ]
  },
  {
   "cell_type": "code",
   "execution_count": 30,
   "id": "4c214d34",
   "metadata": {},
   "outputs": [],
   "source": [
    "#Combining footfall from y_train with the zone_id columns from X_train_encoded \n",
    "footfall_train = pd.DataFrame({'Footfall': y_train})\n",
    "X_train_zones = X_train_encoded[['ZoneId_Zone1', 'ZoneId_Zone10', 'ZoneId_Zone2', 'ZoneId_Zone4', 'ZoneId_Zone5', 'ZoneId_Zone6', 'ZoneId_Zone7', 'ZoneId_Zone8', 'ZoneId_Zone9']]\n",
    "footfall_train = pd.concat([footfall_train, X_train_zones], axis=1)"
   ]
  },
  {
   "cell_type": "code",
   "execution_count": 31,
   "id": "25da5ffd",
   "metadata": {},
   "outputs": [],
   "source": [
    "#Total footfall for each zone in the training set\n",
    "zone_footfall_train = footfall_train.groupby(X_train_zones.columns.tolist())['Footfall'].sum().reset_index()\n",
    "zone_footfall_train.rename(columns={'Footfall': 'TotalFootfall'}, inplace=True)"
   ]
  },
  {
   "cell_type": "code",
   "execution_count": 32,
   "id": "8a4eda7c",
   "metadata": {},
   "outputs": [
    {
     "data": {
      "text/html": [
       "<div>\n",
       "<style scoped>\n",
       "    .dataframe tbody tr th:only-of-type {\n",
       "        vertical-align: middle;\n",
       "    }\n",
       "\n",
       "    .dataframe tbody tr th {\n",
       "        vertical-align: top;\n",
       "    }\n",
       "\n",
       "    .dataframe thead th {\n",
       "        text-align: right;\n",
       "    }\n",
       "</style>\n",
       "<table border=\"1\" class=\"dataframe\">\n",
       "  <thead>\n",
       "    <tr style=\"text-align: right;\">\n",
       "      <th></th>\n",
       "      <th>ZoneId_Zone1</th>\n",
       "      <th>ZoneId_Zone10</th>\n",
       "      <th>ZoneId_Zone2</th>\n",
       "      <th>ZoneId_Zone4</th>\n",
       "      <th>ZoneId_Zone5</th>\n",
       "      <th>ZoneId_Zone6</th>\n",
       "      <th>ZoneId_Zone7</th>\n",
       "      <th>ZoneId_Zone8</th>\n",
       "      <th>ZoneId_Zone9</th>\n",
       "      <th>TotalFootfall</th>\n",
       "    </tr>\n",
       "  </thead>\n",
       "  <tbody>\n",
       "    <tr>\n",
       "      <th>0</th>\n",
       "      <td>0</td>\n",
       "      <td>0</td>\n",
       "      <td>0</td>\n",
       "      <td>0</td>\n",
       "      <td>0</td>\n",
       "      <td>0</td>\n",
       "      <td>0</td>\n",
       "      <td>0</td>\n",
       "      <td>1</td>\n",
       "      <td>567</td>\n",
       "    </tr>\n",
       "    <tr>\n",
       "      <th>1</th>\n",
       "      <td>0</td>\n",
       "      <td>0</td>\n",
       "      <td>0</td>\n",
       "      <td>0</td>\n",
       "      <td>0</td>\n",
       "      <td>0</td>\n",
       "      <td>0</td>\n",
       "      <td>1</td>\n",
       "      <td>0</td>\n",
       "      <td>98</td>\n",
       "    </tr>\n",
       "    <tr>\n",
       "      <th>2</th>\n",
       "      <td>0</td>\n",
       "      <td>0</td>\n",
       "      <td>0</td>\n",
       "      <td>0</td>\n",
       "      <td>0</td>\n",
       "      <td>0</td>\n",
       "      <td>1</td>\n",
       "      <td>0</td>\n",
       "      <td>0</td>\n",
       "      <td>187</td>\n",
       "    </tr>\n",
       "    <tr>\n",
       "      <th>3</th>\n",
       "      <td>0</td>\n",
       "      <td>0</td>\n",
       "      <td>0</td>\n",
       "      <td>0</td>\n",
       "      <td>0</td>\n",
       "      <td>1</td>\n",
       "      <td>0</td>\n",
       "      <td>0</td>\n",
       "      <td>0</td>\n",
       "      <td>2326</td>\n",
       "    </tr>\n",
       "    <tr>\n",
       "      <th>4</th>\n",
       "      <td>0</td>\n",
       "      <td>0</td>\n",
       "      <td>0</td>\n",
       "      <td>0</td>\n",
       "      <td>1</td>\n",
       "      <td>0</td>\n",
       "      <td>0</td>\n",
       "      <td>0</td>\n",
       "      <td>0</td>\n",
       "      <td>308</td>\n",
       "    </tr>\n",
       "    <tr>\n",
       "      <th>5</th>\n",
       "      <td>0</td>\n",
       "      <td>0</td>\n",
       "      <td>0</td>\n",
       "      <td>1</td>\n",
       "      <td>0</td>\n",
       "      <td>0</td>\n",
       "      <td>0</td>\n",
       "      <td>0</td>\n",
       "      <td>0</td>\n",
       "      <td>188</td>\n",
       "    </tr>\n",
       "    <tr>\n",
       "      <th>6</th>\n",
       "      <td>0</td>\n",
       "      <td>0</td>\n",
       "      <td>1</td>\n",
       "      <td>0</td>\n",
       "      <td>0</td>\n",
       "      <td>0</td>\n",
       "      <td>0</td>\n",
       "      <td>0</td>\n",
       "      <td>0</td>\n",
       "      <td>164</td>\n",
       "    </tr>\n",
       "    <tr>\n",
       "      <th>7</th>\n",
       "      <td>0</td>\n",
       "      <td>1</td>\n",
       "      <td>0</td>\n",
       "      <td>0</td>\n",
       "      <td>0</td>\n",
       "      <td>0</td>\n",
       "      <td>0</td>\n",
       "      <td>0</td>\n",
       "      <td>0</td>\n",
       "      <td>2857</td>\n",
       "    </tr>\n",
       "    <tr>\n",
       "      <th>8</th>\n",
       "      <td>1</td>\n",
       "      <td>0</td>\n",
       "      <td>0</td>\n",
       "      <td>0</td>\n",
       "      <td>0</td>\n",
       "      <td>0</td>\n",
       "      <td>0</td>\n",
       "      <td>0</td>\n",
       "      <td>0</td>\n",
       "      <td>186</td>\n",
       "    </tr>\n",
       "  </tbody>\n",
       "</table>\n",
       "</div>"
      ],
      "text/plain": [
       "   ZoneId_Zone1  ZoneId_Zone10  ZoneId_Zone2  ZoneId_Zone4  ZoneId_Zone5  \\\n",
       "0             0              0             0             0             0   \n",
       "1             0              0             0             0             0   \n",
       "2             0              0             0             0             0   \n",
       "3             0              0             0             0             0   \n",
       "4             0              0             0             0             1   \n",
       "5             0              0             0             1             0   \n",
       "6             0              0             1             0             0   \n",
       "7             0              1             0             0             0   \n",
       "8             1              0             0             0             0   \n",
       "\n",
       "   ZoneId_Zone6  ZoneId_Zone7  ZoneId_Zone8  ZoneId_Zone9  TotalFootfall  \n",
       "0             0             0             0             1            567  \n",
       "1             0             0             1             0             98  \n",
       "2             0             1             0             0            187  \n",
       "3             1             0             0             0           2326  \n",
       "4             0             0             0             0            308  \n",
       "5             0             0             0             0            188  \n",
       "6             0             0             0             0            164  \n",
       "7             0             0             0             0           2857  \n",
       "8             0             0             0             0            186  "
      ]
     },
     "execution_count": 32,
     "metadata": {},
     "output_type": "execute_result"
    }
   ],
   "source": [
    "zone_footfall_train"
   ]
  },
  {
   "cell_type": "code",
   "execution_count": 33,
   "id": "1017f32c",
   "metadata": {},
   "outputs": [
    {
     "data": {
      "text/plain": [
       "3660    1\n",
       "6416    1\n",
       "4907    2\n",
       "4088    1\n",
       "1112    2\n",
       "       ..\n",
       "3772    2\n",
       "5191    1\n",
       "5226    1\n",
       "5390    1\n",
       "860     2\n",
       "Name: Footfall, Length: 4811, dtype: int64"
      ]
     },
     "execution_count": 33,
     "metadata": {},
     "output_type": "execute_result"
    }
   ],
   "source": [
    "y_train"
   ]
  },
  {
   "cell_type": "code",
   "execution_count": 34,
   "id": "6042baff",
   "metadata": {},
   "outputs": [],
   "source": [
    "#Map each row's zone to its corresponding total footfall \n",
    "y_train_with_zones = pd.merge(y_train, X_train_zones, left_index=True, right_index=True)\n",
    "y_train_with_zones['ZoneId'] = y_train_with_zones[X_train_zones.columns.tolist()].apply(tuple, axis=1)"
   ]
  },
  {
   "cell_type": "code",
   "execution_count": 35,
   "id": "07d89a48",
   "metadata": {},
   "outputs": [],
   "source": [
    "#Dictionary mapping ZoneId to TotalFootfall from zone_footfall_train\n",
    "zone_footfall_dict = zone_footfall_train.set_index(X_train_zones.columns.tolist())['TotalFootfall'].to_dict()"
   ]
  },
  {
   "cell_type": "code",
   "execution_count": 36,
   "id": "8e65285a",
   "metadata": {},
   "outputs": [],
   "source": [
    "#Map the ZoneId to TotalFootfall using the dictionary\n",
    "y_train_with_zones['TotalFootfallInZone'] = y_train_with_zones['ZoneId'].map(zone_footfall_dict)"
   ]
  },
  {
   "cell_type": "code",
   "execution_count": 37,
   "id": "76049c3b",
   "metadata": {},
   "outputs": [],
   "source": [
    "#Dividing the footfall in each row by the total footfall of its zone\n",
    "y_train_with_zones['NormalisedFootfall'] = y_train_with_zones['Footfall'] / y_train_with_zones['TotalFootfallInZone']"
   ]
  },
  {
   "cell_type": "code",
   "execution_count": 38,
   "id": "9c475b74",
   "metadata": {},
   "outputs": [],
   "source": [
    "# Extract the 'NormalisedFootfall' column as the final normalised footfall for y_train\n",
    "y_train_normalised = y_train_with_zones['NormalisedFootfall']"
   ]
  },
  {
   "cell_type": "code",
   "execution_count": 39,
   "id": "8d7945ed",
   "metadata": {},
   "outputs": [
    {
     "data": {
      "text/plain": [
       "3660    0.001764\n",
       "6416    0.000350\n",
       "4907    0.000860\n",
       "4088    0.000350\n",
       "1112    0.000700\n",
       "          ...   \n",
       "3772    0.000700\n",
       "5191    0.000350\n",
       "5226    0.000430\n",
       "5390    0.000350\n",
       "860     0.000860\n",
       "Name: NormalisedFootfall, Length: 4811, dtype: float64"
      ]
     },
     "execution_count": 39,
     "metadata": {},
     "output_type": "execute_result"
    }
   ],
   "source": [
    "y_train_normalised"
   ]
  },
  {
   "cell_type": "markdown",
   "id": "e68f8ee5",
   "metadata": {},
   "source": [
    "**Normalising testing set**"
   ]
  },
  {
   "cell_type": "code",
   "execution_count": 40,
   "id": "e06a0d42",
   "metadata": {},
   "outputs": [],
   "source": [
    "#Combining footfall from y_test with the zone_id columns from X_test_encoded\n",
    "footfall_test = pd.DataFrame({'Footfall': y_test})\n",
    "X_test_zones = X_test_encoded[['ZoneId_Zone1', 'ZoneId_Zone10', 'ZoneId_Zone2', 'ZoneId_Zone4', 'ZoneId_Zone5', 'ZoneId_Zone6', 'ZoneId_Zone7', 'ZoneId_Zone8', 'ZoneId_Zone9']]\n",
    "footfall_test = pd.concat([footfall_test, X_test_zones], axis=1)"
   ]
  },
  {
   "cell_type": "code",
   "execution_count": 41,
   "id": "b26c786e",
   "metadata": {},
   "outputs": [],
   "source": [
    "#Map each row's zone to its corresponding total footfall using the dictionary\n",
    "y_test_with_zones = pd.merge(y_test, X_test_zones, left_index=True, right_index=True)\n",
    "y_test_with_zones['ZoneId'] = y_test_with_zones[X_test_zones.columns.tolist()].apply(tuple, axis=1)"
   ]
  },
  {
   "cell_type": "code",
   "execution_count": 42,
   "id": "9092a272",
   "metadata": {},
   "outputs": [],
   "source": [
    "#Map the ZoneId to TotalFootfall using the dictionary\n",
    "y_test_with_zones['TotalFootfallInZone'] = y_test_with_zones['ZoneId'].map(zone_footfall_dict)"
   ]
  },
  {
   "cell_type": "code",
   "execution_count": 43,
   "id": "822322d7",
   "metadata": {},
   "outputs": [],
   "source": [
    "#Divide the footfall in each row by the total footfall of its zone\n",
    "y_test_with_zones['NormalisedFootfall'] = y_test_with_zones['Footfall'] / y_test_with_zones['TotalFootfallInZone']"
   ]
  },
  {
   "cell_type": "code",
   "execution_count": 44,
   "id": "c8212d42",
   "metadata": {},
   "outputs": [],
   "source": [
    "#Extract the 'NormalisedFootfall' column as the final normalised footfall for y_test\n",
    "y_test_normalised = y_test_with_zones['NormalisedFootfall']"
   ]
  },
  {
   "cell_type": "code",
   "execution_count": 45,
   "id": "b6b9b632",
   "metadata": {},
   "outputs": [
    {
     "data": {
      "text/plain": [
       "1783    0.000430\n",
       "6311    0.001764\n",
       "496     0.000430\n",
       "2168    0.005319\n",
       "2275    0.000430\n",
       "          ...   \n",
       "3571    0.006494\n",
       "2516    0.005376\n",
       "3617    0.000430\n",
       "1294    0.000430\n",
       "2840    0.005376\n",
       "Name: NormalisedFootfall, Length: 2062, dtype: float64"
      ]
     },
     "execution_count": 45,
     "metadata": {},
     "output_type": "execute_result"
    }
   ],
   "source": [
    "y_test_normalised "
   ]
  },
  {
   "cell_type": "markdown",
   "id": "9ce2ae4b",
   "metadata": {},
   "source": [
    "## Models"
   ]
  },
  {
   "cell_type": "markdown",
   "id": "2fb52778",
   "metadata": {},
   "source": [
    "Dropping \"Interval\" variables for train and test before running the models. "
   ]
  },
  {
   "cell_type": "code",
   "execution_count": 46,
   "id": "01595444",
   "metadata": {},
   "outputs": [],
   "source": [
    "X_train_encoded = X_train_encoded.drop(\"Interval\", axis=1)\n",
    "X_test_encoded = X_test_encoded.drop(\"Interval\", axis=1)"
   ]
  },
  {
   "cell_type": "markdown",
   "id": "0a5ac675",
   "metadata": {},
   "source": [
    "## Random forest model"
   ]
  },
  {
   "cell_type": "code",
   "execution_count": 47,
   "id": "0c2a4375",
   "metadata": {},
   "outputs": [],
   "source": [
    "rf_model = RandomForestRegressor(n_estimators=100, random_state=42)"
   ]
  },
  {
   "cell_type": "code",
   "execution_count": 48,
   "id": "09205859",
   "metadata": {},
   "outputs": [
    {
     "data": {
      "text/html": [
       "<style>#sk-container-id-1 {color: black;}#sk-container-id-1 pre{padding: 0;}#sk-container-id-1 div.sk-toggleable {background-color: white;}#sk-container-id-1 label.sk-toggleable__label {cursor: pointer;display: block;width: 100%;margin-bottom: 0;padding: 0.3em;box-sizing: border-box;text-align: center;}#sk-container-id-1 label.sk-toggleable__label-arrow:before {content: \"▸\";float: left;margin-right: 0.25em;color: #696969;}#sk-container-id-1 label.sk-toggleable__label-arrow:hover:before {color: black;}#sk-container-id-1 div.sk-estimator:hover label.sk-toggleable__label-arrow:before {color: black;}#sk-container-id-1 div.sk-toggleable__content {max-height: 0;max-width: 0;overflow: hidden;text-align: left;background-color: #f0f8ff;}#sk-container-id-1 div.sk-toggleable__content pre {margin: 0.2em;color: black;border-radius: 0.25em;background-color: #f0f8ff;}#sk-container-id-1 input.sk-toggleable__control:checked~div.sk-toggleable__content {max-height: 200px;max-width: 100%;overflow: auto;}#sk-container-id-1 input.sk-toggleable__control:checked~label.sk-toggleable__label-arrow:before {content: \"▾\";}#sk-container-id-1 div.sk-estimator input.sk-toggleable__control:checked~label.sk-toggleable__label {background-color: #d4ebff;}#sk-container-id-1 div.sk-label input.sk-toggleable__control:checked~label.sk-toggleable__label {background-color: #d4ebff;}#sk-container-id-1 input.sk-hidden--visually {border: 0;clip: rect(1px 1px 1px 1px);clip: rect(1px, 1px, 1px, 1px);height: 1px;margin: -1px;overflow: hidden;padding: 0;position: absolute;width: 1px;}#sk-container-id-1 div.sk-estimator {font-family: monospace;background-color: #f0f8ff;border: 1px dotted black;border-radius: 0.25em;box-sizing: border-box;margin-bottom: 0.5em;}#sk-container-id-1 div.sk-estimator:hover {background-color: #d4ebff;}#sk-container-id-1 div.sk-parallel-item::after {content: \"\";width: 100%;border-bottom: 1px solid gray;flex-grow: 1;}#sk-container-id-1 div.sk-label:hover label.sk-toggleable__label {background-color: #d4ebff;}#sk-container-id-1 div.sk-serial::before {content: \"\";position: absolute;border-left: 1px solid gray;box-sizing: border-box;top: 0;bottom: 0;left: 50%;z-index: 0;}#sk-container-id-1 div.sk-serial {display: flex;flex-direction: column;align-items: center;background-color: white;padding-right: 0.2em;padding-left: 0.2em;position: relative;}#sk-container-id-1 div.sk-item {position: relative;z-index: 1;}#sk-container-id-1 div.sk-parallel {display: flex;align-items: stretch;justify-content: center;background-color: white;position: relative;}#sk-container-id-1 div.sk-item::before, #sk-container-id-1 div.sk-parallel-item::before {content: \"\";position: absolute;border-left: 1px solid gray;box-sizing: border-box;top: 0;bottom: 0;left: 50%;z-index: -1;}#sk-container-id-1 div.sk-parallel-item {display: flex;flex-direction: column;z-index: 1;position: relative;background-color: white;}#sk-container-id-1 div.sk-parallel-item:first-child::after {align-self: flex-end;width: 50%;}#sk-container-id-1 div.sk-parallel-item:last-child::after {align-self: flex-start;width: 50%;}#sk-container-id-1 div.sk-parallel-item:only-child::after {width: 0;}#sk-container-id-1 div.sk-dashed-wrapped {border: 1px dashed gray;margin: 0 0.4em 0.5em 0.4em;box-sizing: border-box;padding-bottom: 0.4em;background-color: white;}#sk-container-id-1 div.sk-label label {font-family: monospace;font-weight: bold;display: inline-block;line-height: 1.2em;}#sk-container-id-1 div.sk-label-container {text-align: center;}#sk-container-id-1 div.sk-container {/* jupyter's `normalize.less` sets `[hidden] { display: none; }` but bootstrap.min.css set `[hidden] { display: none !important; }` so we also need the `!important` here to be able to override the default hidden behavior on the sphinx rendered scikit-learn.org. See: https://github.com/scikit-learn/scikit-learn/issues/21755 */display: inline-block !important;position: relative;}#sk-container-id-1 div.sk-text-repr-fallback {display: none;}</style><div id=\"sk-container-id-1\" class=\"sk-top-container\"><div class=\"sk-text-repr-fallback\"><pre>RandomForestRegressor(random_state=42)</pre><b>In a Jupyter environment, please rerun this cell to show the HTML representation or trust the notebook. <br />On GitHub, the HTML representation is unable to render, please try loading this page with nbviewer.org.</b></div><div class=\"sk-container\" hidden><div class=\"sk-item\"><div class=\"sk-estimator sk-toggleable\"><input class=\"sk-toggleable__control sk-hidden--visually\" id=\"sk-estimator-id-1\" type=\"checkbox\" checked><label for=\"sk-estimator-id-1\" class=\"sk-toggleable__label sk-toggleable__label-arrow\">RandomForestRegressor</label><div class=\"sk-toggleable__content\"><pre>RandomForestRegressor(random_state=42)</pre></div></div></div></div></div>"
      ],
      "text/plain": [
       "RandomForestRegressor(random_state=42)"
      ]
     },
     "execution_count": 48,
     "metadata": {},
     "output_type": "execute_result"
    }
   ],
   "source": [
    "#Fitting model to training data\n",
    "rf_model.fit(X_train_encoded, y_train_normalised)"
   ]
  },
  {
   "cell_type": "code",
   "execution_count": 50,
   "id": "6f15e926",
   "metadata": {},
   "outputs": [],
   "source": [
    "#Predictions on test data\n",
    "y_pred_rfmodel_normalised = rf_model.predict(X_test_encoded)"
   ]
  },
  {
   "cell_type": "code",
   "execution_count": 51,
   "id": "9f10e95e",
   "metadata": {},
   "outputs": [
    {
     "data": {
      "text/plain": [
       "1783    1.000000\n",
       "6311    1.000000\n",
       "496     1.000000\n",
       "2168    1.000000\n",
       "2275    1.180707\n",
       "          ...   \n",
       "3571    2.040000\n",
       "2516    1.000000\n",
       "3617    1.318222\n",
       "1294    1.177697\n",
       "2840    1.000000\n",
       "Name: TotalFootfallInZone, Length: 2062, dtype: float64"
      ]
     },
     "execution_count": 51,
     "metadata": {},
     "output_type": "execute_result"
    }
   ],
   "source": [
    "#Reverse scaling\n",
    "y_pred_rfmodel_actual = y_pred_rfmodel_normalised * y_test_with_zones['TotalFootfallInZone']\n",
    "y_pred_rfmodel_actual"
   ]
  },
  {
   "cell_type": "code",
   "execution_count": 52,
   "id": "7e8a069c",
   "metadata": {},
   "outputs": [
    {
     "name": "stdout",
     "output_type": "stream",
     "text": [
      "Mean Squared Error (MSE): 0.059350659633646705\n",
      "Mean Absolute Error (MAE): 0.09866890383699159\n",
      "Mean Absolute Percentage Error (MAPE): 6.6626802050434\n",
      "R-squared (R2): 0.9203017054664643\n",
      "Adjusted R-squared: 0.9186034761974147\n"
     ]
    }
   ],
   "source": [
    "#Evaluate models performance\n",
    "mse = mean_squared_error(y_test, y_pred_rfmodel_actual)\n",
    "mae = mean_absolute_error(y_test, y_pred_rfmodel_actual)\n",
    "mape_rf_model = 100 * np.mean(np.abs((y_test - y_pred_rfmodel_actual) / y_test))\n",
    "r2 = r2_score(y_test, y_pred_rfmodel_actual)\n",
    "n_samples = len(y_test)\n",
    "n_predictors = X_train_encoded.shape[1]\n",
    "adjusted_r2 = 1 - (1 - r2) * ((n_samples - 1) / (n_samples - n_predictors - 1))\n",
    "\n",
    "print(\"Mean Squared Error (MSE):\", mse)\n",
    "print(\"Mean Absolute Error (MAE):\", mae)\n",
    "print(\"Mean Absolute Percentage Error (MAPE):\", mape_rf_model)\n",
    "print(\"R-squared (R2):\", r2)\n",
    "print(\"Adjusted R-squared:\", adjusted_r2)"
   ]
  },
  {
   "cell_type": "code",
   "execution_count": 53,
   "id": "f8a77372",
   "metadata": {},
   "outputs": [
    {
     "data": {
      "text/plain": [
       "<Figure size 600x400 with 0 Axes>"
      ]
     },
     "execution_count": 53,
     "metadata": {},
     "output_type": "execute_result"
    },
    {
     "data": {
      "text/plain": [
       "<matplotlib.collections.PathCollection at 0x189680bddc0>"
      ]
     },
     "execution_count": 53,
     "metadata": {},
     "output_type": "execute_result"
    },
    {
     "data": {
      "text/plain": [
       "[<matplotlib.lines.Line2D at 0x18967d70340>]"
      ]
     },
     "execution_count": 53,
     "metadata": {},
     "output_type": "execute_result"
    },
    {
     "data": {
      "text/plain": [
       "Text(0.5, 0, 'Actual Footfall')"
      ]
     },
     "execution_count": 53,
     "metadata": {},
     "output_type": "execute_result"
    },
    {
     "data": {
      "text/plain": [
       "Text(0, 0.5, 'Predicted Footfall')"
      ]
     },
     "execution_count": 53,
     "metadata": {},
     "output_type": "execute_result"
    },
    {
     "data": {
      "text/plain": [
       "Text(0.5, 1.0, 'Actual vs. Predicted Unbalanced Footfall (Random Forest Model)')"
      ]
     },
     "execution_count": 53,
     "metadata": {},
     "output_type": "execute_result"
    },
    {
     "data": {
      "image/png": "[encoded data removed]",
      "text/plain": [
       "<Figure size 600x400 with 1 Axes>"
      ]
     },
     "metadata": {},
     "output_type": "display_data"
    }
   ],
   "source": [
    "#Visualise\n",
    "plt.figure(figsize=(6, 4))\n",
    "plt.scatter(y_test, y_pred_rfmodel_actual, alpha=0.5, color='#5BAEB7')\n",
    "plt.plot([y_test.min(), y_test.max()], [y_test.min(), y_test.max()], color='red', linestyle='--')\n",
    "\n",
    "plt.xlabel(\"Actual Footfall\")\n",
    "plt.ylabel(\"Predicted Footfall\")\n",
    "plt.title(\"Actual vs. Predicted Unbalanced Footfall (Random Forest Model)\")\n",
    "\n",
    "plt.gca().spines['top'].set_visible(False)\n",
    "plt.gca().spines['right'].set_visible(False)\n",
    "plt.tight_layout()\n",
    "\n",
    "plt.savefig('actualvspredictedbasemodel_rf_unbalanced.png')\n",
    "plt.show()"
   ]
  },
  {
   "cell_type": "markdown",
   "id": "16277560",
   "metadata": {},
   "source": [
    "**Hyperparameter tuning for random forest model**"
   ]
  },
  {
   "cell_type": "markdown",
   "id": "21a59a1b",
   "metadata": {},
   "source": [
    "We use GridSearchCV for hyperparameter tuning to find the optimal hyperparameters for the random forest model"
   ]
  },
  {
   "cell_type": "markdown",
   "id": "0d220cdf",
   "metadata": {},
   "source": [
    "Cross validation: technique used to estimate the performance of a machine learning model on an independent dataset (test set) by partitioning the training data into multiple subsets (folds). The model is trained on some folds and evaluated on the remaining fold. This process is repeated multiple times, and the performance is averaged to obtain a more robust estimate of the model's performance."
   ]
  },
  {
   "cell_type": "code",
   "execution_count": 55,
   "id": "4cfeb773",
   "metadata": {},
   "outputs": [
    {
     "data": {
      "text/html": [
       "<style>#sk-container-id-2 {color: black;}#sk-container-id-2 pre{padding: 0;}#sk-container-id-2 div.sk-toggleable {background-color: white;}#sk-container-id-2 label.sk-toggleable__label {cursor: pointer;display: block;width: 100%;margin-bottom: 0;padding: 0.3em;box-sizing: border-box;text-align: center;}#sk-container-id-2 label.sk-toggleable__label-arrow:before {content: \"▸\";float: left;margin-right: 0.25em;color: #696969;}#sk-container-id-2 label.sk-toggleable__label-arrow:hover:before {color: black;}#sk-container-id-2 div.sk-estimator:hover label.sk-toggleable__label-arrow:before {color: black;}#sk-container-id-2 div.sk-toggleable__content {max-height: 0;max-width: 0;overflow: hidden;text-align: left;background-color: #f0f8ff;}#sk-container-id-2 div.sk-toggleable__content pre {margin: 0.2em;color: black;border-radius: 0.25em;background-color: #f0f8ff;}#sk-container-id-2 input.sk-toggleable__control:checked~div.sk-toggleable__content {max-height: 200px;max-width: 100%;overflow: auto;}#sk-container-id-2 input.sk-toggleable__control:checked~label.sk-toggleable__label-arrow:before {content: \"▾\";}#sk-container-id-2 div.sk-estimator input.sk-toggleable__control:checked~label.sk-toggleable__label {background-color: #d4ebff;}#sk-container-id-2 div.sk-label input.sk-toggleable__control:checked~label.sk-toggleable__label {background-color: #d4ebff;}#sk-container-id-2 input.sk-hidden--visually {border: 0;clip: rect(1px 1px 1px 1px);clip: rect(1px, 1px, 1px, 1px);height: 1px;margin: -1px;overflow: hidden;padding: 0;position: absolute;width: 1px;}#sk-container-id-2 div.sk-estimator {font-family: monospace;background-color: #f0f8ff;border: 1px dotted black;border-radius: 0.25em;box-sizing: border-box;margin-bottom: 0.5em;}#sk-container-id-2 div.sk-estimator:hover {background-color: #d4ebff;}#sk-container-id-2 div.sk-parallel-item::after {content: \"\";width: 100%;border-bottom: 1px solid gray;flex-grow: 1;}#sk-container-id-2 div.sk-label:hover label.sk-toggleable__label {background-color: #d4ebff;}#sk-container-id-2 div.sk-serial::before {content: \"\";position: absolute;border-left: 1px solid gray;box-sizing: border-box;top: 0;bottom: 0;left: 50%;z-index: 0;}#sk-container-id-2 div.sk-serial {display: flex;flex-direction: column;align-items: center;background-color: white;padding-right: 0.2em;padding-left: 0.2em;position: relative;}#sk-container-id-2 div.sk-item {position: relative;z-index: 1;}#sk-container-id-2 div.sk-parallel {display: flex;align-items: stretch;justify-content: center;background-color: white;position: relative;}#sk-container-id-2 div.sk-item::before, #sk-container-id-2 div.sk-parallel-item::before {content: \"\";position: absolute;border-left: 1px solid gray;box-sizing: border-box;top: 0;bottom: 0;left: 50%;z-index: -1;}#sk-container-id-2 div.sk-parallel-item {display: flex;flex-direction: column;z-index: 1;position: relative;background-color: white;}#sk-container-id-2 div.sk-parallel-item:first-child::after {align-self: flex-end;width: 50%;}#sk-container-id-2 div.sk-parallel-item:last-child::after {align-self: flex-start;width: 50%;}#sk-container-id-2 div.sk-parallel-item:only-child::after {width: 0;}#sk-container-id-2 div.sk-dashed-wrapped {border: 1px dashed gray;margin: 0 0.4em 0.5em 0.4em;box-sizing: border-box;padding-bottom: 0.4em;background-color: white;}#sk-container-id-2 div.sk-label label {font-family: monospace;font-weight: bold;display: inline-block;line-height: 1.2em;}#sk-container-id-2 div.sk-label-container {text-align: center;}#sk-container-id-2 div.sk-container {/* jupyter's `normalize.less` sets `[hidden] { display: none; }` but bootstrap.min.css set `[hidden] { display: none !important; }` so we also need the `!important` here to be able to override the default hidden behavior on the sphinx rendered scikit-learn.org. See: https://github.com/scikit-learn/scikit-learn/issues/21755 */display: inline-block !important;position: relative;}#sk-container-id-2 div.sk-text-repr-fallback {display: none;}</style><div id=\"sk-container-id-2\" class=\"sk-top-container\"><div class=\"sk-text-repr-fallback\"><pre>GridSearchCV(cv=5, estimator=RandomForestRegressor(),\n",
       "             param_grid={&#x27;max_depth&#x27;: [None, 10, 20],\n",
       "                         &#x27;min_samples_split&#x27;: [2, 5, 10],\n",
       "                         &#x27;n_estimators&#x27;: [100, 150, 200]},\n",
       "             scoring=&#x27;r2&#x27;)</pre><b>In a Jupyter environment, please rerun this cell to show the HTML representation or trust the notebook. <br />On GitHub, the HTML representation is unable to render, please try loading this page with nbviewer.org.</b></div><div class=\"sk-container\" hidden><div class=\"sk-item sk-dashed-wrapped\"><div class=\"sk-label-container\"><div class=\"sk-label sk-toggleable\"><input class=\"sk-toggleable__control sk-hidden--visually\" id=\"sk-estimator-id-2\" type=\"checkbox\" ><label for=\"sk-estimator-id-2\" class=\"sk-toggleable__label sk-toggleable__label-arrow\">GridSearchCV</label><div class=\"sk-toggleable__content\"><pre>GridSearchCV(cv=5, estimator=RandomForestRegressor(),\n",
       "             param_grid={&#x27;max_depth&#x27;: [None, 10, 20],\n",
       "                         &#x27;min_samples_split&#x27;: [2, 5, 10],\n",
       "                         &#x27;n_estimators&#x27;: [100, 150, 200]},\n",
       "             scoring=&#x27;r2&#x27;)</pre></div></div></div><div class=\"sk-parallel\"><div class=\"sk-parallel-item\"><div class=\"sk-item\"><div class=\"sk-label-container\"><div class=\"sk-label sk-toggleable\"><input class=\"sk-toggleable__control sk-hidden--visually\" id=\"sk-estimator-id-3\" type=\"checkbox\" ><label for=\"sk-estimator-id-3\" class=\"sk-toggleable__label sk-toggleable__label-arrow\">estimator: RandomForestRegressor</label><div class=\"sk-toggleable__content\"><pre>RandomForestRegressor()</pre></div></div></div><div class=\"sk-serial\"><div class=\"sk-item\"><div class=\"sk-estimator sk-toggleable\"><input class=\"sk-toggleable__control sk-hidden--visually\" id=\"sk-estimator-id-4\" type=\"checkbox\" ><label for=\"sk-estimator-id-4\" class=\"sk-toggleable__label sk-toggleable__label-arrow\">RandomForestRegressor</label><div class=\"sk-toggleable__content\"><pre>RandomForestRegressor()</pre></div></div></div></div></div></div></div></div></div></div>"
      ],
      "text/plain": [
       "GridSearchCV(cv=5, estimator=RandomForestRegressor(),\n",
       "             param_grid={'max_depth': [None, 10, 20],\n",
       "                         'min_samples_split': [2, 5, 10],\n",
       "                         'n_estimators': [100, 150, 200]},\n",
       "             scoring='r2')"
      ]
     },
     "execution_count": 55,
     "metadata": {},
     "output_type": "execute_result"
    }
   ],
   "source": [
    "random.seed(42)\n",
    "np.random.seed(42)\n",
    "\n",
    "param_grid = {\n",
    "    'n_estimators': [100, 150, 200],\n",
    "    'max_depth': [None, 10, 20],\n",
    "    'min_samples_split': [2, 5, 10],\n",
    "}\n",
    "\n",
    "rf_model = RandomForestRegressor()\n",
    "grid_search_rf = GridSearchCV(rf_model, param_grid, cv=5, scoring='r2')\n",
    "\n",
    "grid_search_rf.fit(X_train_encoded, y_train_normalised)\n",
    "\n",
    "best_params_rf = grid_search_rf.best_params_\n",
    "best_model_rf = grid_search_rf.best_estimator_"
   ]
  },
  {
   "cell_type": "code",
   "execution_count": 56,
   "id": "02168362",
   "metadata": {},
   "outputs": [
    {
     "data": {
      "text/plain": [
       "{'max_depth': None, 'min_samples_split': 2, 'n_estimators': 150}"
      ]
     },
     "execution_count": 56,
     "metadata": {},
     "output_type": "execute_result"
    }
   ],
   "source": [
    "best_params_rf"
   ]
  },
  {
   "cell_type": "code",
   "execution_count": 57,
   "id": "964a1b89",
   "metadata": {},
   "outputs": [
    {
     "data": {
      "text/html": [
       "<style>#sk-container-id-3 {color: black;}#sk-container-id-3 pre{padding: 0;}#sk-container-id-3 div.sk-toggleable {background-color: white;}#sk-container-id-3 label.sk-toggleable__label {cursor: pointer;display: block;width: 100%;margin-bottom: 0;padding: 0.3em;box-sizing: border-box;text-align: center;}#sk-container-id-3 label.sk-toggleable__label-arrow:before {content: \"▸\";float: left;margin-right: 0.25em;color: #696969;}#sk-container-id-3 label.sk-toggleable__label-arrow:hover:before {color: black;}#sk-container-id-3 div.sk-estimator:hover label.sk-toggleable__label-arrow:before {color: black;}#sk-container-id-3 div.sk-toggleable__content {max-height: 0;max-width: 0;overflow: hidden;text-align: left;background-color: #f0f8ff;}#sk-container-id-3 div.sk-toggleable__content pre {margin: 0.2em;color: black;border-radius: 0.25em;background-color: #f0f8ff;}#sk-container-id-3 input.sk-toggleable__control:checked~div.sk-toggleable__content {max-height: 200px;max-width: 100%;overflow: auto;}#sk-container-id-3 input.sk-toggleable__control:checked~label.sk-toggleable__label-arrow:before {content: \"▾\";}#sk-container-id-3 div.sk-estimator input.sk-toggleable__control:checked~label.sk-toggleable__label {background-color: #d4ebff;}#sk-container-id-3 div.sk-label input.sk-toggleable__control:checked~label.sk-toggleable__label {background-color: #d4ebff;}#sk-container-id-3 input.sk-hidden--visually {border: 0;clip: rect(1px 1px 1px 1px);clip: rect(1px, 1px, 1px, 1px);height: 1px;margin: -1px;overflow: hidden;padding: 0;position: absolute;width: 1px;}#sk-container-id-3 div.sk-estimator {font-family: monospace;background-color: #f0f8ff;border: 1px dotted black;border-radius: 0.25em;box-sizing: border-box;margin-bottom: 0.5em;}#sk-container-id-3 div.sk-estimator:hover {background-color: #d4ebff;}#sk-container-id-3 div.sk-parallel-item::after {content: \"\";width: 100%;border-bottom: 1px solid gray;flex-grow: 1;}#sk-container-id-3 div.sk-label:hover label.sk-toggleable__label {background-color: #d4ebff;}#sk-container-id-3 div.sk-serial::before {content: \"\";position: absolute;border-left: 1px solid gray;box-sizing: border-box;top: 0;bottom: 0;left: 50%;z-index: 0;}#sk-container-id-3 div.sk-serial {display: flex;flex-direction: column;align-items: center;background-color: white;padding-right: 0.2em;padding-left: 0.2em;position: relative;}#sk-container-id-3 div.sk-item {position: relative;z-index: 1;}#sk-container-id-3 div.sk-parallel {display: flex;align-items: stretch;justify-content: center;background-color: white;position: relative;}#sk-container-id-3 div.sk-item::before, #sk-container-id-3 div.sk-parallel-item::before {content: \"\";position: absolute;border-left: 1px solid gray;box-sizing: border-box;top: 0;bottom: 0;left: 50%;z-index: -1;}#sk-container-id-3 div.sk-parallel-item {display: flex;flex-direction: column;z-index: 1;position: relative;background-color: white;}#sk-container-id-3 div.sk-parallel-item:first-child::after {align-self: flex-end;width: 50%;}#sk-container-id-3 div.sk-parallel-item:last-child::after {align-self: flex-start;width: 50%;}#sk-container-id-3 div.sk-parallel-item:only-child::after {width: 0;}#sk-container-id-3 div.sk-dashed-wrapped {border: 1px dashed gray;margin: 0 0.4em 0.5em 0.4em;box-sizing: border-box;padding-bottom: 0.4em;background-color: white;}#sk-container-id-3 div.sk-label label {font-family: monospace;font-weight: bold;display: inline-block;line-height: 1.2em;}#sk-container-id-3 div.sk-label-container {text-align: center;}#sk-container-id-3 div.sk-container {/* jupyter's `normalize.less` sets `[hidden] { display: none; }` but bootstrap.min.css set `[hidden] { display: none !important; }` so we also need the `!important` here to be able to override the default hidden behavior on the sphinx rendered scikit-learn.org. See: https://github.com/scikit-learn/scikit-learn/issues/21755 */display: inline-block !important;position: relative;}#sk-container-id-3 div.sk-text-repr-fallback {display: none;}</style><div id=\"sk-container-id-3\" class=\"sk-top-container\"><div class=\"sk-text-repr-fallback\"><pre>RandomForestRegressor(n_estimators=150)</pre><b>In a Jupyter environment, please rerun this cell to show the HTML representation or trust the notebook. <br />On GitHub, the HTML representation is unable to render, please try loading this page with nbviewer.org.</b></div><div class=\"sk-container\" hidden><div class=\"sk-item\"><div class=\"sk-estimator sk-toggleable\"><input class=\"sk-toggleable__control sk-hidden--visually\" id=\"sk-estimator-id-5\" type=\"checkbox\" checked><label for=\"sk-estimator-id-5\" class=\"sk-toggleable__label sk-toggleable__label-arrow\">RandomForestRegressor</label><div class=\"sk-toggleable__content\"><pre>RandomForestRegressor(n_estimators=150)</pre></div></div></div></div></div>"
      ],
      "text/plain": [
       "RandomForestRegressor(n_estimators=150)"
      ]
     },
     "execution_count": 57,
     "metadata": {},
     "output_type": "execute_result"
    }
   ],
   "source": [
    "best_model_rf"
   ]
  },
  {
   "cell_type": "markdown",
   "id": "582bc7ec",
   "metadata": {},
   "source": [
    "Performing cross validation for random forest model to provide a more robust estimate of the models performance."
   ]
  },
  {
   "cell_type": "code",
   "execution_count": 58,
   "id": "76b6f8c2",
   "metadata": {},
   "outputs": [
    {
     "name": "stdout",
     "output_type": "stream",
     "text": [
      "Cross-validation R-squared scores: [0.98904684 0.98416661 0.94898255 0.98367217 0.97583655]\n",
      "Mean R-squared score: 0.9763409433520414\n",
      "Standard deviation of R-squared scores: 0.014318966598137823\n"
     ]
    }
   ],
   "source": [
    "#Perform cv on entire training dataset\n",
    "cv_scores_rf = cross_val_score(best_model_rf, X_train_encoded, y_train_normalised, cv=5, scoring='r2')\n",
    "\n",
    "mean_cv_score_rf = np.mean(cv_scores_rf)\n",
    "std_cv_score_rf = np.std(cv_scores_rf)\n",
    "\n",
    "print(\"Cross-validation R-squared scores:\", cv_scores_rf)\n",
    "print(\"Mean R-squared score:\", mean_cv_score_rf)\n",
    "print(\"Standard deviation of R-squared scores:\", std_cv_score_rf)"
   ]
  },
  {
   "cell_type": "markdown",
   "id": "0add8eb7",
   "metadata": {},
   "source": [
    "Learning curve to check for overfitting or underfitting"
   ]
  },
  {
   "cell_type": "code",
   "execution_count": 59,
   "id": "f0b98d1e",
   "metadata": {},
   "outputs": [
    {
     "data": {
      "text/plain": [
       "<Figure size 1000x600 with 0 Axes>"
      ]
     },
     "execution_count": 59,
     "metadata": {},
     "output_type": "execute_result"
    },
    {
     "data": {
      "text/plain": [
       "[<matplotlib.lines.Line2D at 0x26a8b3b8910>]"
      ]
     },
     "execution_count": 59,
     "metadata": {},
     "output_type": "execute_result"
    },
    {
     "data": {
      "text/plain": [
       "<matplotlib.collections.PolyCollection at 0x26a8b3b8b20>"
      ]
     },
     "execution_count": 59,
     "metadata": {},
     "output_type": "execute_result"
    },
    {
     "data": {
      "text/plain": [
       "[<matplotlib.lines.Line2D at 0x26a8b3b8fd0>]"
      ]
     },
     "execution_count": 59,
     "metadata": {},
     "output_type": "execute_result"
    },
    {
     "data": {
      "text/plain": [
       "<matplotlib.collections.PolyCollection at 0x26a8b3c6250>"
      ]
     },
     "execution_count": 59,
     "metadata": {},
     "output_type": "execute_result"
    },
    {
     "data": {
      "text/plain": [
       "Text(0.5, 0, 'Number of Training Samples')"
      ]
     },
     "execution_count": 59,
     "metadata": {},
     "output_type": "execute_result"
    },
    {
     "data": {
      "text/plain": [
       "Text(0, 0.5, 'R-squared (R2)')"
      ]
     },
     "execution_count": 59,
     "metadata": {},
     "output_type": "execute_result"
    },
    {
     "data": {
      "text/plain": [
       "Text(0.5, 1.0, 'Learning Curve Random Forest Model')"
      ]
     },
     "execution_count": 59,
     "metadata": {},
     "output_type": "execute_result"
    },
    {
     "data": {
      "text/plain": [
       "<matplotlib.legend.Legend at 0x26a8b3c65b0>"
      ]
     },
     "execution_count": 59,
     "metadata": {},
     "output_type": "execute_result"
    },
    {
     "data": {
      "image/png": "[encoded data removed]",
      "text/plain": [
       "<Figure size 1000x600 with 1 Axes>"
      ]
     },
     "metadata": {},
     "output_type": "display_data"
    }
   ],
   "source": [
    "#Learning curve using the test set as the validation set\n",
    "train_sizes, train_scores, test_scores = learning_curve(\n",
    "    best_model_rf, X_train_encoded, y_train, train_sizes=np.linspace(0.1, 1.0, 10), cv=5,\n",
    "    scoring='r2', random_state=42\n",
    ")\n",
    "\n",
    "train_mean = np.mean(train_scores, axis=1)\n",
    "train_std = np.std(train_scores, axis=1)\n",
    "test_mean = np.mean(test_scores, axis=1)\n",
    "test_std = np.std(test_scores, axis=1)\n",
    "\n",
    "plt.figure(figsize=(10, 6))\n",
    "plt.plot(train_sizes, train_mean, label='Training R2')\n",
    "plt.fill_between(train_sizes, train_mean - train_std, train_mean + train_std, alpha=0.3)\n",
    "plt.plot(train_sizes, test_mean, label='Test R2')\n",
    "plt.fill_between(train_sizes, test_mean - test_std, test_mean + test_std, alpha=0.3)\n",
    "plt.xlabel('Number of Training Samples')\n",
    "plt.ylabel('R-squared (R2)')\n",
    "plt.title('Learning Curve Random Forest Model')\n",
    "plt.legend()\n",
    "plt.grid()\n",
    "plt.show()"
   ]
  },
  {
   "cell_type": "code",
   "execution_count": 60,
   "id": "83e0a645",
   "metadata": {},
   "outputs": [
    {
     "name": "stdout",
     "output_type": "stream",
     "text": [
      "Final Mean Squared Error: 0.0591124065186054\n",
      "Final Mean Absolute Error: 0.09898173464088786\n",
      "Mean Absolute Percentage Error (MAPE): 6.715870033060075\n",
      "Final R-squared: 0.9206216406963894\n",
      "Adjusted R-squared: 0.9189302286795137\n"
     ]
    }
   ],
   "source": [
    "#Predictions using the best model on the test data\n",
    "y_pred_rfmodel_normalised_final = best_model_rf.predict(X_test_encoded)\n",
    "\n",
    "#Reverse scale\n",
    "y_pred_rfmodel_actual_final = y_pred_rfmodel_normalised_final * y_test_with_zones['TotalFootfallInZone']\n",
    "\n",
    "#Evaluating model\n",
    "mse_final_rf = mean_squared_error(y_test, y_pred_rfmodel_actual_final)\n",
    "mae_final_rf = mean_absolute_error(y_test, y_pred_rfmodel_actual_final)\n",
    "mape_final_rf = 100 * np.mean(np.abs((y_test - y_pred_rfmodel_actual_final) / y_test))\n",
    "r2_final_rf = r2_score(y_test, y_pred_rfmodel_actual_final)\n",
    "n_samples = len(y_test)\n",
    "n_predictors = X_train_encoded.shape[1]\n",
    "adjusted_r2_final_rf = 1 - (1 - r2_final_rf) * ((n_samples - 1) / (n_samples - n_predictors - 1))\n",
    "\n",
    "print(\"Final Mean Squared Error:\", mse_final_rf)\n",
    "print(\"Final Mean Absolute Error:\", mae_final_rf)\n",
    "print(\"Mean Absolute Percentage Error (MAPE):\", mape_final_rf)\n",
    "print(\"Final R-squared:\", r2_final_rf)\n",
    "print(\"Adjusted R-squared:\", adjusted_r2_final_rf)"
   ]
  },
  {
   "cell_type": "code",
   "execution_count": 61,
   "id": "879cd3cd",
   "metadata": {},
   "outputs": [
    {
     "data": {
      "text/plain": [
       "<Figure size 800x600 with 0 Axes>"
      ]
     },
     "execution_count": 61,
     "metadata": {},
     "output_type": "execute_result"
    },
    {
     "data": {
      "text/plain": [
       "<matplotlib.collections.PathCollection at 0x26a8b440220>"
      ]
     },
     "execution_count": 61,
     "metadata": {},
     "output_type": "execute_result"
    },
    {
     "data": {
      "text/plain": [
       "[<matplotlib.lines.Line2D at 0x26a8b440820>]"
      ]
     },
     "execution_count": 61,
     "metadata": {},
     "output_type": "execute_result"
    },
    {
     "data": {
      "text/plain": [
       "Text(0.5, 0, 'Actual Footfall')"
      ]
     },
     "execution_count": 61,
     "metadata": {},
     "output_type": "execute_result"
    },
    {
     "data": {
      "text/plain": [
       "Text(0, 0.5, 'Predicted Footfall')"
      ]
     },
     "execution_count": 61,
     "metadata": {},
     "output_type": "execute_result"
    },
    {
     "data": {
      "text/plain": [
       "Text(0.5, 1.0, 'Actual vs. Predicted Footfall (Random Forest Model)')"
      ]
     },
     "execution_count": 61,
     "metadata": {},
     "output_type": "execute_result"
    },
    {
     "data": {
      "image/png": "[encoded data removed]",
      "text/plain": [
       "<Figure size 800x600 with 1 Axes>"
      ]
     },
     "metadata": {},
     "output_type": "display_data"
    }
   ],
   "source": [
    "#Visualise\n",
    "plt.figure(figsize=(8, 6))\n",
    "plt.scatter(y_test, y_pred_rfmodel_actual_final, alpha=0.5, color='#5BAEB7')\n",
    "plt.plot([y_test.min(), y_test.max()], [y_test.min(), y_test.max()], color='red', linestyle='--')\n",
    "\n",
    "plt.xlabel(\"Actual Footfall\")\n",
    "plt.ylabel(\"Predicted Footfall\")\n",
    "plt.title(\"Actual vs. Predicted Footfall (Random Forest Model)\")\n",
    "plt.gca().spines['top'].set_visible(False)\n",
    "plt.gca().spines['right'].set_visible(False)\n",
    "\n",
    "plt.show()"
   ]
  },
  {
   "cell_type": "markdown",
   "id": "3136e4cb",
   "metadata": {},
   "source": []
  },
  {
   "cell_type": "markdown",
   "id": "b0ffe946",
   "metadata": {},
   "source": [
    "## XG Boost - Gradient Boosting Machine"
   ]
  },
  {
   "cell_type": "markdown",
   "id": "84f00cdd",
   "metadata": {},
   "source": [
    "Building the basic model"
   ]
  },
  {
   "cell_type": "code",
   "execution_count": 61,
   "id": "75d8a175",
   "metadata": {},
   "outputs": [],
   "source": [
    "#Call or start model\n",
    "xgb_model = xgb.XGBRegressor(n_estimators=100, random_state=42)"
   ]
  },
  {
   "cell_type": "code",
   "execution_count": 62,
   "id": "093205c1",
   "metadata": {},
   "outputs": [
    {
     "data": {
      "text/html": [
       "<style>#sk-container-id-3 {color: black;}#sk-container-id-3 pre{padding: 0;}#sk-container-id-3 div.sk-toggleable {background-color: white;}#sk-container-id-3 label.sk-toggleable__label {cursor: pointer;display: block;width: 100%;margin-bottom: 0;padding: 0.3em;box-sizing: border-box;text-align: center;}#sk-container-id-3 label.sk-toggleable__label-arrow:before {content: \"▸\";float: left;margin-right: 0.25em;color: #696969;}#sk-container-id-3 label.sk-toggleable__label-arrow:hover:before {color: black;}#sk-container-id-3 div.sk-estimator:hover label.sk-toggleable__label-arrow:before {color: black;}#sk-container-id-3 div.sk-toggleable__content {max-height: 0;max-width: 0;overflow: hidden;text-align: left;background-color: #f0f8ff;}#sk-container-id-3 div.sk-toggleable__content pre {margin: 0.2em;color: black;border-radius: 0.25em;background-color: #f0f8ff;}#sk-container-id-3 input.sk-toggleable__control:checked~div.sk-toggleable__content {max-height: 200px;max-width: 100%;overflow: auto;}#sk-container-id-3 input.sk-toggleable__control:checked~label.sk-toggleable__label-arrow:before {content: \"▾\";}#sk-container-id-3 div.sk-estimator input.sk-toggleable__control:checked~label.sk-toggleable__label {background-color: #d4ebff;}#sk-container-id-3 div.sk-label input.sk-toggleable__control:checked~label.sk-toggleable__label {background-color: #d4ebff;}#sk-container-id-3 input.sk-hidden--visually {border: 0;clip: rect(1px 1px 1px 1px);clip: rect(1px, 1px, 1px, 1px);height: 1px;margin: -1px;overflow: hidden;padding: 0;position: absolute;width: 1px;}#sk-container-id-3 div.sk-estimator {font-family: monospace;background-color: #f0f8ff;border: 1px dotted black;border-radius: 0.25em;box-sizing: border-box;margin-bottom: 0.5em;}#sk-container-id-3 div.sk-estimator:hover {background-color: #d4ebff;}#sk-container-id-3 div.sk-parallel-item::after {content: \"\";width: 100%;border-bottom: 1px solid gray;flex-grow: 1;}#sk-container-id-3 div.sk-label:hover label.sk-toggleable__label {background-color: #d4ebff;}#sk-container-id-3 div.sk-serial::before {content: \"\";position: absolute;border-left: 1px solid gray;box-sizing: border-box;top: 0;bottom: 0;left: 50%;z-index: 0;}#sk-container-id-3 div.sk-serial {display: flex;flex-direction: column;align-items: center;background-color: white;padding-right: 0.2em;padding-left: 0.2em;position: relative;}#sk-container-id-3 div.sk-item {position: relative;z-index: 1;}#sk-container-id-3 div.sk-parallel {display: flex;align-items: stretch;justify-content: center;background-color: white;position: relative;}#sk-container-id-3 div.sk-item::before, #sk-container-id-3 div.sk-parallel-item::before {content: \"\";position: absolute;border-left: 1px solid gray;box-sizing: border-box;top: 0;bottom: 0;left: 50%;z-index: -1;}#sk-container-id-3 div.sk-parallel-item {display: flex;flex-direction: column;z-index: 1;position: relative;background-color: white;}#sk-container-id-3 div.sk-parallel-item:first-child::after {align-self: flex-end;width: 50%;}#sk-container-id-3 div.sk-parallel-item:last-child::after {align-self: flex-start;width: 50%;}#sk-container-id-3 div.sk-parallel-item:only-child::after {width: 0;}#sk-container-id-3 div.sk-dashed-wrapped {border: 1px dashed gray;margin: 0 0.4em 0.5em 0.4em;box-sizing: border-box;padding-bottom: 0.4em;background-color: white;}#sk-container-id-3 div.sk-label label {font-family: monospace;font-weight: bold;display: inline-block;line-height: 1.2em;}#sk-container-id-3 div.sk-label-container {text-align: center;}#sk-container-id-3 div.sk-container {/* jupyter's `normalize.less` sets `[hidden] { display: none; }` but bootstrap.min.css set `[hidden] { display: none !important; }` so we also need the `!important` here to be able to override the default hidden behavior on the sphinx rendered scikit-learn.org. See: https://github.com/scikit-learn/scikit-learn/issues/21755 */display: inline-block !important;position: relative;}#sk-container-id-3 div.sk-text-repr-fallback {display: none;}</style><div id=\"sk-container-id-3\" class=\"sk-top-container\"><div class=\"sk-text-repr-fallback\"><pre>XGBRegressor(base_score=None, booster=None, callbacks=None,\n",
       "             colsample_bylevel=None, colsample_bynode=None,\n",
       "             colsample_bytree=None, early_stopping_rounds=None,\n",
       "             enable_categorical=False, eval_metric=None, feature_types=None,\n",
       "             gamma=None, gpu_id=None, grow_policy=None, importance_type=None,\n",
       "             interaction_constraints=None, learning_rate=None, max_bin=None,\n",
       "             max_cat_threshold=None, max_cat_to_onehot=None,\n",
       "             max_delta_step=None, max_depth=None, max_leaves=None,\n",
       "             min_child_weight=None, missing=nan, monotone_constraints=None,\n",
       "             n_estimators=100, n_jobs=None, num_parallel_tree=None,\n",
       "             predictor=None, random_state=42, ...)</pre><b>In a Jupyter environment, please rerun this cell to show the HTML representation or trust the notebook. <br />On GitHub, the HTML representation is unable to render, please try loading this page with nbviewer.org.</b></div><div class=\"sk-container\" hidden><div class=\"sk-item\"><div class=\"sk-estimator sk-toggleable\"><input class=\"sk-toggleable__control sk-hidden--visually\" id=\"sk-estimator-id-3\" type=\"checkbox\" checked><label for=\"sk-estimator-id-3\" class=\"sk-toggleable__label sk-toggleable__label-arrow\">XGBRegressor</label><div class=\"sk-toggleable__content\"><pre>XGBRegressor(base_score=None, booster=None, callbacks=None,\n",
       "             colsample_bylevel=None, colsample_bynode=None,\n",
       "             colsample_bytree=None, early_stopping_rounds=None,\n",
       "             enable_categorical=False, eval_metric=None, feature_types=None,\n",
       "             gamma=None, gpu_id=None, grow_policy=None, importance_type=None,\n",
       "             interaction_constraints=None, learning_rate=None, max_bin=None,\n",
       "             max_cat_threshold=None, max_cat_to_onehot=None,\n",
       "             max_delta_step=None, max_depth=None, max_leaves=None,\n",
       "             min_child_weight=None, missing=nan, monotone_constraints=None,\n",
       "             n_estimators=100, n_jobs=None, num_parallel_tree=None,\n",
       "             predictor=None, random_state=42, ...)</pre></div></div></div></div></div>"
      ],
      "text/plain": [
       "XGBRegressor(base_score=None, booster=None, callbacks=None,\n",
       "             colsample_bylevel=None, colsample_bynode=None,\n",
       "             colsample_bytree=None, early_stopping_rounds=None,\n",
       "             enable_categorical=False, eval_metric=None, feature_types=None,\n",
       "             gamma=None, gpu_id=None, grow_policy=None, importance_type=None,\n",
       "             interaction_constraints=None, learning_rate=None, max_bin=None,\n",
       "             max_cat_threshold=None, max_cat_to_onehot=None,\n",
       "             max_delta_step=None, max_depth=None, max_leaves=None,\n",
       "             min_child_weight=None, missing=nan, monotone_constraints=None,\n",
       "             n_estimators=100, n_jobs=None, num_parallel_tree=None,\n",
       "             predictor=None, random_state=42, ...)"
      ]
     },
     "execution_count": 62,
     "metadata": {},
     "output_type": "execute_result"
    }
   ],
   "source": [
    "#Train model\n",
    "xgb_model.fit(X_train_encoded, y_train_normalised)"
   ]
  },
  {
   "cell_type": "code",
   "execution_count": 65,
   "id": "af285981",
   "metadata": {},
   "outputs": [],
   "source": [
    "#Mke predictions\n",
    "y_pred_xgb_model_normalised = xgb_model.predict(X_test_encoded)"
   ]
  },
  {
   "cell_type": "code",
   "execution_count": 66,
   "id": "c6e9e04f",
   "metadata": {},
   "outputs": [],
   "source": [
    "#Reverse scaling\n",
    "y_pred_xgb_model_actual = y_pred_xgb_model_normalised * y_test_with_zones['TotalFootfallInZone']"
   ]
  },
  {
   "cell_type": "code",
   "execution_count": 67,
   "id": "aad3df59",
   "metadata": {},
   "outputs": [
    {
     "name": "stdout",
     "output_type": "stream",
     "text": [
      "Mean Squared Error (MSE): 0.43143747318360365\n",
      "Mean Absolute Error (MAE): 0.4285775947223604\n",
      "Mean Absolute Percentage Error (MAPE): 29.165414259532092\n",
      "R-squared (R2): 0.4206495593673568\n",
      "Adjusted R-squared: 0.40830462926467903\n"
     ]
    }
   ],
   "source": [
    "#Evaluate model\n",
    "mse_xgb_model = mean_squared_error(y_test, y_pred_xgb_model_actual)\n",
    "mae_xgb_model = mean_absolute_error(y_test, y_pred_xgb_model_actual)\n",
    "mape_xgb_model = 100 * np.mean(np.abs((y_test - y_pred_xgb_model_actual) / y_test))\n",
    "r2_xgb_model = r2_score(y_test, y_pred_xgb_model_actual)\n",
    "n_samples = len(y_test)\n",
    "n_predictors = X_train_encoded.shape[1]\n",
    "adjusted_r2_xgb_model = 1 - (1 - r2_xgb_model) * ((n_samples - 1) / (n_samples - n_predictors - 1))\n",
    "\n",
    "print(\"Mean Squared Error (MSE):\", mse_xgb_model)\n",
    "print(\"Mean Absolute Error (MAE):\", mae_xgb_model)\n",
    "print(\"Mean Absolute Percentage Error (MAPE):\", mape_xgb_model)\n",
    "print(\"R-squared (R2):\", r2_xgb_model)\n",
    "print(\"Adjusted R-squared:\", adjusted_r2_xgb_model)"
   ]
  },
  {
   "cell_type": "code",
   "execution_count": 68,
   "id": "e22ca662",
   "metadata": {},
   "outputs": [
    {
     "data": {
      "text/plain": [
       "<Figure size 600x400 with 0 Axes>"
      ]
     },
     "execution_count": 68,
     "metadata": {},
     "output_type": "execute_result"
    },
    {
     "data": {
      "text/plain": [
       "<matplotlib.collections.PathCollection at 0x18967db45e0>"
      ]
     },
     "execution_count": 68,
     "metadata": {},
     "output_type": "execute_result"
    },
    {
     "data": {
      "text/plain": [
       "[<matplotlib.lines.Line2D at 0x18969159a60>]"
      ]
     },
     "execution_count": 68,
     "metadata": {},
     "output_type": "execute_result"
    },
    {
     "data": {
      "text/plain": [
       "Text(0.5, 0, 'Actual Footfall')"
      ]
     },
     "execution_count": 68,
     "metadata": {},
     "output_type": "execute_result"
    },
    {
     "data": {
      "text/plain": [
       "Text(0, 0.5, 'Predicted Footfall')"
      ]
     },
     "execution_count": 68,
     "metadata": {},
     "output_type": "execute_result"
    },
    {
     "data": {
      "text/plain": [
       "Text(0.5, 1.0, 'Actual vs. Predicted Unbalanced Footfall (XGBoost Model)')"
      ]
     },
     "execution_count": 68,
     "metadata": {},
     "output_type": "execute_result"
    },
    {
     "data": {
      "image/png": "[encoded data removed]",
      "text/plain": [
       "<Figure size 600x400 with 1 Axes>"
      ]
     },
     "metadata": {},
     "output_type": "display_data"
    }
   ],
   "source": [
    "#Visualise\n",
    "plt.figure(figsize=(6, 4))\n",
    "plt.scatter(y_test, y_pred_xgb_model_actual, alpha=0.5, color='#5BAEB7')\n",
    "plt.plot([y_test.min(), y_test.max()], [y_test.min(), y_test.max()], color='red', linestyle='--')\n",
    "\n",
    "plt.xlabel(\"Actual Footfall\")\n",
    "plt.ylabel(\"Predicted Footfall\")\n",
    "plt.title(\"Actual vs. Predicted Unbalanced Footfall (XGBoost Model)\")\n",
    "\n",
    "plt.gca().spines['top'].set_visible(False)\n",
    "plt.gca().spines['right'].set_visible(False)\n",
    "plt.tight_layout()\n",
    "\n",
    "plt.savefig('actualvspredictedbasemodel_xgb_unbalanced.png')\n",
    "plt.show()"
   ]
  },
  {
   "cell_type": "markdown",
   "id": "5b39c41b",
   "metadata": {},
   "source": [
    "Hyperparameter tuning"
   ]
  },
  {
   "cell_type": "code",
   "execution_count": 69,
   "id": "9bafac5d",
   "metadata": {},
   "outputs": [
    {
     "data": {
      "text/html": [
       "<style>#sk-container-id-5 {color: black;}#sk-container-id-5 pre{padding: 0;}#sk-container-id-5 div.sk-toggleable {background-color: white;}#sk-container-id-5 label.sk-toggleable__label {cursor: pointer;display: block;width: 100%;margin-bottom: 0;padding: 0.3em;box-sizing: border-box;text-align: center;}#sk-container-id-5 label.sk-toggleable__label-arrow:before {content: \"▸\";float: left;margin-right: 0.25em;color: #696969;}#sk-container-id-5 label.sk-toggleable__label-arrow:hover:before {color: black;}#sk-container-id-5 div.sk-estimator:hover label.sk-toggleable__label-arrow:before {color: black;}#sk-container-id-5 div.sk-toggleable__content {max-height: 0;max-width: 0;overflow: hidden;text-align: left;background-color: #f0f8ff;}#sk-container-id-5 div.sk-toggleable__content pre {margin: 0.2em;color: black;border-radius: 0.25em;background-color: #f0f8ff;}#sk-container-id-5 input.sk-toggleable__control:checked~div.sk-toggleable__content {max-height: 200px;max-width: 100%;overflow: auto;}#sk-container-id-5 input.sk-toggleable__control:checked~label.sk-toggleable__label-arrow:before {content: \"▾\";}#sk-container-id-5 div.sk-estimator input.sk-toggleable__control:checked~label.sk-toggleable__label {background-color: #d4ebff;}#sk-container-id-5 div.sk-label input.sk-toggleable__control:checked~label.sk-toggleable__label {background-color: #d4ebff;}#sk-container-id-5 input.sk-hidden--visually {border: 0;clip: rect(1px 1px 1px 1px);clip: rect(1px, 1px, 1px, 1px);height: 1px;margin: -1px;overflow: hidden;padding: 0;position: absolute;width: 1px;}#sk-container-id-5 div.sk-estimator {font-family: monospace;background-color: #f0f8ff;border: 1px dotted black;border-radius: 0.25em;box-sizing: border-box;margin-bottom: 0.5em;}#sk-container-id-5 div.sk-estimator:hover {background-color: #d4ebff;}#sk-container-id-5 div.sk-parallel-item::after {content: \"\";width: 100%;border-bottom: 1px solid gray;flex-grow: 1;}#sk-container-id-5 div.sk-label:hover label.sk-toggleable__label {background-color: #d4ebff;}#sk-container-id-5 div.sk-serial::before {content: \"\";position: absolute;border-left: 1px solid gray;box-sizing: border-box;top: 0;bottom: 0;left: 50%;z-index: 0;}#sk-container-id-5 div.sk-serial {display: flex;flex-direction: column;align-items: center;background-color: white;padding-right: 0.2em;padding-left: 0.2em;position: relative;}#sk-container-id-5 div.sk-item {position: relative;z-index: 1;}#sk-container-id-5 div.sk-parallel {display: flex;align-items: stretch;justify-content: center;background-color: white;position: relative;}#sk-container-id-5 div.sk-item::before, #sk-container-id-5 div.sk-parallel-item::before {content: \"\";position: absolute;border-left: 1px solid gray;box-sizing: border-box;top: 0;bottom: 0;left: 50%;z-index: -1;}#sk-container-id-5 div.sk-parallel-item {display: flex;flex-direction: column;z-index: 1;position: relative;background-color: white;}#sk-container-id-5 div.sk-parallel-item:first-child::after {align-self: flex-end;width: 50%;}#sk-container-id-5 div.sk-parallel-item:last-child::after {align-self: flex-start;width: 50%;}#sk-container-id-5 div.sk-parallel-item:only-child::after {width: 0;}#sk-container-id-5 div.sk-dashed-wrapped {border: 1px dashed gray;margin: 0 0.4em 0.5em 0.4em;box-sizing: border-box;padding-bottom: 0.4em;background-color: white;}#sk-container-id-5 div.sk-label label {font-family: monospace;font-weight: bold;display: inline-block;line-height: 1.2em;}#sk-container-id-5 div.sk-label-container {text-align: center;}#sk-container-id-5 div.sk-container {/* jupyter's `normalize.less` sets `[hidden] { display: none; }` but bootstrap.min.css set `[hidden] { display: none !important; }` so we also need the `!important` here to be able to override the default hidden behavior on the sphinx rendered scikit-learn.org. See: https://github.com/scikit-learn/scikit-learn/issues/21755 */display: inline-block !important;position: relative;}#sk-container-id-5 div.sk-text-repr-fallback {display: none;}</style><div id=\"sk-container-id-5\" class=\"sk-top-container\"><div class=\"sk-text-repr-fallback\"><pre>GridSearchCV(cv=5,\n",
       "             estimator=XGBRegressor(base_score=None, booster=None,\n",
       "                                    callbacks=None, colsample_bylevel=None,\n",
       "                                    colsample_bynode=None,\n",
       "                                    colsample_bytree=None,\n",
       "                                    early_stopping_rounds=None,\n",
       "                                    enable_categorical=False, eval_metric=None,\n",
       "                                    feature_types=None, gamma=None, gpu_id=None,\n",
       "                                    grow_policy=None, importance_type=None,\n",
       "                                    interaction_constraints=None,\n",
       "                                    learning_rate=None, m...\n",
       "                                    max_cat_to_onehot=None, max_delta_step=None,\n",
       "                                    max_depth=None, max_leaves=None,\n",
       "                                    min_child_weight=None, missing=nan,\n",
       "                                    monotone_constraints=None, n_estimators=100,\n",
       "                                    n_jobs=None, num_parallel_tree=None,\n",
       "                                    predictor=None, random_state=42, ...),\n",
       "             param_grid={&#x27;colsample_bytree&#x27;: [0.8, 1.0],\n",
       "                         &#x27;learning_rate&#x27;: [0.05, 0.1, 0.2],\n",
       "                         &#x27;max_depth&#x27;: [3, 5, 7], &#x27;subsample&#x27;: [0.8, 1.0]},\n",
       "             scoring=&#x27;r2&#x27;)</pre><b>In a Jupyter environment, please rerun this cell to show the HTML representation or trust the notebook. <br />On GitHub, the HTML representation is unable to render, please try loading this page with nbviewer.org.</b></div><div class=\"sk-container\" hidden><div class=\"sk-item sk-dashed-wrapped\"><div class=\"sk-label-container\"><div class=\"sk-label sk-toggleable\"><input class=\"sk-toggleable__control sk-hidden--visually\" id=\"sk-estimator-id-7\" type=\"checkbox\" ><label for=\"sk-estimator-id-7\" class=\"sk-toggleable__label sk-toggleable__label-arrow\">GridSearchCV</label><div class=\"sk-toggleable__content\"><pre>GridSearchCV(cv=5,\n",
       "             estimator=XGBRegressor(base_score=None, booster=None,\n",
       "                                    callbacks=None, colsample_bylevel=None,\n",
       "                                    colsample_bynode=None,\n",
       "                                    colsample_bytree=None,\n",
       "                                    early_stopping_rounds=None,\n",
       "                                    enable_categorical=False, eval_metric=None,\n",
       "                                    feature_types=None, gamma=None, gpu_id=None,\n",
       "                                    grow_policy=None, importance_type=None,\n",
       "                                    interaction_constraints=None,\n",
       "                                    learning_rate=None, m...\n",
       "                                    max_cat_to_onehot=None, max_delta_step=None,\n",
       "                                    max_depth=None, max_leaves=None,\n",
       "                                    min_child_weight=None, missing=nan,\n",
       "                                    monotone_constraints=None, n_estimators=100,\n",
       "                                    n_jobs=None, num_parallel_tree=None,\n",
       "                                    predictor=None, random_state=42, ...),\n",
       "             param_grid={&#x27;colsample_bytree&#x27;: [0.8, 1.0],\n",
       "                         &#x27;learning_rate&#x27;: [0.05, 0.1, 0.2],\n",
       "                         &#x27;max_depth&#x27;: [3, 5, 7], &#x27;subsample&#x27;: [0.8, 1.0]},\n",
       "             scoring=&#x27;r2&#x27;)</pre></div></div></div><div class=\"sk-parallel\"><div class=\"sk-parallel-item\"><div class=\"sk-item\"><div class=\"sk-label-container\"><div class=\"sk-label sk-toggleable\"><input class=\"sk-toggleable__control sk-hidden--visually\" id=\"sk-estimator-id-8\" type=\"checkbox\" ><label for=\"sk-estimator-id-8\" class=\"sk-toggleable__label sk-toggleable__label-arrow\">estimator: XGBRegressor</label><div class=\"sk-toggleable__content\"><pre>XGBRegressor(base_score=None, booster=None, callbacks=None,\n",
       "             colsample_bylevel=None, colsample_bynode=None,\n",
       "             colsample_bytree=None, early_stopping_rounds=None,\n",
       "             enable_categorical=False, eval_metric=None, feature_types=None,\n",
       "             gamma=None, gpu_id=None, grow_policy=None, importance_type=None,\n",
       "             interaction_constraints=None, learning_rate=None, max_bin=None,\n",
       "             max_cat_threshold=None, max_cat_to_onehot=None,\n",
       "             max_delta_step=None, max_depth=None, max_leaves=None,\n",
       "             min_child_weight=None, missing=nan, monotone_constraints=None,\n",
       "             n_estimators=100, n_jobs=None, num_parallel_tree=None,\n",
       "             predictor=None, random_state=42, ...)</pre></div></div></div><div class=\"sk-serial\"><div class=\"sk-item\"><div class=\"sk-estimator sk-toggleable\"><input class=\"sk-toggleable__control sk-hidden--visually\" id=\"sk-estimator-id-9\" type=\"checkbox\" ><label for=\"sk-estimator-id-9\" class=\"sk-toggleable__label sk-toggleable__label-arrow\">XGBRegressor</label><div class=\"sk-toggleable__content\"><pre>XGBRegressor(base_score=None, booster=None, callbacks=None,\n",
       "             colsample_bylevel=None, colsample_bynode=None,\n",
       "             colsample_bytree=None, early_stopping_rounds=None,\n",
       "             enable_categorical=False, eval_metric=None, feature_types=None,\n",
       "             gamma=None, gpu_id=None, grow_policy=None, importance_type=None,\n",
       "             interaction_constraints=None, learning_rate=None, max_bin=None,\n",
       "             max_cat_threshold=None, max_cat_to_onehot=None,\n",
       "             max_delta_step=None, max_depth=None, max_leaves=None,\n",
       "             min_child_weight=None, missing=nan, monotone_constraints=None,\n",
       "             n_estimators=100, n_jobs=None, num_parallel_tree=None,\n",
       "             predictor=None, random_state=42, ...)</pre></div></div></div></div></div></div></div></div></div></div>"
      ],
      "text/plain": [
       "GridSearchCV(cv=5,\n",
       "             estimator=XGBRegressor(base_score=None, booster=None,\n",
       "                                    callbacks=None, colsample_bylevel=None,\n",
       "                                    colsample_bynode=None,\n",
       "                                    colsample_bytree=None,\n",
       "                                    early_stopping_rounds=None,\n",
       "                                    enable_categorical=False, eval_metric=None,\n",
       "                                    feature_types=None, gamma=None, gpu_id=None,\n",
       "                                    grow_policy=None, importance_type=None,\n",
       "                                    interaction_constraints=None,\n",
       "                                    learning_rate=None, m...\n",
       "                                    max_cat_to_onehot=None, max_delta_step=None,\n",
       "                                    max_depth=None, max_leaves=None,\n",
       "                                    min_child_weight=None, missing=nan,\n",
       "                                    monotone_constraints=None, n_estimators=100,\n",
       "                                    n_jobs=None, num_parallel_tree=None,\n",
       "                                    predictor=None, random_state=42, ...),\n",
       "             param_grid={'colsample_bytree': [0.8, 1.0],\n",
       "                         'learning_rate': [0.05, 0.1, 0.2],\n",
       "                         'max_depth': [3, 5, 7], 'subsample': [0.8, 1.0]},\n",
       "             scoring='r2')"
      ]
     },
     "execution_count": 69,
     "metadata": {},
     "output_type": "execute_result"
    }
   ],
   "source": [
    "#Grid search for hyperparameter tuning\n",
    "random.seed(42)\n",
    "np.random.seed(42)\n",
    "\n",
    "param_grid = {\n",
    "    'learning_rate': [0.05, 0.1, 0.2],\n",
    "    'max_depth': [3, 5, 7],\n",
    "    'subsample': [0.8, 1.0],\n",
    "    'colsample_bytree': [0.8, 1.0],\n",
    "}\n",
    "\n",
    "grid_search_xgb = GridSearchCV(xgb_model, param_grid, cv=5, scoring='r2')\n",
    "\n",
    "grid_search_xgb.fit(X_train_encoded, y_train_normalised)\n",
    "\n",
    "best_params_xgb = grid_search_xgb.best_params_\n",
    "best_model_xgb = grid_search_xgb.best_estimator_"
   ]
  },
  {
   "cell_type": "code",
   "execution_count": 70,
   "id": "07b23e80",
   "metadata": {},
   "outputs": [
    {
     "data": {
      "text/html": [
       "<style>#sk-container-id-6 {color: black;}#sk-container-id-6 pre{padding: 0;}#sk-container-id-6 div.sk-toggleable {background-color: white;}#sk-container-id-6 label.sk-toggleable__label {cursor: pointer;display: block;width: 100%;margin-bottom: 0;padding: 0.3em;box-sizing: border-box;text-align: center;}#sk-container-id-6 label.sk-toggleable__label-arrow:before {content: \"▸\";float: left;margin-right: 0.25em;color: #696969;}#sk-container-id-6 label.sk-toggleable__label-arrow:hover:before {color: black;}#sk-container-id-6 div.sk-estimator:hover label.sk-toggleable__label-arrow:before {color: black;}#sk-container-id-6 div.sk-toggleable__content {max-height: 0;max-width: 0;overflow: hidden;text-align: left;background-color: #f0f8ff;}#sk-container-id-6 div.sk-toggleable__content pre {margin: 0.2em;color: black;border-radius: 0.25em;background-color: #f0f8ff;}#sk-container-id-6 input.sk-toggleable__control:checked~div.sk-toggleable__content {max-height: 200px;max-width: 100%;overflow: auto;}#sk-container-id-6 input.sk-toggleable__control:checked~label.sk-toggleable__label-arrow:before {content: \"▾\";}#sk-container-id-6 div.sk-estimator input.sk-toggleable__control:checked~label.sk-toggleable__label {background-color: #d4ebff;}#sk-container-id-6 div.sk-label input.sk-toggleable__control:checked~label.sk-toggleable__label {background-color: #d4ebff;}#sk-container-id-6 input.sk-hidden--visually {border: 0;clip: rect(1px 1px 1px 1px);clip: rect(1px, 1px, 1px, 1px);height: 1px;margin: -1px;overflow: hidden;padding: 0;position: absolute;width: 1px;}#sk-container-id-6 div.sk-estimator {font-family: monospace;background-color: #f0f8ff;border: 1px dotted black;border-radius: 0.25em;box-sizing: border-box;margin-bottom: 0.5em;}#sk-container-id-6 div.sk-estimator:hover {background-color: #d4ebff;}#sk-container-id-6 div.sk-parallel-item::after {content: \"\";width: 100%;border-bottom: 1px solid gray;flex-grow: 1;}#sk-container-id-6 div.sk-label:hover label.sk-toggleable__label {background-color: #d4ebff;}#sk-container-id-6 div.sk-serial::before {content: \"\";position: absolute;border-left: 1px solid gray;box-sizing: border-box;top: 0;bottom: 0;left: 50%;z-index: 0;}#sk-container-id-6 div.sk-serial {display: flex;flex-direction: column;align-items: center;background-color: white;padding-right: 0.2em;padding-left: 0.2em;position: relative;}#sk-container-id-6 div.sk-item {position: relative;z-index: 1;}#sk-container-id-6 div.sk-parallel {display: flex;align-items: stretch;justify-content: center;background-color: white;position: relative;}#sk-container-id-6 div.sk-item::before, #sk-container-id-6 div.sk-parallel-item::before {content: \"\";position: absolute;border-left: 1px solid gray;box-sizing: border-box;top: 0;bottom: 0;left: 50%;z-index: -1;}#sk-container-id-6 div.sk-parallel-item {display: flex;flex-direction: column;z-index: 1;position: relative;background-color: white;}#sk-container-id-6 div.sk-parallel-item:first-child::after {align-self: flex-end;width: 50%;}#sk-container-id-6 div.sk-parallel-item:last-child::after {align-self: flex-start;width: 50%;}#sk-container-id-6 div.sk-parallel-item:only-child::after {width: 0;}#sk-container-id-6 div.sk-dashed-wrapped {border: 1px dashed gray;margin: 0 0.4em 0.5em 0.4em;box-sizing: border-box;padding-bottom: 0.4em;background-color: white;}#sk-container-id-6 div.sk-label label {font-family: monospace;font-weight: bold;display: inline-block;line-height: 1.2em;}#sk-container-id-6 div.sk-label-container {text-align: center;}#sk-container-id-6 div.sk-container {/* jupyter's `normalize.less` sets `[hidden] { display: none; }` but bootstrap.min.css set `[hidden] { display: none !important; }` so we also need the `!important` here to be able to override the default hidden behavior on the sphinx rendered scikit-learn.org. See: https://github.com/scikit-learn/scikit-learn/issues/21755 */display: inline-block !important;position: relative;}#sk-container-id-6 div.sk-text-repr-fallback {display: none;}</style><div id=\"sk-container-id-6\" class=\"sk-top-container\"><div class=\"sk-text-repr-fallback\"><pre>XGBRegressor(base_score=None, booster=None, callbacks=None,\n",
       "             colsample_bylevel=None, colsample_bynode=None,\n",
       "             colsample_bytree=1.0, early_stopping_rounds=None,\n",
       "             enable_categorical=False, eval_metric=None, feature_types=None,\n",
       "             gamma=None, gpu_id=None, grow_policy=None, importance_type=None,\n",
       "             interaction_constraints=None, learning_rate=0.2, max_bin=None,\n",
       "             max_cat_threshold=None, max_cat_to_onehot=None,\n",
       "             max_delta_step=None, max_depth=7, max_leaves=None,\n",
       "             min_child_weight=None, missing=nan, monotone_constraints=None,\n",
       "             n_estimators=100, n_jobs=None, num_parallel_tree=None,\n",
       "             predictor=None, random_state=42, ...)</pre><b>In a Jupyter environment, please rerun this cell to show the HTML representation or trust the notebook. <br />On GitHub, the HTML representation is unable to render, please try loading this page with nbviewer.org.</b></div><div class=\"sk-container\" hidden><div class=\"sk-item\"><div class=\"sk-estimator sk-toggleable\"><input class=\"sk-toggleable__control sk-hidden--visually\" id=\"sk-estimator-id-10\" type=\"checkbox\" checked><label for=\"sk-estimator-id-10\" class=\"sk-toggleable__label sk-toggleable__label-arrow\">XGBRegressor</label><div class=\"sk-toggleable__content\"><pre>XGBRegressor(base_score=None, booster=None, callbacks=None,\n",
       "             colsample_bylevel=None, colsample_bynode=None,\n",
       "             colsample_bytree=1.0, early_stopping_rounds=None,\n",
       "             enable_categorical=False, eval_metric=None, feature_types=None,\n",
       "             gamma=None, gpu_id=None, grow_policy=None, importance_type=None,\n",
       "             interaction_constraints=None, learning_rate=0.2, max_bin=None,\n",
       "             max_cat_threshold=None, max_cat_to_onehot=None,\n",
       "             max_delta_step=None, max_depth=7, max_leaves=None,\n",
       "             min_child_weight=None, missing=nan, monotone_constraints=None,\n",
       "             n_estimators=100, n_jobs=None, num_parallel_tree=None,\n",
       "             predictor=None, random_state=42, ...)</pre></div></div></div></div></div>"
      ],
      "text/plain": [
       "XGBRegressor(base_score=None, booster=None, callbacks=None,\n",
       "             colsample_bylevel=None, colsample_bynode=None,\n",
       "             colsample_bytree=1.0, early_stopping_rounds=None,\n",
       "             enable_categorical=False, eval_metric=None, feature_types=None,\n",
       "             gamma=None, gpu_id=None, grow_policy=None, importance_type=None,\n",
       "             interaction_constraints=None, learning_rate=0.2, max_bin=None,\n",
       "             max_cat_threshold=None, max_cat_to_onehot=None,\n",
       "             max_delta_step=None, max_depth=7, max_leaves=None,\n",
       "             min_child_weight=None, missing=nan, monotone_constraints=None,\n",
       "             n_estimators=100, n_jobs=None, num_parallel_tree=None,\n",
       "             predictor=None, random_state=42, ...)"
      ]
     },
     "execution_count": 70,
     "metadata": {},
     "output_type": "execute_result"
    }
   ],
   "source": [
    "best_model_xgb"
   ]
  },
  {
   "cell_type": "code",
   "execution_count": 71,
   "id": "4adb5dd7",
   "metadata": {},
   "outputs": [
    {
     "data": {
      "text/plain": [
       "{'colsample_bytree': 1.0,\n",
       " 'learning_rate': 0.2,\n",
       " 'max_depth': 7,\n",
       " 'subsample': 0.8}"
      ]
     },
     "execution_count": 71,
     "metadata": {},
     "output_type": "execute_result"
    }
   ],
   "source": [
    "best_params_xgb"
   ]
  },
  {
   "cell_type": "markdown",
   "id": "177daf79",
   "metadata": {},
   "source": [
    "Performing cross validation for XGBoost model to provide a more robust estimate of the models performance."
   ]
  },
  {
   "cell_type": "code",
   "execution_count": 72,
   "id": "ad762fc1",
   "metadata": {},
   "outputs": [
    {
     "name": "stdout",
     "output_type": "stream",
     "text": [
      "Cross-validation R-squared scores: [0.96207546 0.96568352 0.93838225 0.96375277 0.96192699]\n",
      "Mean R-squared score: 0.9583641975912837\n",
      "Standard deviation of R-squared scores: 0.01008319870498774\n"
     ]
    }
   ],
   "source": [
    "#Perform cv on entire training dataset\n",
    "cv_scores_xgb = cross_val_score(best_model_xgb, X_train_encoded, y_train_normalised, cv=5, scoring='r2')\n",
    "\n",
    "mean_cv_score_xgb = np.mean(cv_scores_xgb)\n",
    "std_cv_score_xgb = np.std(cv_scores_xgb)\n",
    "\n",
    "print(\"Cross-validation R-squared scores:\", cv_scores_xgb)\n",
    "print(\"Mean R-squared score:\", mean_cv_score_xgb)\n",
    "print(\"Standard deviation of R-squared scores:\", std_cv_score_xgb)"
   ]
  },
  {
   "cell_type": "markdown",
   "id": "ac9e5ca0",
   "metadata": {},
   "source": [
    "Learning curve to check for overfitting or underfitting"
   ]
  },
  {
   "cell_type": "code",
   "execution_count": 73,
   "id": "db67eefd",
   "metadata": {},
   "outputs": [
    {
     "data": {
      "text/plain": [
       "<Figure size 1000x600 with 0 Axes>"
      ]
     },
     "execution_count": 73,
     "metadata": {},
     "output_type": "execute_result"
    },
    {
     "data": {
      "text/plain": [
       "[<matplotlib.lines.Line2D at 0x26a89d3bb80>]"
      ]
     },
     "execution_count": 73,
     "metadata": {},
     "output_type": "execute_result"
    },
    {
     "data": {
      "text/plain": [
       "<matplotlib.collections.PolyCollection at 0x26a8e7c6bb0>"
      ]
     },
     "execution_count": 73,
     "metadata": {},
     "output_type": "execute_result"
    },
    {
     "data": {
      "text/plain": [
       "[<matplotlib.lines.Line2D at 0x26a89d1eca0>]"
      ]
     },
     "execution_count": 73,
     "metadata": {},
     "output_type": "execute_result"
    },
    {
     "data": {
      "text/plain": [
       "<matplotlib.collections.PolyCollection at 0x26a89d1ed60>"
      ]
     },
     "execution_count": 73,
     "metadata": {},
     "output_type": "execute_result"
    },
    {
     "data": {
      "text/plain": [
       "Text(0.5, 0, 'Number of Training Samples')"
      ]
     },
     "execution_count": 73,
     "metadata": {},
     "output_type": "execute_result"
    },
    {
     "data": {
      "text/plain": [
       "Text(0, 0.5, 'R-squared (R2)')"
      ]
     },
     "execution_count": 73,
     "metadata": {},
     "output_type": "execute_result"
    },
    {
     "data": {
      "text/plain": [
       "Text(0.5, 1.0, 'Learning Curve XGBoost model')"
      ]
     },
     "execution_count": 73,
     "metadata": {},
     "output_type": "execute_result"
    },
    {
     "data": {
      "text/plain": [
       "<matplotlib.legend.Legend at 0x26a89d3e910>"
      ]
     },
     "execution_count": 73,
     "metadata": {},
     "output_type": "execute_result"
    },
    {
     "data": {
      "image/png": "[encoded data removed]",
      "text/plain": [
       "<Figure size 1000x600 with 1 Axes>"
      ]
     },
     "metadata": {},
     "output_type": "display_data"
    }
   ],
   "source": [
    "#Learning curve using the test set as the validation set\n",
    "train_sizes, train_scores, test_scores = learning_curve(\n",
    "    best_model_xgb, X_train_encoded, y_train, train_sizes=np.linspace(0.1, 1.0, 10), cv=5,\n",
    "    scoring='r2', random_state=42\n",
    ")\n",
    "\n",
    "train_mean = np.mean(train_scores, axis=1)\n",
    "train_std = np.std(train_scores, axis=1)\n",
    "test_mean = np.mean(test_scores, axis=1)\n",
    "test_std = np.std(test_scores, axis=1)\n",
    "\n",
    "plt.figure(figsize=(10, 6))\n",
    "plt.plot(train_sizes, train_mean, label='Training R2')\n",
    "plt.fill_between(train_sizes, train_mean - train_std, train_mean + train_std, alpha=0.3)\n",
    "plt.plot(train_sizes, test_mean, label='Test R2')\n",
    "plt.fill_between(train_sizes, test_mean - test_std, test_mean + test_std, alpha=0.3)\n",
    "plt.xlabel('Number of Training Samples')\n",
    "plt.ylabel('R-squared (R2)')\n",
    "plt.title('Learning Curve XGBoost model')\n",
    "plt.legend()\n",
    "plt.grid()\n",
    "plt.show()"
   ]
  },
  {
   "cell_type": "markdown",
   "id": "988dd3d5",
   "metadata": {},
   "source": [
    "They are converging and generalizing better as more data points are added, however, need more data so the gap becomes smaller"
   ]
  },
  {
   "cell_type": "markdown",
   "id": "f15d6b7a",
   "metadata": {},
   "source": [
    "Training the final model for XGBoost"
   ]
  },
  {
   "cell_type": "code",
   "execution_count": 74,
   "id": "2c9a40f2",
   "metadata": {},
   "outputs": [
    {
     "name": "stdout",
     "output_type": "stream",
     "text": [
      "Mean Squared Error (MSE): 0.39785250422623486\n",
      "Mean Absolute Error (MAE): 0.41170213443149933\n",
      "Mean Absolute Percentage Error (MAPE): 27.829264480059695\n",
      "R-squared (R2): 0.4657487168895521\n",
      "Adjusted R-squared: 0.4543647698262472\n"
     ]
    }
   ],
   "source": [
    "#Predictions on test data using best model for hyperparameter tuning \n",
    "y_pred_xgb_model_normalised_final = best_model_xgb.predict(X_test_encoded)\n",
    "\n",
    "#Reverse scaling\n",
    "y_pred_xgb_model_actual_final = y_pred_xgb_model_normalised_final * y_test_with_zones['TotalFootfallInZone']\n",
    "\n",
    "#Evaluate model\n",
    "mse_xgb_model_final = mean_squared_error(y_test, y_pred_xgb_model_actual_final)\n",
    "mae_xgb_model_final = mean_absolute_error(y_test, y_pred_xgb_model_actual_final)\n",
    "mape_xgb_model_final = 100 * np.mean(np.abs((y_test - y_pred_xgb_model_actual_final) / y_test))\n",
    "r2_xgb_model_final = r2_score(y_test, y_pred_xgb_model_actual_final)\n",
    "n_samples = len(y_test)\n",
    "n_predictors = X_train_encoded.shape[1]\n",
    "adjusted_r2_xgb_model_final = 1 - (1 - r2_xgb_model_final) * ((n_samples - 1) / (n_samples - n_predictors - 1))\n",
    "\n",
    "\n",
    "print(\"Mean Squared Error (MSE):\", mse_xgb_model_final)\n",
    "print(\"Mean Absolute Error (MAE):\", mae_xgb_model_final)\n",
    "print(\"Mean Absolute Percentage Error (MAPE):\", mape_xgb_model_final)\n",
    "print(\"R-squared (R2):\", r2_xgb_model_final)\n",
    "print(\"Adjusted R-squared:\", adjusted_r2_xgb_model_final)"
   ]
  },
  {
   "cell_type": "code",
   "execution_count": 75,
   "id": "c1a2e944",
   "metadata": {},
   "outputs": [
    {
     "data": {
      "text/plain": [
       "<Figure size 800x600 with 0 Axes>"
      ]
     },
     "execution_count": 75,
     "metadata": {},
     "output_type": "execute_result"
    },
    {
     "data": {
      "text/plain": [
       "<matplotlib.collections.PathCollection at 0x26a89c34b80>"
      ]
     },
     "execution_count": 75,
     "metadata": {},
     "output_type": "execute_result"
    },
    {
     "data": {
      "text/plain": [
       "[<matplotlib.lines.Line2D at 0x26a89c34520>]"
      ]
     },
     "execution_count": 75,
     "metadata": {},
     "output_type": "execute_result"
    },
    {
     "data": {
      "text/plain": [
       "Text(0.5, 0, 'Actual Footfall')"
      ]
     },
     "execution_count": 75,
     "metadata": {},
     "output_type": "execute_result"
    },
    {
     "data": {
      "text/plain": [
       "Text(0, 0.5, 'Predicted Footfall')"
      ]
     },
     "execution_count": 75,
     "metadata": {},
     "output_type": "execute_result"
    },
    {
     "data": {
      "text/plain": [
       "Text(0.5, 1.0, 'Actual vs. Predicted Footfall (XGBoost Model)')"
      ]
     },
     "execution_count": 75,
     "metadata": {},
     "output_type": "execute_result"
    },
    {
     "data": {
      "image/png": "[encoded data removed]",
      "text/plain": [
       "<Figure size 800x600 with 1 Axes>"
      ]
     },
     "metadata": {},
     "output_type": "display_data"
    }
   ],
   "source": [
    "#Visualise\n",
    "plt.figure(figsize=(8, 6))\n",
    "plt.scatter(y_test, y_pred_xgb_model_actual_final, alpha=0.5, color='#5BAEB7')\n",
    "plt.plot([y_test.min(), y_test.max()], [y_test.min(), y_test.max()], color='red', linestyle='--')\n",
    "\n",
    "plt.xlabel(\"Actual Footfall\")\n",
    "plt.ylabel(\"Predicted Footfall\")\n",
    "plt.title(\"Actual vs. Predicted Footfall (XGBoost Model)\")\n",
    "plt.gca().spines['top'].set_visible(False)\n",
    "plt.gca().spines['right'].set_visible(False)\n",
    "\n",
    "plt.show()"
   ]
  },
  {
   "cell_type": "markdown",
   "id": "2e9ca49f",
   "metadata": {},
   "source": [
    "## Linear regression model"
   ]
  },
  {
   "cell_type": "code",
   "execution_count": 60,
   "id": "f00973d8",
   "metadata": {},
   "outputs": [
    {
     "data": {
      "text/html": [
       "<style>#sk-container-id-3 {color: black;}#sk-container-id-3 pre{padding: 0;}#sk-container-id-3 div.sk-toggleable {background-color: white;}#sk-container-id-3 label.sk-toggleable__label {cursor: pointer;display: block;width: 100%;margin-bottom: 0;padding: 0.3em;box-sizing: border-box;text-align: center;}#sk-container-id-3 label.sk-toggleable__label-arrow:before {content: \"▸\";float: left;margin-right: 0.25em;color: #696969;}#sk-container-id-3 label.sk-toggleable__label-arrow:hover:before {color: black;}#sk-container-id-3 div.sk-estimator:hover label.sk-toggleable__label-arrow:before {color: black;}#sk-container-id-3 div.sk-toggleable__content {max-height: 0;max-width: 0;overflow: hidden;text-align: left;background-color: #f0f8ff;}#sk-container-id-3 div.sk-toggleable__content pre {margin: 0.2em;color: black;border-radius: 0.25em;background-color: #f0f8ff;}#sk-container-id-3 input.sk-toggleable__control:checked~div.sk-toggleable__content {max-height: 200px;max-width: 100%;overflow: auto;}#sk-container-id-3 input.sk-toggleable__control:checked~label.sk-toggleable__label-arrow:before {content: \"▾\";}#sk-container-id-3 div.sk-estimator input.sk-toggleable__control:checked~label.sk-toggleable__label {background-color: #d4ebff;}#sk-container-id-3 div.sk-label input.sk-toggleable__control:checked~label.sk-toggleable__label {background-color: #d4ebff;}#sk-container-id-3 input.sk-hidden--visually {border: 0;clip: rect(1px 1px 1px 1px);clip: rect(1px, 1px, 1px, 1px);height: 1px;margin: -1px;overflow: hidden;padding: 0;position: absolute;width: 1px;}#sk-container-id-3 div.sk-estimator {font-family: monospace;background-color: #f0f8ff;border: 1px dotted black;border-radius: 0.25em;box-sizing: border-box;margin-bottom: 0.5em;}#sk-container-id-3 div.sk-estimator:hover {background-color: #d4ebff;}#sk-container-id-3 div.sk-parallel-item::after {content: \"\";width: 100%;border-bottom: 1px solid gray;flex-grow: 1;}#sk-container-id-3 div.sk-label:hover label.sk-toggleable__label {background-color: #d4ebff;}#sk-container-id-3 div.sk-serial::before {content: \"\";position: absolute;border-left: 1px solid gray;box-sizing: border-box;top: 0;bottom: 0;left: 50%;z-index: 0;}#sk-container-id-3 div.sk-serial {display: flex;flex-direction: column;align-items: center;background-color: white;padding-right: 0.2em;padding-left: 0.2em;position: relative;}#sk-container-id-3 div.sk-item {position: relative;z-index: 1;}#sk-container-id-3 div.sk-parallel {display: flex;align-items: stretch;justify-content: center;background-color: white;position: relative;}#sk-container-id-3 div.sk-item::before, #sk-container-id-3 div.sk-parallel-item::before {content: \"\";position: absolute;border-left: 1px solid gray;box-sizing: border-box;top: 0;bottom: 0;left: 50%;z-index: -1;}#sk-container-id-3 div.sk-parallel-item {display: flex;flex-direction: column;z-index: 1;position: relative;background-color: white;}#sk-container-id-3 div.sk-parallel-item:first-child::after {align-self: flex-end;width: 50%;}#sk-container-id-3 div.sk-parallel-item:last-child::after {align-self: flex-start;width: 50%;}#sk-container-id-3 div.sk-parallel-item:only-child::after {width: 0;}#sk-container-id-3 div.sk-dashed-wrapped {border: 1px dashed gray;margin: 0 0.4em 0.5em 0.4em;box-sizing: border-box;padding-bottom: 0.4em;background-color: white;}#sk-container-id-3 div.sk-label label {font-family: monospace;font-weight: bold;display: inline-block;line-height: 1.2em;}#sk-container-id-3 div.sk-label-container {text-align: center;}#sk-container-id-3 div.sk-container {/* jupyter's `normalize.less` sets `[hidden] { display: none; }` but bootstrap.min.css set `[hidden] { display: none !important; }` so we also need the `!important` here to be able to override the default hidden behavior on the sphinx rendered scikit-learn.org. See: https://github.com/scikit-learn/scikit-learn/issues/21755 */display: inline-block !important;position: relative;}#sk-container-id-3 div.sk-text-repr-fallback {display: none;}</style><div id=\"sk-container-id-3\" class=\"sk-top-container\"><div class=\"sk-text-repr-fallback\"><pre>LinearRegression()</pre><b>In a Jupyter environment, please rerun this cell to show the HTML representation or trust the notebook. <br />On GitHub, the HTML representation is unable to render, please try loading this page with nbviewer.org.</b></div><div class=\"sk-container\" hidden><div class=\"sk-item\"><div class=\"sk-estimator sk-toggleable\"><input class=\"sk-toggleable__control sk-hidden--visually\" id=\"sk-estimator-id-3\" type=\"checkbox\" checked><label for=\"sk-estimator-id-3\" class=\"sk-toggleable__label sk-toggleable__label-arrow\">LinearRegression</label><div class=\"sk-toggleable__content\"><pre>LinearRegression()</pre></div></div></div></div></div>"
      ],
      "text/plain": [
       "LinearRegression()"
      ]
     },
     "execution_count": 60,
     "metadata": {},
     "output_type": "execute_result"
    }
   ],
   "source": [
    "#Linear regression model\n",
    "linear_model = LinearRegression()\n",
    "\n",
    "linear_model.fit(X_train_encoded, y_train_normalised)"
   ]
  },
  {
   "cell_type": "code",
   "execution_count": 61,
   "id": "415c905d",
   "metadata": {},
   "outputs": [],
   "source": [
    "#Predictions on test data\n",
    "y_pred_linear_model = linear_model.predict(X_test_encoded)"
   ]
  },
  {
   "cell_type": "code",
   "execution_count": 62,
   "id": "5d5ccfc1",
   "metadata": {},
   "outputs": [],
   "source": [
    "#Reverse scaling\n",
    "y_pred_linear_model_actual = y_pred_linear_model * y_test_with_zones['TotalFootfallInZone']"
   ]
  },
  {
   "cell_type": "code",
   "execution_count": 63,
   "id": "a352659e",
   "metadata": {},
   "outputs": [
    {
     "name": "stdout",
     "output_type": "stream",
     "text": [
      "Mean Squared Error (MSE): 0.6413688810159216\n",
      "Mean Absolute Error (MAE): 0.5310372850987927\n",
      "Mean Absolute Percentage Error (MAPE): 35.8825499412771\n",
      "R-squared (R2): 0.13874578143908678\n",
      "Adjusted R-squared: 0.12039398193555884\n"
     ]
    }
   ],
   "source": [
    "#Evaluation metrics\n",
    "mse_linear_model = mean_squared_error(y_test, y_pred_linear_model_actual)\n",
    "mae_linear_model = mean_absolute_error(y_test, y_pred_linear_model_actual)\n",
    "mape_linear_model = 100 * np.mean(np.abs((y_test - y_pred_linear_model_actual) / y_test))\n",
    "r2_linear_model = r2_score(y_test, y_pred_linear_model_actual)\n",
    "n_samples = len(y_test)\n",
    "n_predictors = X_train_encoded.shape[1]\n",
    "adjusted_r2_linear_model = 1 - (1 - r2_linear_model) * ((n_samples - 1) / (n_samples - n_predictors - 1))\n",
    "\n",
    "print(\"Mean Squared Error (MSE):\", mse_linear_model)\n",
    "print(\"Mean Absolute Error (MAE):\", mae_linear_model)\n",
    "print(\"Mean Absolute Percentage Error (MAPE):\", mape_linear_model)\n",
    "print(\"R-squared (R2):\", r2_linear_model)\n",
    "print(\"Adjusted R-squared:\", adjusted_r2_linear_model)"
   ]
  },
  {
   "cell_type": "markdown",
   "id": "3af6eb34",
   "metadata": {},
   "source": [
    "Regularisation technique in the aim of improving model performance (Lasso or L1 regularization) using GridSearchCV"
   ]
  },
  {
   "cell_type": "code",
   "execution_count": 80,
   "id": "a81128ea",
   "metadata": {},
   "outputs": [
    {
     "data": {
      "text/html": [
       "<style>#sk-container-id-8 {color: black;}#sk-container-id-8 pre{padding: 0;}#sk-container-id-8 div.sk-toggleable {background-color: white;}#sk-container-id-8 label.sk-toggleable__label {cursor: pointer;display: block;width: 100%;margin-bottom: 0;padding: 0.3em;box-sizing: border-box;text-align: center;}#sk-container-id-8 label.sk-toggleable__label-arrow:before {content: \"▸\";float: left;margin-right: 0.25em;color: #696969;}#sk-container-id-8 label.sk-toggleable__label-arrow:hover:before {color: black;}#sk-container-id-8 div.sk-estimator:hover label.sk-toggleable__label-arrow:before {color: black;}#sk-container-id-8 div.sk-toggleable__content {max-height: 0;max-width: 0;overflow: hidden;text-align: left;background-color: #f0f8ff;}#sk-container-id-8 div.sk-toggleable__content pre {margin: 0.2em;color: black;border-radius: 0.25em;background-color: #f0f8ff;}#sk-container-id-8 input.sk-toggleable__control:checked~div.sk-toggleable__content {max-height: 200px;max-width: 100%;overflow: auto;}#sk-container-id-8 input.sk-toggleable__control:checked~label.sk-toggleable__label-arrow:before {content: \"▾\";}#sk-container-id-8 div.sk-estimator input.sk-toggleable__control:checked~label.sk-toggleable__label {background-color: #d4ebff;}#sk-container-id-8 div.sk-label input.sk-toggleable__control:checked~label.sk-toggleable__label {background-color: #d4ebff;}#sk-container-id-8 input.sk-hidden--visually {border: 0;clip: rect(1px 1px 1px 1px);clip: rect(1px, 1px, 1px, 1px);height: 1px;margin: -1px;overflow: hidden;padding: 0;position: absolute;width: 1px;}#sk-container-id-8 div.sk-estimator {font-family: monospace;background-color: #f0f8ff;border: 1px dotted black;border-radius: 0.25em;box-sizing: border-box;margin-bottom: 0.5em;}#sk-container-id-8 div.sk-estimator:hover {background-color: #d4ebff;}#sk-container-id-8 div.sk-parallel-item::after {content: \"\";width: 100%;border-bottom: 1px solid gray;flex-grow: 1;}#sk-container-id-8 div.sk-label:hover label.sk-toggleable__label {background-color: #d4ebff;}#sk-container-id-8 div.sk-serial::before {content: \"\";position: absolute;border-left: 1px solid gray;box-sizing: border-box;top: 0;bottom: 0;left: 50%;z-index: 0;}#sk-container-id-8 div.sk-serial {display: flex;flex-direction: column;align-items: center;background-color: white;padding-right: 0.2em;padding-left: 0.2em;position: relative;}#sk-container-id-8 div.sk-item {position: relative;z-index: 1;}#sk-container-id-8 div.sk-parallel {display: flex;align-items: stretch;justify-content: center;background-color: white;position: relative;}#sk-container-id-8 div.sk-item::before, #sk-container-id-8 div.sk-parallel-item::before {content: \"\";position: absolute;border-left: 1px solid gray;box-sizing: border-box;top: 0;bottom: 0;left: 50%;z-index: -1;}#sk-container-id-8 div.sk-parallel-item {display: flex;flex-direction: column;z-index: 1;position: relative;background-color: white;}#sk-container-id-8 div.sk-parallel-item:first-child::after {align-self: flex-end;width: 50%;}#sk-container-id-8 div.sk-parallel-item:last-child::after {align-self: flex-start;width: 50%;}#sk-container-id-8 div.sk-parallel-item:only-child::after {width: 0;}#sk-container-id-8 div.sk-dashed-wrapped {border: 1px dashed gray;margin: 0 0.4em 0.5em 0.4em;box-sizing: border-box;padding-bottom: 0.4em;background-color: white;}#sk-container-id-8 div.sk-label label {font-family: monospace;font-weight: bold;display: inline-block;line-height: 1.2em;}#sk-container-id-8 div.sk-label-container {text-align: center;}#sk-container-id-8 div.sk-container {/* jupyter's `normalize.less` sets `[hidden] { display: none; }` but bootstrap.min.css set `[hidden] { display: none !important; }` so we also need the `!important` here to be able to override the default hidden behavior on the sphinx rendered scikit-learn.org. See: https://github.com/scikit-learn/scikit-learn/issues/21755 */display: inline-block !important;position: relative;}#sk-container-id-8 div.sk-text-repr-fallback {display: none;}</style><div id=\"sk-container-id-8\" class=\"sk-top-container\"><div class=\"sk-text-repr-fallback\"><pre>GridSearchCV(cv=5, estimator=Lasso(),\n",
       "             param_grid={&#x27;alpha&#x27;: [0.001, 0.01, 0.1, 1.0, 10.0]},\n",
       "             scoring=&#x27;neg_mean_squared_error&#x27;)</pre><b>In a Jupyter environment, please rerun this cell to show the HTML representation or trust the notebook. <br />On GitHub, the HTML representation is unable to render, please try loading this page with nbviewer.org.</b></div><div class=\"sk-container\" hidden><div class=\"sk-item sk-dashed-wrapped\"><div class=\"sk-label-container\"><div class=\"sk-label sk-toggleable\"><input class=\"sk-toggleable__control sk-hidden--visually\" id=\"sk-estimator-id-12\" type=\"checkbox\" ><label for=\"sk-estimator-id-12\" class=\"sk-toggleable__label sk-toggleable__label-arrow\">GridSearchCV</label><div class=\"sk-toggleable__content\"><pre>GridSearchCV(cv=5, estimator=Lasso(),\n",
       "             param_grid={&#x27;alpha&#x27;: [0.001, 0.01, 0.1, 1.0, 10.0]},\n",
       "             scoring=&#x27;neg_mean_squared_error&#x27;)</pre></div></div></div><div class=\"sk-parallel\"><div class=\"sk-parallel-item\"><div class=\"sk-item\"><div class=\"sk-label-container\"><div class=\"sk-label sk-toggleable\"><input class=\"sk-toggleable__control sk-hidden--visually\" id=\"sk-estimator-id-13\" type=\"checkbox\" ><label for=\"sk-estimator-id-13\" class=\"sk-toggleable__label sk-toggleable__label-arrow\">estimator: Lasso</label><div class=\"sk-toggleable__content\"><pre>Lasso()</pre></div></div></div><div class=\"sk-serial\"><div class=\"sk-item\"><div class=\"sk-estimator sk-toggleable\"><input class=\"sk-toggleable__control sk-hidden--visually\" id=\"sk-estimator-id-14\" type=\"checkbox\" ><label for=\"sk-estimator-id-14\" class=\"sk-toggleable__label sk-toggleable__label-arrow\">Lasso</label><div class=\"sk-toggleable__content\"><pre>Lasso()</pre></div></div></div></div></div></div></div></div></div></div>"
      ],
      "text/plain": [
       "GridSearchCV(cv=5, estimator=Lasso(),\n",
       "             param_grid={'alpha': [0.001, 0.01, 0.1, 1.0, 10.0]},\n",
       "             scoring='neg_mean_squared_error')"
      ]
     },
     "execution_count": 80,
     "metadata": {},
     "output_type": "execute_result"
    },
    {
     "data": {
      "text/html": [
       "<style>#sk-container-id-9 {color: black;}#sk-container-id-9 pre{padding: 0;}#sk-container-id-9 div.sk-toggleable {background-color: white;}#sk-container-id-9 label.sk-toggleable__label {cursor: pointer;display: block;width: 100%;margin-bottom: 0;padding: 0.3em;box-sizing: border-box;text-align: center;}#sk-container-id-9 label.sk-toggleable__label-arrow:before {content: \"▸\";float: left;margin-right: 0.25em;color: #696969;}#sk-container-id-9 label.sk-toggleable__label-arrow:hover:before {color: black;}#sk-container-id-9 div.sk-estimator:hover label.sk-toggleable__label-arrow:before {color: black;}#sk-container-id-9 div.sk-toggleable__content {max-height: 0;max-width: 0;overflow: hidden;text-align: left;background-color: #f0f8ff;}#sk-container-id-9 div.sk-toggleable__content pre {margin: 0.2em;color: black;border-radius: 0.25em;background-color: #f0f8ff;}#sk-container-id-9 input.sk-toggleable__control:checked~div.sk-toggleable__content {max-height: 200px;max-width: 100%;overflow: auto;}#sk-container-id-9 input.sk-toggleable__control:checked~label.sk-toggleable__label-arrow:before {content: \"▾\";}#sk-container-id-9 div.sk-estimator input.sk-toggleable__control:checked~label.sk-toggleable__label {background-color: #d4ebff;}#sk-container-id-9 div.sk-label input.sk-toggleable__control:checked~label.sk-toggleable__label {background-color: #d4ebff;}#sk-container-id-9 input.sk-hidden--visually {border: 0;clip: rect(1px 1px 1px 1px);clip: rect(1px, 1px, 1px, 1px);height: 1px;margin: -1px;overflow: hidden;padding: 0;position: absolute;width: 1px;}#sk-container-id-9 div.sk-estimator {font-family: monospace;background-color: #f0f8ff;border: 1px dotted black;border-radius: 0.25em;box-sizing: border-box;margin-bottom: 0.5em;}#sk-container-id-9 div.sk-estimator:hover {background-color: #d4ebff;}#sk-container-id-9 div.sk-parallel-item::after {content: \"\";width: 100%;border-bottom: 1px solid gray;flex-grow: 1;}#sk-container-id-9 div.sk-label:hover label.sk-toggleable__label {background-color: #d4ebff;}#sk-container-id-9 div.sk-serial::before {content: \"\";position: absolute;border-left: 1px solid gray;box-sizing: border-box;top: 0;bottom: 0;left: 50%;z-index: 0;}#sk-container-id-9 div.sk-serial {display: flex;flex-direction: column;align-items: center;background-color: white;padding-right: 0.2em;padding-left: 0.2em;position: relative;}#sk-container-id-9 div.sk-item {position: relative;z-index: 1;}#sk-container-id-9 div.sk-parallel {display: flex;align-items: stretch;justify-content: center;background-color: white;position: relative;}#sk-container-id-9 div.sk-item::before, #sk-container-id-9 div.sk-parallel-item::before {content: \"\";position: absolute;border-left: 1px solid gray;box-sizing: border-box;top: 0;bottom: 0;left: 50%;z-index: -1;}#sk-container-id-9 div.sk-parallel-item {display: flex;flex-direction: column;z-index: 1;position: relative;background-color: white;}#sk-container-id-9 div.sk-parallel-item:first-child::after {align-self: flex-end;width: 50%;}#sk-container-id-9 div.sk-parallel-item:last-child::after {align-self: flex-start;width: 50%;}#sk-container-id-9 div.sk-parallel-item:only-child::after {width: 0;}#sk-container-id-9 div.sk-dashed-wrapped {border: 1px dashed gray;margin: 0 0.4em 0.5em 0.4em;box-sizing: border-box;padding-bottom: 0.4em;background-color: white;}#sk-container-id-9 div.sk-label label {font-family: monospace;font-weight: bold;display: inline-block;line-height: 1.2em;}#sk-container-id-9 div.sk-label-container {text-align: center;}#sk-container-id-9 div.sk-container {/* jupyter's `normalize.less` sets `[hidden] { display: none; }` but bootstrap.min.css set `[hidden] { display: none !important; }` so we also need the `!important` here to be able to override the default hidden behavior on the sphinx rendered scikit-learn.org. See: https://github.com/scikit-learn/scikit-learn/issues/21755 */display: inline-block !important;position: relative;}#sk-container-id-9 div.sk-text-repr-fallback {display: none;}</style><div id=\"sk-container-id-9\" class=\"sk-top-container\"><div class=\"sk-text-repr-fallback\"><pre>Lasso(alpha=0.001)</pre><b>In a Jupyter environment, please rerun this cell to show the HTML representation or trust the notebook. <br />On GitHub, the HTML representation is unable to render, please try loading this page with nbviewer.org.</b></div><div class=\"sk-container\" hidden><div class=\"sk-item\"><div class=\"sk-estimator sk-toggleable\"><input class=\"sk-toggleable__control sk-hidden--visually\" id=\"sk-estimator-id-15\" type=\"checkbox\" checked><label for=\"sk-estimator-id-15\" class=\"sk-toggleable__label sk-toggleable__label-arrow\">Lasso</label><div class=\"sk-toggleable__content\"><pre>Lasso(alpha=0.001)</pre></div></div></div></div></div>"
      ],
      "text/plain": [
       "Lasso(alpha=0.001)"
      ]
     },
     "execution_count": 80,
     "metadata": {},
     "output_type": "execute_result"
    },
    {
     "name": "stdout",
     "output_type": "stream",
     "text": [
      "Best alpha (Grid Search): 0.001\n",
      "MSE with Grid Search: 8.148713380527052\n",
      "MAE withGrid Search: 2.416318306273955\n",
      "MAPE with Grid Search: 206.64744643491844\n",
      "R2 with Grid Search: -9.942398333555044\n",
      "Adjusted R-squared with Grid Search: 0.12039398193555884\n"
     ]
    }
   ],
   "source": [
    "#Finding optimal alpha to use in lasso \n",
    "alphas = [0.001, 0.01, 0.1, 1.0, 10.0]  \n",
    "lasso_model = Lasso()\n",
    "\n",
    "param_grid = {'alpha': alphas}\n",
    "\n",
    "grid_search_lasso = GridSearchCV(lasso_model, param_grid, cv=5, scoring='neg_mean_squared_error')\n",
    "grid_search_lasso.fit(X_train_encoded, y_train_normalised)\n",
    "\n",
    "best_alpha_grid_lasso = grid_search_lasso.best_params_['alpha']\n",
    "best_lasso_model_grid = Lasso(alpha=best_alpha_grid_lasso)\n",
    "\n",
    "best_lasso_model_grid.fit(X_train_encoded, y_train_normalised)\n",
    "y_pred_lasso_grid = best_lasso_model_grid.predict(X_test_encoded)\n",
    "\n",
    "y_pred_lasso_grid_actual = y_pred_lasso_grid * y_test_with_zones['TotalFootfallInZone']\n",
    "\n",
    "mse_lasso_grid = mean_squared_error(y_test, y_pred_lasso_grid_actual)\n",
    "mae_lasso_grid = mean_absolute_error(y_test, y_pred_lasso_grid_actual)\n",
    "mape_lasso_grid = 100 * np.mean(np.abs((y_test - y_pred_lasso_grid_actual) / y_test))\n",
    "r2_lasso_grid = r2_score(y_test, y_pred_lasso_grid_actual)\n",
    "n_samples = len(y_test)\n",
    "n_predictors = X_train_encoded.shape[1]\n",
    "adjusted_r2_lasso_grid = 1 - (1 - r2_lasso_grid) * ((n_samples - 1) / (n_samples - n_predictors - 1))\n",
    "\n",
    "print(\"Best alpha (Grid Search):\", best_alpha_grid_lasso)\n",
    "print(\"MSE with Grid Search:\", mse_lasso_grid)\n",
    "print(\"MAE withGrid Search:\", mae_lasso_grid)\n",
    "print(\"MAPE with Grid Search:\", mape_lasso_grid)\n",
    "print(\"R2 with Grid Search:\", r2_lasso_grid)\n",
    "print(\"Adjusted R-squared with Grid Search:\", adjusted_r2_linear_model)"
   ]
  },
  {
   "cell_type": "markdown",
   "id": "a626cd7a",
   "metadata": {},
   "source": [
    "Cross validation"
   ]
  },
  {
   "cell_type": "code",
   "execution_count": 81,
   "id": "b5cf776a",
   "metadata": {},
   "outputs": [
    {
     "name": "stdout",
     "output_type": "stream",
     "text": [
      "Cross-validation R-squared scores: [0.88222874 0.91603613 0.8661385  0.89151708 0.90839088]\n",
      "Mean R-squared score: 0.8928622670354992\n",
      "Standard deviation of R-squared scores: 0.01792878643224068\n"
     ]
    }
   ],
   "source": [
    "#Perform cv on entire training dataset\n",
    "cv_scores_linear_model = cross_val_score(linear_model, X_train_encoded, y_train_normalised, cv=5, scoring='r2')\n",
    "\n",
    "mean_cv_score_linear_model = np.mean(cv_scores_linear_model)\n",
    "std_cv_score_linear_model = np.std(cv_scores_linear_model)\n",
    "\n",
    "print(\"Cross-validation R-squared scores:\", cv_scores_linear_model)\n",
    "print(\"Mean R-squared score:\", mean_cv_score_linear_model)\n",
    "print(\"Standard deviation of R-squared scores:\", std_cv_score_linear_model)"
   ]
  },
  {
   "cell_type": "markdown",
   "id": "5799833d",
   "metadata": {},
   "source": [
    "Learning curve for linear regression model"
   ]
  },
  {
   "cell_type": "code",
   "execution_count": 82,
   "id": "1d585bb4",
   "metadata": {},
   "outputs": [
    {
     "data": {
      "text/plain": [
       "<Figure size 1000x600 with 0 Axes>"
      ]
     },
     "execution_count": 82,
     "metadata": {},
     "output_type": "execute_result"
    },
    {
     "data": {
      "text/plain": [
       "[<matplotlib.lines.Line2D at 0x26a8e7d2370>]"
      ]
     },
     "execution_count": 82,
     "metadata": {},
     "output_type": "execute_result"
    },
    {
     "data": {
      "text/plain": [
       "<matplotlib.collections.PolyCollection at 0x26a8e7e52b0>"
      ]
     },
     "execution_count": 82,
     "metadata": {},
     "output_type": "execute_result"
    },
    {
     "data": {
      "text/plain": [
       "[<matplotlib.lines.Line2D at 0x26a8e7d2910>]"
      ]
     },
     "execution_count": 82,
     "metadata": {},
     "output_type": "execute_result"
    },
    {
     "data": {
      "text/plain": [
       "<matplotlib.collections.PolyCollection at 0x26a8e7d2af0>"
      ]
     },
     "execution_count": 82,
     "metadata": {},
     "output_type": "execute_result"
    },
    {
     "data": {
      "text/plain": [
       "Text(0.5, 0, 'Number of Training Samples')"
      ]
     },
     "execution_count": 82,
     "metadata": {},
     "output_type": "execute_result"
    },
    {
     "data": {
      "text/plain": [
       "Text(0, 0.5, 'R-squared (R2)')"
      ]
     },
     "execution_count": 82,
     "metadata": {},
     "output_type": "execute_result"
    },
    {
     "data": {
      "text/plain": [
       "Text(0.5, 1.0, 'Learning Curve Linear Regression model')"
      ]
     },
     "execution_count": 82,
     "metadata": {},
     "output_type": "execute_result"
    },
    {
     "data": {
      "text/plain": [
       "<matplotlib.legend.Legend at 0x26a8e7e5160>"
      ]
     },
     "execution_count": 82,
     "metadata": {},
     "output_type": "execute_result"
    },
    {
     "data": {
      "image/png": "[encoded data removed]",
      "text/plain": [
       "<Figure size 1000x600 with 1 Axes>"
      ]
     },
     "metadata": {},
     "output_type": "display_data"
    }
   ],
   "source": [
    "#Learning curve using the test set as the validation set\n",
    "train_sizes, train_scores, test_scores = learning_curve(\n",
    "    linear_model, X_train_encoded, y_train, train_sizes=np.linspace(0.1, 1.0, 10), cv=5,\n",
    "    scoring='r2', random_state=42\n",
    ")\n",
    "\n",
    "train_mean = np.mean(train_scores, axis=1)\n",
    "train_std = np.std(train_scores, axis=1)\n",
    "test_mean = np.mean(test_scores, axis=1)\n",
    "test_std = np.std(test_scores, axis=1)\n",
    "\n",
    "plt.figure(figsize=(10, 6))\n",
    "plt.plot(train_sizes, train_mean, label='Training R2')\n",
    "plt.fill_between(train_sizes, train_mean - train_std, train_mean + train_std, alpha=0.3)\n",
    "plt.plot(train_sizes, test_mean, label='Test R2')\n",
    "plt.fill_between(train_sizes, test_mean - test_std, test_mean + test_std, alpha=0.3)\n",
    "plt.xlabel('Number of Training Samples')\n",
    "plt.ylabel('R-squared (R2)')\n",
    "plt.title('Learning Curve Linear Regression model')\n",
    "plt.legend()\n",
    "plt.grid()\n",
    "plt.show()"
   ]
  },
  {
   "cell_type": "code",
   "execution_count": 83,
   "id": "097fd96d",
   "metadata": {},
   "outputs": [
    {
     "data": {
      "text/plain": [
       "<Figure size 800x600 with 0 Axes>"
      ]
     },
     "execution_count": 83,
     "metadata": {},
     "output_type": "execute_result"
    },
    {
     "data": {
      "text/plain": [
       "<matplotlib.collections.PathCollection at 0x26a89cbaca0>"
      ]
     },
     "execution_count": 83,
     "metadata": {},
     "output_type": "execute_result"
    },
    {
     "data": {
      "text/plain": [
       "[<matplotlib.lines.Line2D at 0x26a89ca32e0>]"
      ]
     },
     "execution_count": 83,
     "metadata": {},
     "output_type": "execute_result"
    },
    {
     "data": {
      "text/plain": [
       "Text(0.5, 0, 'Actual Footfall')"
      ]
     },
     "execution_count": 83,
     "metadata": {},
     "output_type": "execute_result"
    },
    {
     "data": {
      "text/plain": [
       "Text(0, 0.5, 'Predicted Footfall')"
      ]
     },
     "execution_count": 83,
     "metadata": {},
     "output_type": "execute_result"
    },
    {
     "data": {
      "text/plain": [
       "Text(0.5, 1.0, 'Actual vs. Predicted Footfall (Linear Regression Model)')"
      ]
     },
     "execution_count": 83,
     "metadata": {},
     "output_type": "execute_result"
    },
    {
     "data": {
      "image/png": "[encoded data removed]",
      "text/plain": [
       "<Figure size 800x600 with 1 Axes>"
      ]
     },
     "metadata": {},
     "output_type": "display_data"
    }
   ],
   "source": [
    "#Visualise\n",
    "plt.figure(figsize=(8, 6))\n",
    "plt.scatter(y_test, y_pred_linear_model_actual, alpha=0.5, color='#5BAEB7')\n",
    "plt.plot([y_test.min(), y_test.max()], [y_test.min(), y_test.max()], color='red', linestyle='--')\n",
    "\n",
    "plt.xlabel(\"Actual Footfall\")\n",
    "plt.ylabel(\"Predicted Footfall\")\n",
    "plt.title(\"Actual vs. Predicted Footfall (Linear Regression Model)\")\n",
    "plt.gca().spines['top'].set_visible(False)\n",
    "plt.gca().spines['right'].set_visible(False)\n",
    "\n",
    "plt.show()"
   ]
  },
  {
   "cell_type": "markdown",
   "id": "dd4f509f",
   "metadata": {},
   "source": [
    "## Decision tree"
   ]
  },
  {
   "cell_type": "code",
   "execution_count": 55,
   "id": "e34729e6",
   "metadata": {},
   "outputs": [
    {
     "data": {
      "text/html": [
       "<style>#sk-container-id-2 {color: black;}#sk-container-id-2 pre{padding: 0;}#sk-container-id-2 div.sk-toggleable {background-color: white;}#sk-container-id-2 label.sk-toggleable__label {cursor: pointer;display: block;width: 100%;margin-bottom: 0;padding: 0.3em;box-sizing: border-box;text-align: center;}#sk-container-id-2 label.sk-toggleable__label-arrow:before {content: \"▸\";float: left;margin-right: 0.25em;color: #696969;}#sk-container-id-2 label.sk-toggleable__label-arrow:hover:before {color: black;}#sk-container-id-2 div.sk-estimator:hover label.sk-toggleable__label-arrow:before {color: black;}#sk-container-id-2 div.sk-toggleable__content {max-height: 0;max-width: 0;overflow: hidden;text-align: left;background-color: #f0f8ff;}#sk-container-id-2 div.sk-toggleable__content pre {margin: 0.2em;color: black;border-radius: 0.25em;background-color: #f0f8ff;}#sk-container-id-2 input.sk-toggleable__control:checked~div.sk-toggleable__content {max-height: 200px;max-width: 100%;overflow: auto;}#sk-container-id-2 input.sk-toggleable__control:checked~label.sk-toggleable__label-arrow:before {content: \"▾\";}#sk-container-id-2 div.sk-estimator input.sk-toggleable__control:checked~label.sk-toggleable__label {background-color: #d4ebff;}#sk-container-id-2 div.sk-label input.sk-toggleable__control:checked~label.sk-toggleable__label {background-color: #d4ebff;}#sk-container-id-2 input.sk-hidden--visually {border: 0;clip: rect(1px 1px 1px 1px);clip: rect(1px, 1px, 1px, 1px);height: 1px;margin: -1px;overflow: hidden;padding: 0;position: absolute;width: 1px;}#sk-container-id-2 div.sk-estimator {font-family: monospace;background-color: #f0f8ff;border: 1px dotted black;border-radius: 0.25em;box-sizing: border-box;margin-bottom: 0.5em;}#sk-container-id-2 div.sk-estimator:hover {background-color: #d4ebff;}#sk-container-id-2 div.sk-parallel-item::after {content: \"\";width: 100%;border-bottom: 1px solid gray;flex-grow: 1;}#sk-container-id-2 div.sk-label:hover label.sk-toggleable__label {background-color: #d4ebff;}#sk-container-id-2 div.sk-serial::before {content: \"\";position: absolute;border-left: 1px solid gray;box-sizing: border-box;top: 0;bottom: 0;left: 50%;z-index: 0;}#sk-container-id-2 div.sk-serial {display: flex;flex-direction: column;align-items: center;background-color: white;padding-right: 0.2em;padding-left: 0.2em;position: relative;}#sk-container-id-2 div.sk-item {position: relative;z-index: 1;}#sk-container-id-2 div.sk-parallel {display: flex;align-items: stretch;justify-content: center;background-color: white;position: relative;}#sk-container-id-2 div.sk-item::before, #sk-container-id-2 div.sk-parallel-item::before {content: \"\";position: absolute;border-left: 1px solid gray;box-sizing: border-box;top: 0;bottom: 0;left: 50%;z-index: -1;}#sk-container-id-2 div.sk-parallel-item {display: flex;flex-direction: column;z-index: 1;position: relative;background-color: white;}#sk-container-id-2 div.sk-parallel-item:first-child::after {align-self: flex-end;width: 50%;}#sk-container-id-2 div.sk-parallel-item:last-child::after {align-self: flex-start;width: 50%;}#sk-container-id-2 div.sk-parallel-item:only-child::after {width: 0;}#sk-container-id-2 div.sk-dashed-wrapped {border: 1px dashed gray;margin: 0 0.4em 0.5em 0.4em;box-sizing: border-box;padding-bottom: 0.4em;background-color: white;}#sk-container-id-2 div.sk-label label {font-family: monospace;font-weight: bold;display: inline-block;line-height: 1.2em;}#sk-container-id-2 div.sk-label-container {text-align: center;}#sk-container-id-2 div.sk-container {/* jupyter's `normalize.less` sets `[hidden] { display: none; }` but bootstrap.min.css set `[hidden] { display: none !important; }` so we also need the `!important` here to be able to override the default hidden behavior on the sphinx rendered scikit-learn.org. See: https://github.com/scikit-learn/scikit-learn/issues/21755 */display: inline-block !important;position: relative;}#sk-container-id-2 div.sk-text-repr-fallback {display: none;}</style><div id=\"sk-container-id-2\" class=\"sk-top-container\"><div class=\"sk-text-repr-fallback\"><pre>DecisionTreeRegressor(random_state=42)</pre><b>In a Jupyter environment, please rerun this cell to show the HTML representation or trust the notebook. <br />On GitHub, the HTML representation is unable to render, please try loading this page with nbviewer.org.</b></div><div class=\"sk-container\" hidden><div class=\"sk-item\"><div class=\"sk-estimator sk-toggleable\"><input class=\"sk-toggleable__control sk-hidden--visually\" id=\"sk-estimator-id-2\" type=\"checkbox\" checked><label for=\"sk-estimator-id-2\" class=\"sk-toggleable__label sk-toggleable__label-arrow\">DecisionTreeRegressor</label><div class=\"sk-toggleable__content\"><pre>DecisionTreeRegressor(random_state=42)</pre></div></div></div></div></div>"
      ],
      "text/plain": [
       "DecisionTreeRegressor(random_state=42)"
      ]
     },
     "execution_count": 55,
     "metadata": {},
     "output_type": "execute_result"
    }
   ],
   "source": [
    "dt_model = DecisionTreeRegressor(random_state=42)\n",
    "\n",
    "#Fit model\n",
    "dt_model.fit(X_train_encoded, y_train_normalised)"
   ]
  },
  {
   "cell_type": "code",
   "execution_count": 56,
   "id": "96be80d9",
   "metadata": {},
   "outputs": [],
   "source": [
    "#Predictions on test data\n",
    "y_pred_dt_model = dt_model.predict(X_test_encoded)"
   ]
  },
  {
   "cell_type": "code",
   "execution_count": 57,
   "id": "ace53d33",
   "metadata": {},
   "outputs": [],
   "source": [
    "#Reverse scaling\n",
    "y_pred_dt_model_actual = y_pred_dt_model * y_test_with_zones['TotalFootfallInZone']"
   ]
  },
  {
   "cell_type": "code",
   "execution_count": 58,
   "id": "432daed8",
   "metadata": {},
   "outputs": [
    {
     "name": "stdout",
     "output_type": "stream",
     "text": [
      "Mean Squared Error (MSE): 0.04152263181495578\n",
      "Mean Absolute Error (MAE): 0.03368311963047717\n",
      "Mean Absolute Percentage Error (MAPE): 2.238298666443367\n",
      "R-squared (R2): 0.9442418507119704\n",
      "Adjusted R-squared: 0.9430537434674782\n"
     ]
    }
   ],
   "source": [
    "#Evaluation metrics\n",
    "mse_dt_model = mean_squared_error(y_test, y_pred_dt_model_actual)\n",
    "mae_dt_model = mean_absolute_error(y_test, y_pred_dt_model_actual)\n",
    "mape_dt_model = 100 * np.mean(np.abs((y_test - y_pred_dt_model_actual) / y_test))\n",
    "r2_dt_model = r2_score(y_test, y_pred_dt_model_actual)\n",
    "n_samples = len(y_test)\n",
    "n_predictors = X_train_encoded.shape[1]\n",
    "adjusted_r2_dt_model = 1 - (1 - r2_dt_model) * ((n_samples - 1) / (n_samples - n_predictors - 1))\n",
    "\n",
    "print(\"Mean Squared Error (MSE):\", mse_dt_model)\n",
    "print(\"Mean Absolute Error (MAE):\", mae_dt_model)\n",
    "print(\"Mean Absolute Percentage Error (MAPE):\", mape_dt_model)\n",
    "print(\"R-squared (R2):\", r2_dt_model)\n",
    "print(\"Adjusted R-squared:\", adjusted_r2_dt_model)"
   ]
  },
  {
   "cell_type": "code",
   "execution_count": 59,
   "id": "9024876e",
   "metadata": {},
   "outputs": [
    {
     "data": {
      "text/plain": [
       "<Figure size 600x400 with 0 Axes>"
      ]
     },
     "execution_count": 59,
     "metadata": {},
     "output_type": "execute_result"
    },
    {
     "data": {
      "text/plain": [
       "<matplotlib.collections.PathCollection at 0x189667c5af0>"
      ]
     },
     "execution_count": 59,
     "metadata": {},
     "output_type": "execute_result"
    },
    {
     "data": {
      "text/plain": [
       "[<matplotlib.lines.Line2D at 0x189667c5280>]"
      ]
     },
     "execution_count": 59,
     "metadata": {},
     "output_type": "execute_result"
    },
    {
     "data": {
      "text/plain": [
       "Text(0.5, 0, 'Actual Footfall')"
      ]
     },
     "execution_count": 59,
     "metadata": {},
     "output_type": "execute_result"
    },
    {
     "data": {
      "text/plain": [
       "Text(0, 0.5, 'Predicted Footfall')"
      ]
     },
     "execution_count": 59,
     "metadata": {},
     "output_type": "execute_result"
    },
    {
     "data": {
      "text/plain": [
       "Text(0.5, 1.0, 'Actual vs. Predicted Unbalanced Footfall (Decision Tree Model)')"
      ]
     },
     "execution_count": 59,
     "metadata": {},
     "output_type": "execute_result"
    },
    {
     "data": {
      "image/png": "[encoded data removed]",
      "text/plain": [
       "<Figure size 600x400 with 1 Axes>"
      ]
     },
     "metadata": {},
     "output_type": "display_data"
    }
   ],
   "source": [
    "#Visualise\n",
    "plt.figure(figsize=(6, 4))\n",
    "plt.scatter(y_test, y_pred_dt_model_actual, alpha=0.5, color='#5BAEB7')\n",
    "plt.plot([y_test.min(), y_test.max()], [y_test.min(), y_test.max()], color='red', linestyle='--')\n",
    "\n",
    "plt.xlabel(\"Actual Footfall\")\n",
    "plt.ylabel(\"Predicted Footfall\")\n",
    "plt.title(\"Actual vs. Predicted Unbalanced Footfall (Decision Tree Model)\")\n",
    "\n",
    "plt.gca().spines['top'].set_visible(False)\n",
    "plt.gca().spines['right'].set_visible(False)\n",
    "plt.tight_layout()\n",
    "\n",
    "plt.savefig('actualvspredictedbasemodel_dt_unbalanced.png')\n",
    "plt.show()"
   ]
  },
  {
   "cell_type": "markdown",
   "id": "40b4ec79",
   "metadata": {},
   "source": [
    "Hyperparameter tuning"
   ]
  },
  {
   "cell_type": "code",
   "execution_count": 88,
   "id": "2287403d",
   "metadata": {},
   "outputs": [
    {
     "data": {
      "text/html": [
       "<style>#sk-container-id-11 {color: black;}#sk-container-id-11 pre{padding: 0;}#sk-container-id-11 div.sk-toggleable {background-color: white;}#sk-container-id-11 label.sk-toggleable__label {cursor: pointer;display: block;width: 100%;margin-bottom: 0;padding: 0.3em;box-sizing: border-box;text-align: center;}#sk-container-id-11 label.sk-toggleable__label-arrow:before {content: \"▸\";float: left;margin-right: 0.25em;color: #696969;}#sk-container-id-11 label.sk-toggleable__label-arrow:hover:before {color: black;}#sk-container-id-11 div.sk-estimator:hover label.sk-toggleable__label-arrow:before {color: black;}#sk-container-id-11 div.sk-toggleable__content {max-height: 0;max-width: 0;overflow: hidden;text-align: left;background-color: #f0f8ff;}#sk-container-id-11 div.sk-toggleable__content pre {margin: 0.2em;color: black;border-radius: 0.25em;background-color: #f0f8ff;}#sk-container-id-11 input.sk-toggleable__control:checked~div.sk-toggleable__content {max-height: 200px;max-width: 100%;overflow: auto;}#sk-container-id-11 input.sk-toggleable__control:checked~label.sk-toggleable__label-arrow:before {content: \"▾\";}#sk-container-id-11 div.sk-estimator input.sk-toggleable__control:checked~label.sk-toggleable__label {background-color: #d4ebff;}#sk-container-id-11 div.sk-label input.sk-toggleable__control:checked~label.sk-toggleable__label {background-color: #d4ebff;}#sk-container-id-11 input.sk-hidden--visually {border: 0;clip: rect(1px 1px 1px 1px);clip: rect(1px, 1px, 1px, 1px);height: 1px;margin: -1px;overflow: hidden;padding: 0;position: absolute;width: 1px;}#sk-container-id-11 div.sk-estimator {font-family: monospace;background-color: #f0f8ff;border: 1px dotted black;border-radius: 0.25em;box-sizing: border-box;margin-bottom: 0.5em;}#sk-container-id-11 div.sk-estimator:hover {background-color: #d4ebff;}#sk-container-id-11 div.sk-parallel-item::after {content: \"\";width: 100%;border-bottom: 1px solid gray;flex-grow: 1;}#sk-container-id-11 div.sk-label:hover label.sk-toggleable__label {background-color: #d4ebff;}#sk-container-id-11 div.sk-serial::before {content: \"\";position: absolute;border-left: 1px solid gray;box-sizing: border-box;top: 0;bottom: 0;left: 50%;z-index: 0;}#sk-container-id-11 div.sk-serial {display: flex;flex-direction: column;align-items: center;background-color: white;padding-right: 0.2em;padding-left: 0.2em;position: relative;}#sk-container-id-11 div.sk-item {position: relative;z-index: 1;}#sk-container-id-11 div.sk-parallel {display: flex;align-items: stretch;justify-content: center;background-color: white;position: relative;}#sk-container-id-11 div.sk-item::before, #sk-container-id-11 div.sk-parallel-item::before {content: \"\";position: absolute;border-left: 1px solid gray;box-sizing: border-box;top: 0;bottom: 0;left: 50%;z-index: -1;}#sk-container-id-11 div.sk-parallel-item {display: flex;flex-direction: column;z-index: 1;position: relative;background-color: white;}#sk-container-id-11 div.sk-parallel-item:first-child::after {align-self: flex-end;width: 50%;}#sk-container-id-11 div.sk-parallel-item:last-child::after {align-self: flex-start;width: 50%;}#sk-container-id-11 div.sk-parallel-item:only-child::after {width: 0;}#sk-container-id-11 div.sk-dashed-wrapped {border: 1px dashed gray;margin: 0 0.4em 0.5em 0.4em;box-sizing: border-box;padding-bottom: 0.4em;background-color: white;}#sk-container-id-11 div.sk-label label {font-family: monospace;font-weight: bold;display: inline-block;line-height: 1.2em;}#sk-container-id-11 div.sk-label-container {text-align: center;}#sk-container-id-11 div.sk-container {/* jupyter's `normalize.less` sets `[hidden] { display: none; }` but bootstrap.min.css set `[hidden] { display: none !important; }` so we also need the `!important` here to be able to override the default hidden behavior on the sphinx rendered scikit-learn.org. See: https://github.com/scikit-learn/scikit-learn/issues/21755 */display: inline-block !important;position: relative;}#sk-container-id-11 div.sk-text-repr-fallback {display: none;}</style><div id=\"sk-container-id-11\" class=\"sk-top-container\"><div class=\"sk-text-repr-fallback\"><pre>GridSearchCV(cv=5, estimator=DecisionTreeRegressor(random_state=42),\n",
       "             param_grid={&#x27;max_depth&#x27;: [None, 10, 20, 30],\n",
       "                         &#x27;min_samples_leaf&#x27;: [1, 2, 5],\n",
       "                         &#x27;min_samples_split&#x27;: [2, 5, 10]},\n",
       "             scoring=&#x27;r2&#x27;)</pre><b>In a Jupyter environment, please rerun this cell to show the HTML representation or trust the notebook. <br />On GitHub, the HTML representation is unable to render, please try loading this page with nbviewer.org.</b></div><div class=\"sk-container\" hidden><div class=\"sk-item sk-dashed-wrapped\"><div class=\"sk-label-container\"><div class=\"sk-label sk-toggleable\"><input class=\"sk-toggleable__control sk-hidden--visually\" id=\"sk-estimator-id-17\" type=\"checkbox\" ><label for=\"sk-estimator-id-17\" class=\"sk-toggleable__label sk-toggleable__label-arrow\">GridSearchCV</label><div class=\"sk-toggleable__content\"><pre>GridSearchCV(cv=5, estimator=DecisionTreeRegressor(random_state=42),\n",
       "             param_grid={&#x27;max_depth&#x27;: [None, 10, 20, 30],\n",
       "                         &#x27;min_samples_leaf&#x27;: [1, 2, 5],\n",
       "                         &#x27;min_samples_split&#x27;: [2, 5, 10]},\n",
       "             scoring=&#x27;r2&#x27;)</pre></div></div></div><div class=\"sk-parallel\"><div class=\"sk-parallel-item\"><div class=\"sk-item\"><div class=\"sk-label-container\"><div class=\"sk-label sk-toggleable\"><input class=\"sk-toggleable__control sk-hidden--visually\" id=\"sk-estimator-id-18\" type=\"checkbox\" ><label for=\"sk-estimator-id-18\" class=\"sk-toggleable__label sk-toggleable__label-arrow\">estimator: DecisionTreeRegressor</label><div class=\"sk-toggleable__content\"><pre>DecisionTreeRegressor(random_state=42)</pre></div></div></div><div class=\"sk-serial\"><div class=\"sk-item\"><div class=\"sk-estimator sk-toggleable\"><input class=\"sk-toggleable__control sk-hidden--visually\" id=\"sk-estimator-id-19\" type=\"checkbox\" ><label for=\"sk-estimator-id-19\" class=\"sk-toggleable__label sk-toggleable__label-arrow\">DecisionTreeRegressor</label><div class=\"sk-toggleable__content\"><pre>DecisionTreeRegressor(random_state=42)</pre></div></div></div></div></div></div></div></div></div></div>"
      ],
      "text/plain": [
       "GridSearchCV(cv=5, estimator=DecisionTreeRegressor(random_state=42),\n",
       "             param_grid={'max_depth': [None, 10, 20, 30],\n",
       "                         'min_samples_leaf': [1, 2, 5],\n",
       "                         'min_samples_split': [2, 5, 10]},\n",
       "             scoring='r2')"
      ]
     },
     "execution_count": 88,
     "metadata": {},
     "output_type": "execute_result"
    }
   ],
   "source": [
    "random.seed(42)\n",
    "np.random.seed(42)\n",
    "\n",
    "param_grid = {\n",
    "    'max_depth': [None, 10, 20, 30],\n",
    "    'min_samples_split': [2, 5, 10],\n",
    "    'min_samples_leaf': [1, 2, 5]\n",
    "}\n",
    "\n",
    "grid_search_dt = GridSearchCV(dt_model, param_grid, cv=5, scoring='r2')\n",
    "\n",
    "grid_search_dt.fit(X_train_encoded, y_train_normalised)\n",
    "\n",
    "best_params_dt = grid_search_dt.best_params_\n",
    "best_model_dt = grid_search_dt.best_estimator_\n"
   ]
  },
  {
   "cell_type": "code",
   "execution_count": 89,
   "id": "d3398baf",
   "metadata": {},
   "outputs": [
    {
     "data": {
      "text/plain": [
       "{'max_depth': None, 'min_samples_leaf': 1, 'min_samples_split': 2}"
      ]
     },
     "execution_count": 89,
     "metadata": {},
     "output_type": "execute_result"
    }
   ],
   "source": [
    "best_params_dt"
   ]
  },
  {
   "cell_type": "markdown",
   "id": "7e4f13d7",
   "metadata": {},
   "source": [
    "Cross validation"
   ]
  },
  {
   "cell_type": "code",
   "execution_count": 90,
   "id": "4a7c50c5",
   "metadata": {},
   "outputs": [
    {
     "name": "stdout",
     "output_type": "stream",
     "text": [
      "Cross-validation R-squared scores: [0.99432322 0.98656175 0.95353486 0.97931478 0.98074927]\n",
      "Mean R-squared score: 0.9788967739574256\n",
      "Standard deviation of R-squared scores: 0.01373725096466024\n"
     ]
    }
   ],
   "source": [
    "#Perform cv on entire training dataset\n",
    "cv_scores_dt = cross_val_score(best_model_dt, X_train_encoded, y_train_normalised, cv=5, scoring='r2')\n",
    "\n",
    "mean_cv_score_dt = np.mean(cv_scores_dt)\n",
    "std_cv_score_dt = np.std(cv_scores_dt)\n",
    "\n",
    "print(\"Cross-validation R-squared scores:\", cv_scores_dt)\n",
    "print(\"Mean R-squared score:\", mean_cv_score_dt)\n",
    "print(\"Standard deviation of R-squared scores:\", std_cv_score_dt)"
   ]
  },
  {
   "cell_type": "markdown",
   "id": "12efcdd3",
   "metadata": {},
   "source": [
    "Learning curve for decision tree"
   ]
  },
  {
   "cell_type": "code",
   "execution_count": 91,
   "id": "1836c2a8",
   "metadata": {},
   "outputs": [
    {
     "data": {
      "text/plain": [
       "<Figure size 1000x600 with 0 Axes>"
      ]
     },
     "execution_count": 91,
     "metadata": {},
     "output_type": "execute_result"
    },
    {
     "data": {
      "text/plain": [
       "[<matplotlib.lines.Line2D at 0x26a8e818040>]"
      ]
     },
     "execution_count": 91,
     "metadata": {},
     "output_type": "execute_result"
    },
    {
     "data": {
      "text/plain": [
       "<matplotlib.collections.PolyCollection at 0x26a8e802dc0>"
      ]
     },
     "execution_count": 91,
     "metadata": {},
     "output_type": "execute_result"
    },
    {
     "data": {
      "text/plain": [
       "[<matplotlib.lines.Line2D at 0x26a8e8185b0>]"
      ]
     },
     "execution_count": 91,
     "metadata": {},
     "output_type": "execute_result"
    },
    {
     "data": {
      "text/plain": [
       "<matplotlib.collections.PolyCollection at 0x26a8e818340>"
      ]
     },
     "execution_count": 91,
     "metadata": {},
     "output_type": "execute_result"
    },
    {
     "data": {
      "text/plain": [
       "Text(0.5, 0, 'Number of Training Samples')"
      ]
     },
     "execution_count": 91,
     "metadata": {},
     "output_type": "execute_result"
    },
    {
     "data": {
      "text/plain": [
       "Text(0, 0.5, 'R-squared (R2)')"
      ]
     },
     "execution_count": 91,
     "metadata": {},
     "output_type": "execute_result"
    },
    {
     "data": {
      "text/plain": [
       "Text(0.5, 1.0, 'Learning Curve Decision tree')"
      ]
     },
     "execution_count": 91,
     "metadata": {},
     "output_type": "execute_result"
    },
    {
     "data": {
      "text/plain": [
       "<matplotlib.legend.Legend at 0x26a8e6524f0>"
      ]
     },
     "execution_count": 91,
     "metadata": {},
     "output_type": "execute_result"
    },
    {
     "data": {
      "image/png": "[encoded data removed]",
      "text/plain": [
       "<Figure size 1000x600 with 1 Axes>"
      ]
     },
     "metadata": {},
     "output_type": "display_data"
    }
   ],
   "source": [
    "#Learning curve using the test set as the validation set\n",
    "train_sizes, train_scores, test_scores = learning_curve(\n",
    "    best_model_dt, X_train_encoded, y_train, train_sizes=np.linspace(0.1, 1.0, 10), cv=5,\n",
    "    scoring='r2', random_state=42\n",
    ")\n",
    "\n",
    "train_mean = np.mean(train_scores, axis=1)\n",
    "train_std = np.std(train_scores, axis=1)\n",
    "test_mean = np.mean(test_scores, axis=1)\n",
    "test_std = np.std(test_scores, axis=1)\n",
    "\n",
    "plt.figure(figsize=(10, 6))\n",
    "plt.plot(train_sizes, train_mean, label='Training R2')\n",
    "plt.fill_between(train_sizes, train_mean - train_std, train_mean + train_std, alpha=0.3)\n",
    "plt.plot(train_sizes, test_mean, label='Test R2')\n",
    "plt.fill_between(train_sizes, test_mean - test_std, test_mean + test_std, alpha=0.3)\n",
    "plt.xlabel('Number of Training Samples')\n",
    "plt.ylabel('R-squared (R2)')\n",
    "plt.title('Learning Curve Decision tree')\n",
    "plt.legend()\n",
    "plt.grid()\n",
    "plt.show()"
   ]
  },
  {
   "cell_type": "code",
   "execution_count": 92,
   "id": "988d6b80",
   "metadata": {},
   "outputs": [
    {
     "name": "stdout",
     "output_type": "stream",
     "text": [
      "Mean Squared Error (MSE): 0.04152263181495578\n",
      "Mean Absolute Error (MAE): 0.03368311963047717\n",
      "Mean Absolute Percentage Error (MAPE): 2.238298666443367\n",
      "R-squared (R2): 0.9442418507119704\n",
      "Adjusted R-squared: 0.9430537434674782\n"
     ]
    }
   ],
   "source": [
    "#Predictions on test data using best model for hyperparameter tuning \n",
    "y_pred_dt_model_normalised_final = best_model_dt.predict(X_test_encoded)\n",
    "\n",
    "#Reverse scaling\n",
    "y_pred_dt_model_actual_final = y_pred_dt_model_normalised_final * y_test_with_zones['TotalFootfallInZone']\n",
    "\n",
    "#Evaluate model\n",
    "mse_dt_model_final = mean_squared_error(y_test, y_pred_dt_model_actual_final)\n",
    "mae_dt_model_final = mean_absolute_error(y_test, y_pred_dt_model_actual_final)\n",
    "mape_dt_model_final = 100 * np.mean(np.abs((y_test - y_pred_dt_model_actual_final) / y_test))\n",
    "r2_dt_model_final = r2_score(y_test, y_pred_dt_model_actual_final)\n",
    "n_samples = len(y_test)\n",
    "n_predictors = X_train_encoded.shape[1]\n",
    "adjusted_r2_dt_model_final = 1 - (1 - r2_dt_model_final) * ((n_samples - 1) / (n_samples - n_predictors - 1))\n",
    "\n",
    "\n",
    "print(\"Mean Squared Error (MSE):\", mse_dt_model_final)\n",
    "print(\"Mean Absolute Error (MAE):\", mae_dt_model_final)\n",
    "print(\"Mean Absolute Percentage Error (MAPE):\", mape_dt_model_final)\n",
    "print(\"R-squared (R2):\", r2_dt_model_final)\n",
    "print(\"Adjusted R-squared:\", adjusted_r2_dt_model_final)"
   ]
  },
  {
   "cell_type": "code",
   "execution_count": 93,
   "id": "00f0247b",
   "metadata": {},
   "outputs": [
    {
     "data": {
      "text/plain": [
       "<Figure size 800x600 with 0 Axes>"
      ]
     },
     "execution_count": 93,
     "metadata": {},
     "output_type": "execute_result"
    },
    {
     "data": {
      "text/plain": [
       "<matplotlib.collections.PathCollection at 0x26a8ed28790>"
      ]
     },
     "execution_count": 93,
     "metadata": {},
     "output_type": "execute_result"
    },
    {
     "data": {
      "text/plain": [
       "[<matplotlib.lines.Line2D at 0x26a8ed28be0>]"
      ]
     },
     "execution_count": 93,
     "metadata": {},
     "output_type": "execute_result"
    },
    {
     "data": {
      "text/plain": [
       "Text(0.5, 0, 'Actual Footfall')"
      ]
     },
     "execution_count": 93,
     "metadata": {},
     "output_type": "execute_result"
    },
    {
     "data": {
      "text/plain": [
       "Text(0, 0.5, 'Predicted Footfall')"
      ]
     },
     "execution_count": 93,
     "metadata": {},
     "output_type": "execute_result"
    },
    {
     "data": {
      "text/plain": [
       "Text(0.5, 1.0, 'Actual vs. Predicted Footfall (Decision Tree Model)')"
      ]
     },
     "execution_count": 93,
     "metadata": {},
     "output_type": "execute_result"
    },
    {
     "data": {
      "image/png": "[encoded data removed]",
      "text/plain": [
       "<Figure size 800x600 with 1 Axes>"
      ]
     },
     "metadata": {},
     "output_type": "display_data"
    }
   ],
   "source": [
    "#Visualise\n",
    "plt.figure(figsize=(8, 6))\n",
    "plt.scatter(y_test, y_pred_dt_model_actual_final, alpha=0.5, color='#5BAEB7')\n",
    "plt.plot([y_test.min(), y_test.max()], [y_test.min(), y_test.max()], color='red', linestyle='--')\n",
    "\n",
    "plt.xlabel(\"Actual Footfall\")\n",
    "plt.ylabel(\"Predicted Footfall\")\n",
    "plt.title(\"Actual vs. Predicted Footfall (Decision Tree Model)\")\n",
    "plt.gca().spines['top'].set_visible(False)\n",
    "plt.gca().spines['right'].set_visible(False)\n",
    "\n",
    "plt.show()"
   ]
  },
  {
   "cell_type": "code",
   "execution_count": null,
   "id": "906ce18c",
   "metadata": {},
   "outputs": [],
   "source": []
  }
 ],
 "metadata": {
  "kernelspec": {
   "display_name": "Python 3",
   "language": "python",
   "name": "python3"
  },
  "language_info": {
   "codemirror_mode": {
    "name": "ipython",
    "version": 3
   },
   "file_extension": ".py",
   "mimetype": "text/x-python",
   "name": "python",
   "nbconvert_exporter": "python",
   "pygments_lexer": "ipython3",
   "version": "3.9.12"
  }
 },
 "nbformat": 4,
 "nbformat_minor": 5
}
